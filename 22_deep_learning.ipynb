{
  "cells": [
    {
      "cell_type": "code",
      "execution_count": 1,
      "metadata": {
        "colab": {
          "base_uri": "https://localhost:8080/"
        },
        "id": "MHdyPPL_2_pc",
        "outputId": "dd548177-f813-4f89-95c7-72d5ead24215"
      },
      "outputs": [
        {
          "name": "stdout",
          "output_type": "stream",
          "text": [
            "3.10.12\n",
            "2.0.1+cu118\n",
            "True\n"
          ]
        }
      ],
      "source": [
        "import torch\n",
        "from platform import python_version\n",
        "print(python_version())\n",
        "print(torch.__version__)\n",
        "print(torch.cuda.is_available())"
      ]
    },
    {
      "cell_type": "code",
      "execution_count": 2,
      "metadata": {
        "colab": {
          "base_uri": "https://localhost:8080/"
        },
        "id": "cF_dn7QW38zC",
        "outputId": "786e8ef5-189d-4527-8c46-abc5ed493ee8"
      },
      "outputs": [
        {
          "name": "stdout",
          "output_type": "stream",
          "text": [
            "tensor([[1, 2, 3],\n",
            "        [4, 5, 6]]) \n",
            " torch.Size([2, 3]) \n",
            " torch.int64 \n",
            " cpu \n",
            " torch.LongTensor \n",
            " 2 \n",
            " torch.Size([2, 3]) \n",
            " 6\n"
          ]
        }
      ],
      "source": [
        "x = torch.tensor([[1, 2, 3], [4, 5, 6]])\n",
        "print(x, '\\n',\n",
        "      x.shape, '\\n',  # размер тензора\n",
        "      x.dtype, '\\n',  # тип\n",
        "      x.device, '\\n',  # где лежит\n",
        "      x.type(), '\\n',  # тип\n",
        "      x.dim(), '\\n',  # размерность\n",
        "      x.size(), '\\n',  # размер; .shape и .size() одно и то же\n",
        "      x.numel()  # тип тензора\n",
        "      )"
      ]
    },
    {
      "cell_type": "code",
      "execution_count": 3,
      "metadata": {
        "colab": {
          "base_uri": "https://localhost:8080/"
        },
        "id": "85UgwgPQ3dko",
        "outputId": "1c256f8a-5bc2-4b4a-e861-a33781dfccf1"
      },
      "outputs": [
        {
          "name": "stdout",
          "output_type": "stream",
          "text": [
            "tensor([[0., 0., 0.],\n",
            "        [0., 0., 0.]], device='cuda:0')\n"
          ]
        }
      ],
      "source": [
        "x = torch.cuda.FloatTensor(2, 3)\n",
        "print(x)"
      ]
    },
    {
      "cell_type": "code",
      "execution_count": 4,
      "metadata": {
        "colab": {
          "base_uri": "https://localhost:8080/"
        },
        "id": "O2u0rj-E3nG4",
        "outputId": "5810c3ab-7cfd-4e45-8014-e0b33aaf8a8f"
      },
      "outputs": [
        {
          "name": "stdout",
          "output_type": "stream",
          "text": [
            "tensor([1., 2.]) \n",
            "\n",
            "tensor([1., 2.], dtype=torch.float64) \n",
            "\n",
            "tensor([1., 2.]) \n",
            "\n"
          ]
        }
      ],
      "source": [
        "x = torch.IntTensor([1, 2]).float()\n",
        "print(x, '\\n')\n",
        "\n",
        "x = torch.IntTensor([1, 2]).to(torch.float64)\n",
        "print(x, '\\n')\n",
        "\n",
        "x = torch.IntTensor([1, 2]) + 0.0\n",
        "print(x, '\\n')"
      ]
    },
    {
      "cell_type": "code",
      "execution_count": 5,
      "metadata": {
        "colab": {
          "base_uri": "https://localhost:8080/"
        },
        "id": "Ki3QTwPZ5SD-",
        "outputId": "fc5e9df7-4cb0-40ce-825a-9c1a69b64a99"
      },
      "outputs": [
        {
          "name": "stdout",
          "output_type": "stream",
          "text": [
            "tensor([[-5.3071e-07,  3.1133e-41,  0.0000e+00,  7.0065e-45, -2.5075e+30],\n",
            "        [ 3.1133e-41, -2.4806e-08,  3.1133e-41,  1.5583e+19,  4.3318e-41],\n",
            "        [ 0.0000e+00,  0.0000e+00,  0.0000e+00,  0.0000e+00,  0.0000e+00]]) \n",
            "\n",
            "tensor([[1., 1., 1., 1., 1.],\n",
            "        [1., 1., 1., 1., 1.],\n",
            "        [1., 1., 1., 1., 1.]]) \n",
            "\n",
            "tensor([[3.1400, 3.1400, 3.1400, 3.1400, 3.1400],\n",
            "        [3.1400, 3.1400, 3.1400, 3.1400, 3.1400],\n",
            "        [3.1400, 3.1400, 3.1400, 3.1400, 3.1400]]) \n",
            "\n",
            "tensor([[1., 0., 0., 0., 0.],\n",
            "        [0., 1., 0., 0., 0.],\n",
            "        [0., 0., 1., 0., 0.]]) \n",
            "\n",
            "tensor([[0.2961, 0.5166, 0.2517, 0.6886, 0.0740],\n",
            "        [0.8665, 0.1366, 0.1025, 0.1841, 0.7264],\n",
            "        [0.3153, 0.6871, 0.0756, 0.1966, 0.3164]]) \n",
            "\n",
            "tensor([[-0.1115,  0.1204, -0.3696, -0.2404, -1.1969],\n",
            "        [ 0.2093, -0.9724, -0.7550,  0.3239, -0.1085],\n",
            "        [ 0.2103, -0.3908,  0.2350,  0.6653,  0.3528]]) \n",
            "\n",
            "tensor([[2, 3, 2, 2, 2],\n",
            "        [2, 2, 3, 3, 2],\n",
            "        [3, 3, 2, 3, 2]]) \n",
            "\n"
          ]
        }
      ],
      "source": [
        "# пустой тензор\n",
        "x = torch.empty(3, 5)\n",
        "print(x, '\\n')\n",
        "\n",
        "# тензор из единиц\n",
        "x = torch.ones(3, 5)\n",
        "print(x, '\\n')\n",
        "\n",
        "# тензор из 3.14\n",
        "x = torch.full((3, 5), 3.14, dtype=torch.float)\n",
        "print(x, '\\n')\n",
        "\n",
        "# единичный тензор (с единицами на главной диагонали)\n",
        "x = torch.eye(3, 5)\n",
        "print(x, '\\n')\n",
        "\n",
        "# случайный тензор с элементами, равномерно распределёнными на [0, 1]\n",
        "torch.manual_seed(123)\n",
        "x = torch.rand(3, 5)\n",
        "print(x, '\\n')\n",
        "\n",
        "# случайный тензор с нормально распределёнными элементами\n",
        "torch.manual_seed(123)\n",
        "x = torch.randn(3, 5)\n",
        "print(x, '\\n')\n",
        "\n",
        "# случайный тензор с числами от 2 до 4 (не включая 4)\n",
        "torch.manual_seed(123)\n",
        "x = torch.randint(2, 4, (3, 5))\n",
        "print(x, '\\n')"
      ]
    },
    {
      "cell_type": "code",
      "execution_count": 6,
      "metadata": {
        "colab": {
          "base_uri": "https://localhost:8080/"
        },
        "id": "w5V-npFm5iF7",
        "outputId": "73247ebe-e1ad-42b8-81d5-2e73851038ca"
      },
      "outputs": [
        {
          "name": "stdout",
          "output_type": "stream",
          "text": [
            "tensor([0, 2, 4, 6, 8]) \n",
            "\n",
            "tensor([ 0.,  5., 10.]) \n",
            "\n",
            "tensor([ 1.0000,  3.1623, 10.0000]) \n",
            "\n",
            "tensor([ 9.4892e+33,  4.3318e-41, -2.5161e+30]) \n",
            "\n",
            "tensor([0., 0., 0.]) \n",
            "\n",
            "tensor([1., 1., 1.]) \n",
            "\n"
          ]
        }
      ],
      "source": [
        "# аналог np.arange\n",
        "x = torch.arange(0, 10, 2)\n",
        "print(x, '\\n')\n",
        "\n",
        "# аналог np.linspace\n",
        "x = torch.linspace(0, 10, 3)\n",
        "print(x, '\\n')\n",
        "\n",
        "# аналог np.logspace\n",
        "x = torch.logspace(0, 1, 3)\n",
        "print(x, '\\n')\n",
        "\n",
        "# сделать тензоры по образцу (использовать такой же тип и размеры)\n",
        "print(torch.empty_like(x), '\\n')\n",
        "print(torch.zeros_like(x), '\\n')\n",
        "print(torch.ones_like(x), '\\n')"
      ]
    },
    {
      "cell_type": "code",
      "execution_count": 7,
      "metadata": {
        "colab": {
          "base_uri": "https://localhost:8080/"
        },
        "id": "8mY3J0E8PKvo",
        "outputId": "f75a0365-539d-4d15-c629-ecd078432436"
      },
      "outputs": [
        {
          "name": "stdout",
          "output_type": "stream",
          "text": [
            "tensor([[9, 4, 1, 3, 0],\n",
            "        [0, 6, 5, 7, 9]]) \n",
            "\n",
            "(tensor([9, 4, 1, 3, 0]), tensor([9, 4, 1, 3, 0]), tensor([[9, 4, 1, 3, 0]]), tensor([[9, 4, 1, 3, 0]])) \n",
            "\n",
            "(tensor([[4],\n",
            "        [6]]), tensor([4, 6]), tensor([4, 6])) \n",
            "\n",
            "Это тензор 1x1:  tensor(9) \n",
            "\n",
            "А это уже отдельный элемент:  9 \n",
            "\n"
          ]
        }
      ],
      "source": [
        "x = torch.randint(0, 10, (2, 5))\n",
        "\n",
        "print(x, '\\n')\n",
        "print((x[0], x[0, :], x[[0], :], x[:1, :]), '\\n')\n",
        "print((x[:, [1]], x[:, 1], x[:, -4]), '\\n')\n",
        "\n",
        "print('Это тензор 1x1: ', x[0, 0], '\\n')\n",
        "print('А это уже отдельный элемент: ', x[0, 0].item(), '\\n')"
      ]
    },
    {
      "cell_type": "code",
      "execution_count": 8,
      "metadata": {
        "colab": {
          "base_uri": "https://localhost:8080/"
        },
        "id": "qb08VBWEQ8na",
        "outputId": "f73045fc-bb54-4ab9-c557-819c5c15969d"
      },
      "outputs": [
        {
          "name": "stderr",
          "output_type": "stream",
          "text": [
            "<ipython-input-8-516b07288ffb>:3: UserWarning: To copy construct from a tensor, it is recommended to use sourceTensor.clone().detach() or sourceTensor.clone().detach().requires_grad_(True), rather than tensor.new_tensor(sourceTensor).\n",
            "  b = a.new_tensor(a)\n",
            "<ipython-input-8-516b07288ffb>:6: UserWarning: To copy construct from a tensor, it is recommended to use sourceTensor.clone().detach() or sourceTensor.clone().detach().requires_grad_(True), rather than torch.tensor(sourceTensor).\n",
            "  b = torch.tensor(a)\n"
          ]
        }
      ],
      "source": [
        "a = torch.tensor([[1, 2], [3, 4]])\n",
        "\n",
        "b = a.new_tensor(a)\n",
        "b = a.clone().detach()\n",
        "b = torch.empty_like(a).copy_(a)\n",
        "b = torch.tensor(a)\n",
        "b = a.detach().clone()  # лучше копировать так"
      ]
    },
    {
      "cell_type": "code",
      "execution_count": 9,
      "metadata": {
        "colab": {
          "base_uri": "https://localhost:8080/"
        },
        "id": "yZArJk9sUNFa",
        "outputId": "6b7ac8f1-b7d0-491b-d68a-4a2ccb2fae8a"
      },
      "outputs": [
        {
          "name": "stdout",
          "output_type": "stream",
          "text": [
            "x:  tensor([[30,  4,  1,  3,  0],\n",
            "        [ 0,  6,  5,  7,  9]]) \n",
            "\n",
            "xt:  tensor([[30,  0],\n",
            "        [ 4,  6],\n",
            "        [ 1,  5],\n",
            "        [ 3,  7],\n",
            "        [ 0,  9]]) \n",
            "\n"
          ]
        }
      ],
      "source": [
        "xt = x.t()\n",
        "x[0, 0] = 30\n",
        "print('x: ', x, '\\n')\n",
        "print('xt: ', xt, '\\n')"
      ]
    },
    {
      "cell_type": "code",
      "execution_count": 10,
      "metadata": {
        "colab": {
          "base_uri": "https://localhost:8080/"
        },
        "id": "slbmO83LVHvg",
        "outputId": "95233a9f-5baf-440d-e6bb-0863eb8c0383"
      },
      "outputs": [
        {
          "name": "stdout",
          "output_type": "stream",
          "text": [
            "tensor([[[1, 2],\n",
            "         [3, 4]],\n",
            "\n",
            "        [[2, 2],\n",
            "         [2, 2]]]) \n",
            " torch.Size([2, 2, 2])\n"
          ]
        }
      ],
      "source": [
        "x = torch.tensor([[1, 2], [3, 4]])\n",
        "y = torch.tensor([[2, 2], [2, 2]])\n",
        "\n",
        "z = torch.stack((x, y), dim=0)  # состыковка тензоров (по умолчанию dim=0)\n",
        "print(z, '\\n', z.shape)"
      ]
    },
    {
      "cell_type": "code",
      "execution_count": 11,
      "metadata": {
        "colab": {
          "base_uri": "https://localhost:8080/"
        },
        "id": "07qk1KdNZoam",
        "outputId": "cf133f89-f2a9-4fc6-ce10-fa626d95a27e"
      },
      "outputs": [
        {
          "name": "stdout",
          "output_type": "stream",
          "text": [
            "tensor([[1, 2],\n",
            "        [3, 4]]) \n",
            " tensor([[2, 2],\n",
            "        [2, 2]])\n"
          ]
        }
      ],
      "source": [
        "x, y = z.unbind(dim=0)  # разстыковка тензоров\n",
        "print(x, '\\n', y)"
      ]
    },
    {
      "cell_type": "code",
      "execution_count": 12,
      "metadata": {
        "colab": {
          "base_uri": "https://localhost:8080/"
        },
        "id": "zuSLeyrnWl1I",
        "outputId": "c7fb2f46-2efe-484c-8819-69e20ea443f5"
      },
      "outputs": [
        {
          "name": "stdout",
          "output_type": "stream",
          "text": [
            "tensor([[1, 2, 2, 2],\n",
            "        [3, 4, 2, 2]]) \n",
            "\n",
            "tensor([[1, 2],\n",
            "        [3, 4],\n",
            "        [2, 2],\n",
            "        [2, 2]]) \n",
            "\n"
          ]
        }
      ],
      "source": [
        "x = torch.tensor([[1, 2], [3, 4]])\n",
        "y = torch.tensor([[2, 2], [2, 2]])\n",
        "print(torch.cat([x, y], axis=1), '\\n')\n",
        "print(torch.cat([x, y], axis=0), '\\n')"
      ]
    },
    {
      "cell_type": "code",
      "execution_count": 13,
      "metadata": {
        "colab": {
          "base_uri": "https://localhost:8080/"
        },
        "id": "pl8ASmNZZTkk",
        "outputId": "3ef494f4-a51c-4a9f-9b68-02ad8f5c626c"
      },
      "outputs": [
        {
          "name": "stdout",
          "output_type": "stream",
          "text": [
            "torch.Size([1, 2, 2]) torch.Size([2, 1, 2]) torch.Size([2, 2, 1])\n",
            "torch.Size([1, 2, 2]) torch.Size([2, 1, 2]) torch.Size([2, 2, 1])\n"
          ]
        }
      ],
      "source": [
        "x = torch.tensor([[1, 2], [3, 4]])\n",
        "print(x.unsqueeze(dim=0).shape,\n",
        "      x.unsqueeze(dim=1).shape,\n",
        "      x.unsqueeze(dim=2).shape)\n",
        "print(x[None, :, :].shape,\n",
        "      x[:, None, :].shape,\n",
        "      x[:, :, None].shape)"
      ]
    },
    {
      "cell_type": "code",
      "execution_count": 14,
      "metadata": {
        "colab": {
          "base_uri": "https://localhost:8080/"
        },
        "id": "V1T-6Q7pcqAW",
        "outputId": "c24b2b02-dc06-4800-c4e8-efa753511ff5"
      },
      "outputs": [
        {
          "data": {
            "text/plain": [
              "torch.Size([3, 2])"
            ]
          },
          "execution_count": 14,
          "metadata": {},
          "output_type": "execute_result"
        }
      ],
      "source": [
        "# удаление единичных размеров\n",
        "torch.empty(3, 1, 2, 1).squeeze().shape"
      ]
    },
    {
      "cell_type": "code",
      "execution_count": 15,
      "metadata": {
        "id": "9COchGokcxL_"
      },
      "outputs": [],
      "source": [
        "h = torch.rand((10000, 10000))"
      ]
    },
    {
      "cell_type": "code",
      "execution_count": 16,
      "metadata": {
        "colab": {
          "base_uri": "https://localhost:8080/"
        },
        "id": "ISzn2NzldfZr",
        "outputId": "95d4b9a1-28aa-4588-d368-ef1a7e9e19b9"
      },
      "outputs": [
        {
          "name": "stdout",
          "output_type": "stream",
          "text": [
            "CPU times: user 36.1 ms, sys: 63 µs, total: 36.2 ms\n",
            "Wall time: 35.1 ms\n"
          ]
        }
      ],
      "source": [
        "%%time\n",
        "s = torch.sum(h, axis=1)  # суммы строк быстрее"
      ]
    },
    {
      "cell_type": "code",
      "execution_count": 17,
      "metadata": {
        "colab": {
          "base_uri": "https://localhost:8080/"
        },
        "id": "iPntupKOdily",
        "outputId": "1d71d9f5-a97f-4e82-97e3-f46ff9d07e68"
      },
      "outputs": [
        {
          "name": "stdout",
          "output_type": "stream",
          "text": [
            "CPU times: user 78 ms, sys: 801 µs, total: 78.8 ms\n",
            "Wall time: 78.7 ms\n"
          ]
        }
      ],
      "source": [
        "%%time\n",
        "s = torch.sum(h, axis=0)  # суммы столбцов медленнее"
      ]
    },
    {
      "cell_type": "code",
      "execution_count": 18,
      "metadata": {
        "colab": {
          "base_uri": "https://localhost:8080/"
        },
        "id": "0mFWbYnadx9U",
        "outputId": "669f8970-896d-4a69-c5c7-8665154b05d9"
      },
      "outputs": [
        {
          "name": "stdout",
          "output_type": "stream",
          "text": [
            "True\n",
            "False\n",
            "tensor(101.)\n"
          ]
        }
      ],
      "source": [
        "x = torch.randn(3, 2)\n",
        "print(x.is_contiguous())\n",
        "y = torch.transpose(x, 0, 1)\n",
        "print(y.is_contiguous())\n",
        "x[0, 0] = 101\n",
        "print(y[0, 0])"
      ]
    },
    {
      "cell_type": "code",
      "execution_count": 19,
      "metadata": {
        "colab": {
          "base_uri": "https://localhost:8080/"
        },
        "id": "jn8w7eFcfP7I",
        "outputId": "859a4188-83ad-4c85-d7e5-b1c05d8a7124"
      },
      "outputs": [
        {
          "name": "stdout",
          "output_type": "stream",
          "text": [
            "Смежность: True\n",
            "Вытягиваем: tensor([ 0,  1,  2,  3,  4,  5,  6,  7,  8,  9, 10, 11, 12, 13, 14, 15, 16, 17,\n",
            "        18, 19, 20, 21, 22, 23, 24, 25, 26, 27, 28, 29, 30, 31, 32, 33, 34, 35,\n",
            "        36, 37, 38, 39, 40, 41, 42, 43, 44, 45, 46, 47, 48, 49, 50, 51, 52, 53,\n",
            "        54, 55, 56, 57, 58, 59, 60, 61, 62, 63, 64, 65, 66, 67, 68, 69, 70, 71,\n",
            "        72, 73, 74, 75, 76, 77, 78, 79])\n"
          ]
        }
      ],
      "source": [
        "x = torch.arange(4*10*2).view(4, 10, 2)\n",
        "y = x.permute(2, 0, 1)\n",
        "\n",
        "print('Смежность:', x.is_contiguous())\n",
        "print('Вытягиваем:', x.view(-1))"
      ]
    },
    {
      "cell_type": "code",
      "execution_count": 20,
      "metadata": {
        "colab": {
          "base_uri": "https://localhost:8080/",
          "height": 228
        },
        "id": "Vc2B_mqP8Fle",
        "outputId": "67ccb953-8033-4419-eb36-abb58d7e6056"
      },
      "outputs": [
        {
          "name": "stdout",
          "output_type": "stream",
          "text": [
            "Смежность: False\n"
          ]
        },
        {
          "ename": "RuntimeError",
          "evalue": "ignored",
          "output_type": "error",
          "traceback": [
            "\u001b[0;31m---------------------------------------------------------------------------\u001b[0m",
            "\u001b[0;31mRuntimeError\u001b[0m                              Traceback (most recent call last)",
            "\u001b[0;32m<ipython-input-20-e3ec071b72ae>\u001b[0m in \u001b[0;36m<cell line: 2>\u001b[0;34m()\u001b[0m\n\u001b[1;32m      1\u001b[0m \u001b[0mprint\u001b[0m\u001b[0;34m(\u001b[0m\u001b[0;34m'Смежность:'\u001b[0m\u001b[0;34m,\u001b[0m \u001b[0my\u001b[0m\u001b[0;34m.\u001b[0m\u001b[0mis_contiguous\u001b[0m\u001b[0;34m(\u001b[0m\u001b[0;34m)\u001b[0m\u001b[0;34m)\u001b[0m\u001b[0;34m\u001b[0m\u001b[0;34m\u001b[0m\u001b[0m\n\u001b[0;32m----> 2\u001b[0;31m \u001b[0mprint\u001b[0m\u001b[0;34m(\u001b[0m\u001b[0;34m'Вытягиваем:'\u001b[0m\u001b[0;34m,\u001b[0m \u001b[0my\u001b[0m\u001b[0;34m.\u001b[0m\u001b[0mview\u001b[0m\u001b[0;34m(\u001b[0m\u001b[0;34m-\u001b[0m\u001b[0;36m1\u001b[0m\u001b[0;34m)\u001b[0m\u001b[0;34m)\u001b[0m\u001b[0;34m\u001b[0m\u001b[0;34m\u001b[0m\u001b[0m\n\u001b[0m",
            "\u001b[0;31mRuntimeError\u001b[0m: view size is not compatible with input tensor's size and stride (at least one dimension spans across two contiguous subspaces). Use .reshape(...) instead."
          ]
        }
      ],
      "source": [
        "print('Смежность:', y.is_contiguous())\n",
        "print('Вытягиваем:', y.view(-1))"
      ]
    },
    {
      "cell_type": "code",
      "execution_count": 21,
      "metadata": {
        "colab": {
          "base_uri": "https://localhost:8080/"
        },
        "id": "JvDQLqq1876C",
        "outputId": "1d57ac86-4f7a-4840-f059-cd71de88aed4"
      },
      "outputs": [
        {
          "name": "stdout",
          "output_type": "stream",
          "text": [
            "Решейпим: tensor([ 0,  2,  4,  6,  8, 10, 12, 14, 16, 18, 20, 22, 24, 26, 28, 30, 32, 34,\n",
            "        36, 38, 40, 42, 44, 46, 48, 50, 52, 54, 56, 58, 60, 62, 64, 66, 68, 70,\n",
            "        72, 74, 76, 78,  1,  3,  5,  7,  9, 11, 13, 15, 17, 19, 21, 23, 25, 27,\n",
            "        29, 31, 33, 35, 37, 39, 41, 43, 45, 47, 49, 51, 53, 55, 57, 59, 61, 63,\n",
            "        65, 67, 69, 71, 73, 75, 77, 79])\n",
            "Делаем смежным и решейпим: tensor([ 0,  2,  4,  6,  8, 10, 12, 14, 16, 18, 20, 22, 24, 26, 28, 30, 32, 34,\n",
            "        36, 38, 40, 42, 44, 46, 48, 50, 52, 54, 56, 58, 60, 62, 64, 66, 68, 70,\n",
            "        72, 74, 76, 78,  1,  3,  5,  7,  9, 11, 13, 15, 17, 19, 21, 23, 25, 27,\n",
            "        29, 31, 33, 35, 37, 39, 41, 43, 45, 47, 49, 51, 53, 55, 57, 59, 61, 63,\n",
            "        65, 67, 69, 71, 73, 75, 77, 79])\n"
          ]
        }
      ],
      "source": [
        "print('Решейпим:', y.reshape(-1))\n",
        "print('Делаем смежным и решейпим:', y.contiguous().view(-1))"
      ]
    },
    {
      "cell_type": "code",
      "execution_count": 22,
      "metadata": {
        "colab": {
          "base_uri": "https://localhost:8080/"
        },
        "id": "L2pSdT2N9Qvh",
        "outputId": "9dbef894-4dba-4cd0-ae83-6aeef6342280"
      },
      "outputs": [
        {
          "data": {
            "text/plain": [
              "(tensor([[0, 1],\n",
              "         [2, 3],\n",
              "         [4, 5],\n",
              "         [6, 7]]),\n",
              " tensor([[0, 1, 2, 3],\n",
              "         [4, 5, 6, 7]]))"
            ]
          },
          "execution_count": 22,
          "metadata": {},
          "output_type": "execute_result"
        }
      ],
      "source": [
        "x = torch.arange(8)\n",
        "(x.view(4, 2), x.view(2, -1))"
      ]
    },
    {
      "cell_type": "code",
      "execution_count": 23,
      "metadata": {
        "colab": {
          "base_uri": "https://localhost:8080/"
        },
        "id": "XaMH-vfT-F_6",
        "outputId": "383d282b-df66-4659-ef60-2e13afbdda5e"
      },
      "outputs": [
        {
          "name": "stdout",
          "output_type": "stream",
          "text": [
            "tensor([0, 1, 2, 3, 4, 5, 6, 7]) \n",
            "  0\n",
            " 1\n",
            " 2\n",
            " 3\n",
            " 4\n",
            " 5\n",
            " 6\n",
            " 7\n",
            "[torch.storage.TypedStorage(dtype=torch.int64, device=cpu) of size 8] \n",
            " (1,) \n",
            " (1,)\n"
          ]
        },
        {
          "name": "stderr",
          "output_type": "stream",
          "text": [
            "<ipython-input-23-e8e06f1bdb9d>:1: UserWarning: TypedStorage is deprecated. It will be removed in the future and UntypedStorage will be the only storage class. This should only matter to you if you are using storages directly.  To access UntypedStorage directly, use tensor.untyped_storage() instead of tensor.storage()\n",
            "  print(x, '\\n', x.storage(), '\\n', x.stride(), '\\n', x.t().stride())\n"
          ]
        }
      ],
      "source": [
        "print(x, '\\n', x.storage(), '\\n', x.stride(), '\\n', x.t().stride())"
      ]
    },
    {
      "cell_type": "code",
      "execution_count": 24,
      "metadata": {
        "colab": {
          "base_uri": "https://localhost:8080/"
        },
        "id": "6kd_l6IB-gyP",
        "outputId": "7d5d25f0-7c11-4e84-e35c-57fc459237af"
      },
      "outputs": [
        {
          "data": {
            "text/plain": [
              "torch.Size([1, 4, 2, 3])"
            ]
          },
          "execution_count": 24,
          "metadata": {},
          "output_type": "execute_result"
        }
      ],
      "source": [
        "z = torch.rand(1, 2, 3, 4)\n",
        "z = z.permute(0, 3, 1, 2)  # NxHxWxC -> NxCxHxW\n",
        "z.shape"
      ]
    },
    {
      "cell_type": "code",
      "execution_count": 25,
      "metadata": {
        "colab": {
          "base_uri": "https://localhost:8080/"
        },
        "id": "NEhF1uPNAOiK",
        "outputId": "dd33df5d-7140-4ee0-f0fb-65c8966237c3"
      },
      "outputs": [
        {
          "data": {
            "text/plain": [
              "(tensor([[0, 2, 4, 6],\n",
              "         [1, 3, 5, 7]]),\n",
              " tensor([[0, 2, 4, 6],\n",
              "         [1, 3, 5, 7]]),\n",
              " tensor([[0, 2, 4, 6],\n",
              "         [1, 3, 5, 7]]))"
            ]
          },
          "execution_count": 25,
          "metadata": {},
          "output_type": "execute_result"
        }
      ],
      "source": [
        "x = torch.tensor([[0, 1], [2, 3], [4, 5], [6, 7]])\n",
        "(x.transpose(0, 1), x.t(), x.t_())  # черта _ означает in-place операцию"
      ]
    },
    {
      "cell_type": "code",
      "execution_count": 26,
      "metadata": {
        "colab": {
          "base_uri": "https://localhost:8080/"
        },
        "id": "aJ78_83EAVl5",
        "outputId": "be5a7fbe-522c-47b3-a392-ace65d01595f"
      },
      "outputs": [
        {
          "data": {
            "text/plain": [
              "(tensor([0, 1, 2, 3, 4, 5, 6, 7]), tensor([0, 1, 2, 3, 4, 5, 6, 7]))"
            ]
          },
          "execution_count": 26,
          "metadata": {},
          "output_type": "execute_result"
        }
      ],
      "source": [
        "x = torch.tensor([[0, 1], [2, 3], [4, 5], [6, 7]])\n",
        "(x.flatten(), x.view(-1))"
      ]
    },
    {
      "cell_type": "code",
      "execution_count": 27,
      "metadata": {
        "colab": {
          "base_uri": "https://localhost:8080/"
        },
        "id": "L7vZ8YWZAxtg",
        "outputId": "3865dd2e-8239-4607-a10c-19de31a6d0bd"
      },
      "outputs": [
        {
          "name": "stdout",
          "output_type": "stream",
          "text": [
            "tensor([[3, 3],\n",
            "        [3, 3]]) \n",
            "\n",
            "tensor([[0, 0],\n",
            "        [0, 0]]) \n",
            "\n"
          ]
        }
      ],
      "source": [
        "x = torch.tensor([[1, 2], [3, 4]])\n",
        "\n",
        "# заполнение\n",
        "x.fill_(3)  # черта _ означает выполнение на данном тензоре\n",
        "print(x, '\\n')\n",
        "# обнуление\n",
        "x.zero_()\n",
        "print(x, '\\n')"
      ]
    },
    {
      "cell_type": "code",
      "execution_count": 27,
      "metadata": {
        "id": "yeC1bUiLCrMC"
      },
      "outputs": [],
      "source": []
    }
  ],
  "metadata": {
    "accelerator": "GPU",
    "colab": {
      "gpuType": "T4",
      "provenance": []
    },
    "kernelspec": {
      "display_name": "Python 3",
      "name": "python3"
    },
    "language_info": {
      "name": "python",
      "version": "3.10.9"
    }
  },
  "nbformat": 4,
  "nbformat_minor": 0
}
