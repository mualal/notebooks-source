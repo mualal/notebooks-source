{
 "cells": [
  {
   "cell_type": "code",
   "execution_count": 2,
   "metadata": {},
   "outputs": [
    {
     "name": "stdout",
     "output_type": "stream",
     "text": [
      "3 40 146 b'\\xfc:\\n\\xae\\xbc2\\x1e\\x84' e5b0ea11eb0359a4 qFXPZPUNWjA\n"
     ]
    }
   ],
   "source": [
    "import secrets\n",
    "print(\n",
    "    secrets.choice([1,2,3]),\n",
    "    secrets.randbelow(225),\n",
    "    secrets.randbits(8),\n",
    "    secrets.token_bytes(8),\n",
    "    secrets.token_hex(8),\n",
    "    secrets.token_urlsafe(8),\n",
    ")"
   ]
  },
  {
   "cell_type": "code",
   "execution_count": null,
   "metadata": {},
   "outputs": [],
   "source": []
  }
 ],
 "metadata": {
  "interpreter": {
   "hash": "e35407101947112fb25cd4070636ac985004b794245e42b89ebe2c1cd3755b1b"
  },
  "kernelspec": {
   "display_name": "Python 3.10.5 ('venv': venv)",
   "language": "python",
   "name": "python3"
  },
  "language_info": {
   "codemirror_mode": {
    "name": "ipython",
    "version": 3
   },
   "file_extension": ".py",
   "mimetype": "text/x-python",
   "name": "python",
   "nbconvert_exporter": "python",
   "pygments_lexer": "ipython3",
   "version": "3.10.5"
  },
  "orig_nbformat": 4
 },
 "nbformat": 4,
 "nbformat_minor": 2
}
