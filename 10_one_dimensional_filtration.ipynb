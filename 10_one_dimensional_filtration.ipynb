{
 "cells": [
  {
   "cell_type": "code",
   "execution_count": 1,
   "metadata": {},
   "outputs": [],
   "source": [
    "import numpy as np"
   ]
  },
  {
   "cell_type": "code",
   "execution_count": 2,
   "metadata": {},
   "outputs": [],
   "source": [
    "mesh_width = 10  # количество ячеек по пространству\n",
    "mesh_height = 5  # количество ячеек по времени\n",
    "\n",
    "tau = 10  # сут, временной шаг\n",
    "h = 100  # м, длина ячейки"
   ]
  },
  {
   "cell_type": "code",
   "execution_count": 3,
   "metadata": {},
   "outputs": [],
   "source": [
    "p_initial = 19e6  # Па, начальное давление в ячейках\n",
    "k = 5  # мД, проницаемость\n",
    "mu = 5  # мПа*с, вязкость жидкости\n",
    "m = 0.15  # пористость\n",
    "c = 2.4 * 10 ** (-9)  # Па^(-1), общая сжимаемость\n",
    "\n",
    "q_left = 6  # м3/сут, расход на левой границе\n",
    "p_right = 20e6  # Па, давление на правой границе\n",
    "a = 10000  # м2, площадь поверхности боковой грани ячейки"
   ]
  },
  {
   "cell_type": "code",
   "execution_count": 4,
   "metadata": {},
   "outputs": [
    {
     "data": {
      "text/plain": [
       "array([[19000000., 19000000., 19000000., 19000000., 19000000., 19000000.,\n",
       "        19000000., 19000000., 19000000., 19000000.],\n",
       "       [       0.,        0.,        0.,        0.,        0.,        0.,\n",
       "               0.,        0.,        0.,        0.],\n",
       "       [       0.,        0.,        0.,        0.,        0.,        0.,\n",
       "               0.,        0.,        0.,        0.],\n",
       "       [       0.,        0.,        0.,        0.,        0.,        0.,\n",
       "               0.,        0.,        0.,        0.],\n",
       "       [       0.,        0.,        0.,        0.,        0.,        0.,\n",
       "               0.,        0.,        0.,        0.]])"
      ]
     },
     "execution_count": 4,
     "metadata": {},
     "output_type": "execute_result"
    }
   ],
   "source": [
    "p_values = np.zeros([mesh_height, mesh_width])\n",
    "p_values[0] = [p_initial] * mesh_width\n",
    "p_values"
   ]
  },
  {
   "cell_type": "code",
   "execution_count": 5,
   "metadata": {},
   "outputs": [],
   "source": [
    "def explicit_scheme():\n",
    "    for time_step in range(1, mesh_height):\n",
    "        p_values[time_step][0] = p_values[time_step - 1][0] + \\\n",
    "        (tau / h ** 2) * (k / (m * mu * c)) * (p_values[time_step - 1][1] - p_values[time_step - 1][0] + q_left * mu / (a * k) * h)\n",
    "        p_values[time_step][-1] = p_values[time_step - 1][-1] + \\\n",
    "        4 / 3 * (tau / h ** 2) * (k / (m * mu * c)) * (2 * p_right - 3 * p_values[time_step - 1][-1] + p_values[time_step - 1][-2])\n",
    "        \n",
    "        for space_step in range(1, mesh_width - 1):\n",
    "            p_values[time_step][space_step] = p_values[time_step - 1][space_step] + \\\n",
    "            (tau / h ** 2) * (k / (m * mu * c)) * (p_values[time_step - 1][space_step + 1] - 2 * p_values[time_step - 1][space_step] + p_values[time_step - 1][space_step - 1])"
   ]
  },
  {
   "cell_type": "code",
   "execution_count": 6,
   "metadata": {},
   "outputs": [],
   "source": [
    "explicit_scheme()"
   ]
  },
  {
   "cell_type": "code",
   "execution_count": 7,
   "metadata": {},
   "outputs": [
    {
     "data": {
      "text/plain": [
       "array([[ 1.90000000e+07,  1.90000000e+07,  1.90000000e+07,\n",
       "         1.90000000e+07,  1.90000000e+07,  1.90000000e+07,\n",
       "         1.90000000e+07,  1.90000000e+07,  1.90000000e+07,\n",
       "         1.90000000e+07],\n",
       "       [ 1.91666667e+07,  1.90000000e+07,  1.90000000e+07,\n",
       "         1.90000000e+07,  1.90000000e+07,  1.90000000e+07,\n",
       "         1.90000000e+07,  1.90000000e+07,  1.90000000e+07,\n",
       "         7.40742641e+12],\n",
       "       [-4.62943630e+11,  4.62981963e+11,  1.90000000e+07,\n",
       "         1.90000000e+07,  1.90000000e+07,  1.90000000e+07,\n",
       "         1.90000000e+07,  1.90000000e+07,  2.05761317e+19,\n",
       "        -8.23045119e+19],\n",
       "       [ 2.57201507e+18, -3.85802330e+18,  1.28600823e+18,\n",
       "         1.90000000e+07,  1.90000000e+07,  1.90000000e+07,\n",
       "         1.90000000e+07,  5.71559214e+25, -3.42935466e+26,\n",
       "         9.90702390e+26],\n",
       "       [-1.78612151e+25,  3.21501903e+25, -1.78612203e+25,\n",
       "         3.57224508e+24,  1.90000000e+07,  1.90000000e+07,\n",
       "         1.58766448e+32, -1.27013136e+33,  4.81591422e+33,\n",
       "        -1.22779347e+34]])"
      ]
     },
     "execution_count": 7,
     "metadata": {},
     "output_type": "execute_result"
    }
   ],
   "source": [
    "p_values"
   ]
  },
  {
   "cell_type": "code",
   "execution_count": null,
   "metadata": {},
   "outputs": [],
   "source": []
  }
 ],
 "metadata": {
  "kernelspec": {
   "display_name": "Python 3",
   "language": "python",
   "name": "python3"
  },
  "language_info": {
   "codemirror_mode": {
    "name": "ipython",
    "version": 3
   },
   "file_extension": ".py",
   "mimetype": "text/x-python",
   "name": "python",
   "nbconvert_exporter": "python",
   "pygments_lexer": "ipython3",
   "version": "3.8.5"
  }
 },
 "nbformat": 4,
 "nbformat_minor": 4
}
