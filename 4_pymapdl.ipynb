{
 "cells": [
  {
   "cell_type": "code",
   "execution_count": 1,
   "metadata": {},
   "outputs": [
    {
     "name": "stdout",
     "output_type": "stream",
     "text": [
      "Product:             Ansys Mechanical Enterprise\n",
      "MAPDL Version:       22.1\n",
      "ansys.mapdl Version: 0.62.1\n",
      "\n"
     ]
    }
   ],
   "source": [
    "from ansys.mapdl.core import launch_mapdl\n",
    "mapdl = launch_mapdl()\n",
    "print(mapdl)"
   ]
  },
  {
   "cell_type": "code",
   "execution_count": 2,
   "metadata": {},
   "outputs": [],
   "source": [
    "# set values of parameters\n",
    "\n",
    "length = 5\n",
    "width = 3\n",
    "depth = 0.2\n",
    "\n",
    "radius = 0.5\n",
    "count = 2\n",
    "\n",
    "E = 2e11\n",
    "nu = 0.3\n",
    "\n",
    "pressure = 500"
   ]
  },
  {
   "cell_type": "code",
   "execution_count": 3,
   "metadata": {},
   "outputs": [
    {
     "data": {
      "application/vnd.jupyter.widget-view+json": {
       "model_id": "d484d239c2764ea897833ac6a091629d",
       "version_major": 2,
       "version_minor": 0
      },
      "text/plain": [
       "ViewInteractiveWidget(height=768, layout=Layout(height='auto', width='100%'), width=1024)"
      ]
     },
     "metadata": {},
     "output_type": "display_data"
    }
   ],
   "source": [
    "# set geometry\n",
    "\n",
    "mapdl.clear()\n",
    "mapdl.prep7()\n",
    "mapdl.block(x1=0, x2=length, y1=0, y2=width, z1=0, z2=depth)\n",
    "\n",
    "for i in range(1, count+1):\n",
    "    mapdl.cyl4(xcenter=i*length/(count+1), ycenter=width/2-width/4, rad1=radius, depth=2*depth)\n",
    "    mapdl.cyl4(xcenter=i*length/(count+1), ycenter=width/2+width/4, rad1=radius, depth=2*depth)\n",
    "mapdl.vsbv(nv1=1, nv2='all')\n",
    "mapdl.vplot(nv1='all')"
   ]
  },
  {
   "cell_type": "code",
   "execution_count": 4,
   "metadata": {},
   "outputs": [
    {
     "data": {
      "application/vnd.jupyter.widget-view+json": {
       "model_id": "e7e065b8f0c24a57a9ade7fbd5a2e114",
       "version_major": 2,
       "version_minor": 0
      },
      "text/plain": [
       "ViewInteractiveWidget(height=768, layout=Layout(height='auto', width='100%'), width=1024)"
      ]
     },
     "metadata": {},
     "output_type": "display_data"
    }
   ],
   "source": [
    "# set meshing\n",
    "\n",
    "mapdl.lesize(nl1='all', size=0.1, layer1=1)\n",
    "\n",
    "mapdl.mp(lab='ex', mat=1, c0=E)\n",
    "mapdl.mp(lab='nuxy', mat=1, c0=nu)\n",
    "\n",
    "mapdl.et(itype=1, ename='SOLID186')\n",
    "mapdl.mshape(key=1, dimension='3D')\n",
    "mapdl.mshkey(key=0)\n",
    "mapdl.vmesh(nv1='all')\n",
    "mapdl.eplot()"
   ]
  },
  {
   "cell_type": "code",
   "execution_count": 5,
   "metadata": {},
   "outputs": [
    {
     "data": {
      "text/plain": [
       "***** ROUTINE COMPLETED *****  CP =         1.453"
      ]
     },
     "execution_count": 5,
     "metadata": {},
     "output_type": "execute_result"
    }
   ],
   "source": [
    "# set boundary conditions\n",
    "\n",
    "mapdl.nsel('s', 'loc', 'x', 0)\n",
    "mapdl.d(node='all', lab='all',value=0)\n",
    "\n",
    "mapdl.nsel('s', 'loc', 'x', length)\n",
    "mapdl.sf(nlist='all', lab='pres', value=pressure)\n",
    "\n",
    "mapdl.allsel()\n",
    "mapdl.finish()"
   ]
  },
  {
   "cell_type": "code",
   "execution_count": 6,
   "metadata": {},
   "outputs": [
    {
     "data": {
      "text/plain": [
       "FINISH SOLUTION PROCESSING\n",
       "\n",
       "\n",
       " ***** ROUTINE COMPLETED *****  CP =         5.781"
      ]
     },
     "execution_count": 6,
     "metadata": {},
     "output_type": "execute_result"
    }
   ],
   "source": [
    "# solve the static problem\n",
    "\n",
    "mapdl.slashsolu()\n",
    "mapdl.solve()\n",
    "mapdl.finish()"
   ]
  },
  {
   "cell_type": "code",
   "execution_count": 7,
   "metadata": {},
   "outputs": [
    {
     "name": "stderr",
     "output_type": "stream",
     "text": [
      "C:\\Users\\almuravtsev\\AppData\\Local\\Programs\\Python\\Python39\\lib\\site-packages\\pyvista\\plotting\\tools.py:571: PyvistaDeprecationWarning: The usage of `parse_color` is deprecated in favor of the new `Color` class.\n",
      "  warnings.warn(\n"
     ]
    },
    {
     "data": {
      "application/vnd.jupyter.widget-view+json": {
       "model_id": "64454d143edc40918f5eeb9f6f7a2dde",
       "version_major": 2,
       "version_minor": 0
      },
      "text/plain": [
       "ViewInteractiveWidget(height=768, layout=Layout(height='auto', width='100%'), width=1024)"
      ]
     },
     "metadata": {},
     "output_type": "display_data"
    }
   ],
   "source": [
    "# plot the stress contours for the model\n",
    "\n",
    "result = mapdl.result\n",
    "result.plot_principal_nodal_stress(0, 'seqv', background='w', show_edges=True, text_color='k', add_text=True)"
   ]
  },
  {
   "cell_type": "code",
   "execution_count": 8,
   "metadata": {},
   "outputs": [],
   "source": [
    "# exit\n",
    "mapdl.exit()"
   ]
  },
  {
   "cell_type": "code",
   "execution_count": null,
   "metadata": {},
   "outputs": [],
   "source": []
  }
 ],
 "metadata": {
  "interpreter": {
   "hash": "f1db8b532af68f394552095bf01668e033c55fe6f315fc65b53074148e4e6572"
  },
  "kernelspec": {
   "display_name": "Python 3.9.7 64-bit",
   "language": "python",
   "name": "python3"
  },
  "language_info": {
   "codemirror_mode": {
    "name": "ipython",
    "version": 3
   },
   "file_extension": ".py",
   "mimetype": "text/x-python",
   "name": "python",
   "nbconvert_exporter": "python",
   "pygments_lexer": "ipython3",
   "version": "3.9.7"
  },
  "orig_nbformat": 4
 },
 "nbformat": 4,
 "nbformat_minor": 2
}
