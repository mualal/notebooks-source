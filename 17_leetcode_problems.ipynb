{
 "cells": [
  {
   "attachments": {},
   "cell_type": "markdown",
   "metadata": {},
   "source": [
    "## Задача 1. Two Sum (Easy)"
   ]
  },
  {
   "cell_type": "code",
   "execution_count": 1,
   "metadata": {},
   "outputs": [
    {
     "data": {
      "text/plain": [
       "[0, 1]"
      ]
     },
     "execution_count": 1,
     "metadata": {},
     "output_type": "execute_result"
    }
   ],
   "source": [
    "from typing import List\n",
    "\n",
    "class Solution1:\n",
    "    def twoSum(self, nums: List[int], target: int) -> List[int]:\n",
    "        for i, num1 in enumerate(nums):\n",
    "            for j, num2 in enumerate(nums[i+1:]):\n",
    "                if num1 + num2 == target:\n",
    "                    return [i, j+i+1]\n",
    "\n",
    "Solution1().twoSum(nums=[3,3], target=6)"
   ]
  },
  {
   "attachments": {},
   "cell_type": "markdown",
   "metadata": {},
   "source": [
    "## Задача 2. Add Two Numbers (Medium)"
   ]
  },
  {
   "cell_type": "code",
   "execution_count": 2,
   "metadata": {},
   "outputs": [
    {
     "data": {
      "text/plain": [
       "ListNode{val: 7, next: ListNode{val: 0, next: ListNode{val: 8, next: None}}}"
      ]
     },
     "execution_count": 2,
     "metadata": {},
     "output_type": "execute_result"
    }
   ],
   "source": [
    "from typing import Optional\n",
    "\n",
    "class ListNode:\n",
    "    def __init__(self, val=0, next=None):\n",
    "        self.val = val\n",
    "        self.next = next\n",
    "    def __repr__(self):\n",
    "        return f'ListNode{{val: {self.val}, next: {self.next}}}'\n",
    "\n",
    "\n",
    "def linked_list_to_int(l1: Optional[ListNode]) -> Optional[int]:\n",
    "    l1_list = [l1.val]\n",
    "    l1 = l1.next\n",
    "    while l1 is not None:\n",
    "        l1_list.append(l1.val)\n",
    "        l1 = l1.next\n",
    "    return int(''.join([str(i) for i in l1_list[::-1]]))\n",
    "\n",
    "\n",
    "def int_to_linked_list(n: Optional[int]) -> Optional[ListNode]:\n",
    "    n_list = [int(i) for i in str(n)]\n",
    "    linked_list = ListNode(val=n_list[0], next=None)\n",
    "    for value in n_list[1:]:\n",
    "        linked_list = ListNode(val=value, next=linked_list)\n",
    "    return linked_list\n",
    "    \n",
    "\n",
    "class Solution2:\n",
    "    def addTwoNumbers(self, l1: Optional[ListNode], l2: Optional[ListNode]) -> Optional[ListNode]:\n",
    "        l1_int = linked_list_to_int(l1)\n",
    "        l2_int = linked_list_to_int(l2)\n",
    "        return int_to_linked_list(l1_int+l2_int)\n",
    "\n",
    "Solution2().addTwoNumbers(\n",
    "    l1=ListNode(val=2,next=ListNode(val=4, next=ListNode(val=3, next=None))),\n",
    "    l2=ListNode(val=5,next=ListNode(val=6, next=ListNode(val=4, next=None)))\n",
    ")"
   ]
  },
  {
   "attachments": {},
   "cell_type": "markdown",
   "metadata": {},
   "source": [
    "## Задача 3. Longest Substring Without Repeating Characters (Medium)"
   ]
  },
  {
   "cell_type": "code",
   "execution_count": 3,
   "metadata": {},
   "outputs": [
    {
     "data": {
      "text/plain": [
       "8"
      ]
     },
     "execution_count": 3,
     "metadata": {},
     "output_type": "execute_result"
    }
   ],
   "source": [
    "class Solution3:\n",
    "    def lengthOfLongestSubstring(self, s: str) -> int:\n",
    "        longest_size = 0\n",
    "        for i, _ in enumerate(s):\n",
    "            j = i + 1\n",
    "            while len(set(s[i:j+1])) == len(s[i:j+1]) and j <= len(s):\n",
    "                j += 1\n",
    "            if (j - i) > longest_size:\n",
    "                longest_size = j - i\n",
    "        return longest_size\n",
    "\n",
    "Solution3().lengthOfLongestSubstring(s='abstracefaaabc')"
   ]
  },
  {
   "attachments": {},
   "cell_type": "markdown",
   "metadata": {},
   "source": [
    "## Задача 5. Longest Palindromic Substring (Medium)"
   ]
  },
  {
   "cell_type": "code",
   "execution_count": 4,
   "metadata": {},
   "outputs": [
    {
     "data": {
      "text/plain": [
       "'dabad'"
      ]
     },
     "execution_count": 4,
     "metadata": {},
     "output_type": "execute_result"
    }
   ],
   "source": [
    "class Solution5:\n",
    "    def longestPalindrome(self, s: str) -> str:\n",
    "        longest_palindrome = ''\n",
    "        for i, _ in enumerate(s):\n",
    "            for j, _ in enumerate(s[i:]):\n",
    "                current_substring = s[i:j+i+1]\n",
    "                if current_substring == current_substring[::-1] and len(current_substring) > len(longest_palindrome):\n",
    "                    longest_palindrome = current_substring\n",
    "        return longest_palindrome\n",
    "\n",
    "Solution5().longestPalindrome(s='dabadc')\n",
    "# превышен лимит времени на тестовом примере сайта"
   ]
  },
  {
   "cell_type": "code",
   "execution_count": null,
   "metadata": {},
   "outputs": [],
   "source": []
  },
  {
   "attachments": {},
   "cell_type": "markdown",
   "metadata": {},
   "source": [
    "## Задача 7. Reverse Integer (Medium)"
   ]
  },
  {
   "cell_type": "code",
   "execution_count": 5,
   "metadata": {},
   "outputs": [
    {
     "data": {
      "text/plain": [
       "21"
      ]
     },
     "execution_count": 5,
     "metadata": {},
     "output_type": "execute_result"
    }
   ],
   "source": [
    "class Solution7:\n",
    "    def reverse(self, x: int) -> int:\n",
    "        if x < 0:\n",
    "            x = -x\n",
    "            x_str = str(x)[::-1]\n",
    "            if len(x_str) < 10:\n",
    "                return int('-' + x_str)\n",
    "            else:\n",
    "                if len(x_str) == 10 and x_str <= '2147483648':\n",
    "                    return int('-' + x_str)\n",
    "                else:\n",
    "                    return 0\n",
    "        else:\n",
    "            x_str = str(x)[::-1]\n",
    "            if len(x_str) < 10:\n",
    "                return int(x_str)\n",
    "            else:\n",
    "                if len(x_str) == 10 and x_str <= '2147483647':\n",
    "                    return int(x_str)\n",
    "                else:\n",
    "                    return 0\n",
    "\n",
    "Solution7().reverse(x=120)"
   ]
  },
  {
   "attachments": {},
   "cell_type": "markdown",
   "metadata": {},
   "source": [
    "## Задача 9. Palindrome Number (Easy)"
   ]
  },
  {
   "cell_type": "code",
   "execution_count": 6,
   "metadata": {},
   "outputs": [
    {
     "data": {
      "text/plain": [
       "True"
      ]
     },
     "execution_count": 6,
     "metadata": {},
     "output_type": "execute_result"
    }
   ],
   "source": [
    "class Solution9:\n",
    "    def isPalindrome(self, x: int) -> bool:\n",
    "        if str(x)[::-1] == str(x):\n",
    "            return True\n",
    "        else:\n",
    "            return False\n",
    "\n",
    "Solution9().isPalindrome(x=10101)"
   ]
  },
  {
   "attachments": {},
   "cell_type": "markdown",
   "metadata": {},
   "source": [
    "## Задача 13. Roman to Integer (Easy)"
   ]
  },
  {
   "cell_type": "code",
   "execution_count": 7,
   "metadata": {},
   "outputs": [
    {
     "data": {
      "text/plain": [
       "1994"
      ]
     },
     "execution_count": 7,
     "metadata": {},
     "output_type": "execute_result"
    }
   ],
   "source": [
    "class Solution13:\n",
    "    def romanToInt(self, s: str) -> int:\n",
    "        symbols_dict = {\n",
    "            'I': 1,\n",
    "            'V': 5,\n",
    "            'X': 10,\n",
    "            'L': 50,\n",
    "            'C': 100,\n",
    "            'D': 500,\n",
    "            'M': 1000\n",
    "        }\n",
    "        s_int = 0\n",
    "        last_symbol = s[0]\n",
    "        for symbol in s:\n",
    "            if symbols_dict[symbol] > symbols_dict[last_symbol]:\n",
    "                s_int += symbols_dict[symbol]\n",
    "                s_int -= 2 * symbols_dict[last_symbol]\n",
    "            else:\n",
    "                s_int += symbols_dict[symbol]\n",
    "            last_symbol = symbol\n",
    "        \n",
    "        return s_int\n",
    "\n",
    "Solution13().romanToInt(s='MCMXCIV')"
   ]
  },
  {
   "attachments": {},
   "cell_type": "markdown",
   "metadata": {},
   "source": [
    "## Задача 14. Longest Common Prefix (Easy)"
   ]
  },
  {
   "cell_type": "code",
   "execution_count": 8,
   "metadata": {},
   "outputs": [
    {
     "data": {
      "text/plain": [
       "'geo'"
      ]
     },
     "execution_count": 8,
     "metadata": {},
     "output_type": "execute_result"
    }
   ],
   "source": [
    "from typing import List\n",
    "\n",
    "class Solution14:\n",
    "    def longestCommonPrefix(self, strs: List[str]) -> str:\n",
    "        common_prefix = ''\n",
    "        words_lengths = [len(word) for word in strs]\n",
    "        min_index = words_lengths.index(min(words_lengths))\n",
    "        for i, s in enumerate(strs[min_index]):\n",
    "            if [word[i] == s for word in strs] == [1]*len(strs):\n",
    "                common_prefix += s\n",
    "            else:\n",
    "                break\n",
    "        return common_prefix\n",
    "\n",
    "Solution14().longestCommonPrefix(strs=['geology','geomechanics', 'geometry'])"
   ]
  },
  {
   "attachments": {},
   "cell_type": "markdown",
   "metadata": {},
   "source": [
    "## Задача 20. Valid Parentheses (Easy)"
   ]
  },
  {
   "cell_type": "code",
   "execution_count": 9,
   "metadata": {},
   "outputs": [
    {
     "data": {
      "text/plain": [
       "False"
      ]
     },
     "execution_count": 9,
     "metadata": {},
     "output_type": "execute_result"
    }
   ],
   "source": [
    "class Solution20:\n",
    "    def isValid(self, s: str) -> bool:\n",
    "        braces_list = ['{}', '[]', '()']\n",
    "        while [braces in s for braces in braces_list] != [0, 0, 0]:\n",
    "            for braces in braces_list:\n",
    "                s = s.replace(braces, '')\n",
    "        if len(s):\n",
    "            return False\n",
    "        else:\n",
    "            return True\n",
    "\n",
    "Solution20().isValid(s='([)')"
   ]
  },
  {
   "cell_type": "code",
   "execution_count": 10,
   "metadata": {},
   "outputs": [
    {
     "data": {
      "text/plain": [
       "True"
      ]
     },
     "execution_count": 10,
     "metadata": {},
     "output_type": "execute_result"
    }
   ],
   "source": [
    "# следующий код немного лучше отрабатывает по времени и по памяти\n",
    "class Solution20:\n",
    "    def isValid(self, s: str) -> bool:\n",
    "        while '{}' in s or '[]' in s or '()' in s:\n",
    "            s = s.replace('{}', '').replace('[]', '').replace('()', '')\n",
    "        return True if s == '' else False\n",
    "\n",
    "Solution20().isValid(s='([])')"
   ]
  },
  {
   "attachments": {},
   "cell_type": "markdown",
   "metadata": {},
   "source": [
    "## Задача 28. Find the Index of the First Occurrence in a String (Medium)"
   ]
  },
  {
   "cell_type": "code",
   "execution_count": 11,
   "metadata": {},
   "outputs": [
    {
     "data": {
      "text/plain": [
       "0"
      ]
     },
     "execution_count": 11,
     "metadata": {},
     "output_type": "execute_result"
    }
   ],
   "source": [
    "class Solution28:\n",
    "    def strStr(self, haystack: str, needle: str) -> int:\n",
    "        if needle in haystack:\n",
    "            return haystack.find(needle)\n",
    "        else:\n",
    "            return -1\n",
    "\n",
    "Solution28().strStr(haystack='newtonew', needle='new')"
   ]
  },
  {
   "attachments": {},
   "cell_type": "markdown",
   "metadata": {},
   "source": [
    "## Задача 36. Valid Sudoku (Medium)"
   ]
  },
  {
   "cell_type": "code",
   "execution_count": 12,
   "metadata": {},
   "outputs": [
    {
     "data": {
      "text/plain": [
       "True"
      ]
     },
     "execution_count": 12,
     "metadata": {},
     "output_type": "execute_result"
    }
   ],
   "source": [
    "from typing import List\n",
    "\n",
    "class Solution36:\n",
    "    def isValidSudoku(self, board: List[List[str]]) -> bool:\n",
    "        for i in range(9):\n",
    "            vertical = list(filter(lambda a: a != '.', board[:][i]))\n",
    "            horizontal = list(filter(lambda a: a != '.', list(zip(*board))[i]))\n",
    "\n",
    "            if len(set(vertical)) != len(vertical):\n",
    "                return False\n",
    "            \n",
    "            if len(set(horizontal)) != len(horizontal):\n",
    "                return False\n",
    "        \n",
    "        for i in [0, 3, 6]:\n",
    "            for j in [0, 3, 6]:\n",
    "                current_square = board[i][j:j+3] + board[i+1][j:j+3] + board[i+2][j:j+3]\n",
    "                current_square = list(filter(lambda a: a != '.', current_square))\n",
    "\n",
    "                if len(set(current_square)) != len(current_square):\n",
    "                    return False\n",
    "        \n",
    "        return True\n",
    "\n",
    "Solution36().isValidSudoku(\n",
    "    board = [['5', '3', '.', '.', '7', '.', '.', '.', '.'],\n",
    "             ['6', '.', '.', '1', '9', '5', '.', '.', '.'],\n",
    "             ['.', '9', '8', '.', '.', '.', '.', '6', '.'],\n",
    "             ['8', '.', '.', '.', '6', '.', '.', '.', '3'],\n",
    "             ['4', '.', '.', '8', '.', '3', '.', '.', '1'],\n",
    "             ['7', '.', '.', '.', '2', '.', '.', '.', '6'],\n",
    "             ['.', '6', '.', '.', '.', '.', '2', '8', '.'],\n",
    "             ['.', '.', '.', '4', '1', '9', '.', '.', '5'],\n",
    "             ['.', '.', '.', '.', '8', '.', '.', '7', '9']]\n",
    ")"
   ]
  },
  {
   "cell_type": "code",
   "execution_count": 13,
   "metadata": {},
   "outputs": [
    {
     "data": {
      "text/plain": [
       "False"
      ]
     },
     "execution_count": 13,
     "metadata": {},
     "output_type": "execute_result"
    }
   ],
   "source": [
    "Solution36().isValidSudoku(\n",
    "    board = [['5', '3', '.', '.', '7', '.', '.', '.', '.'],\n",
    "             ['6', '.', '.', '1', '9', '5', '.', '.', '.'],\n",
    "             ['.', '9', '5', '.', '.', '.', '.', '6', '.'],\n",
    "             ['8', '.', '.', '.', '6', '.', '.', '.', '3'],\n",
    "             ['4', '.', '.', '8', '.', '3', '.', '.', '1'],\n",
    "             ['7', '.', '.', '.', '2', '.', '.', '.', '6'],\n",
    "             ['.', '6', '.', '.', '.', '.', '2', '8', '.'],\n",
    "             ['.', '.', '.', '4', '1', '9', '.', '.', '5'],\n",
    "             ['.', '.', '.', '.', '8', '.', '.', '7', '9']]\n",
    ")"
   ]
  },
  {
   "attachments": {},
   "cell_type": "markdown",
   "metadata": {},
   "source": [
    "## Задача 118. Pascal's Triangle (Easy)"
   ]
  },
  {
   "cell_type": "code",
   "execution_count": 14,
   "metadata": {},
   "outputs": [
    {
     "data": {
      "text/plain": [
       "[[1], [1, 1], [1, 2, 1], [1, 3, 3, 1]]"
      ]
     },
     "execution_count": 14,
     "metadata": {},
     "output_type": "execute_result"
    }
   ],
   "source": [
    "from typing import List\n",
    "\n",
    "def factorial(num: int):\n",
    "    itog = 1\n",
    "    for i in range(num):\n",
    "        itog *= (i+1)\n",
    "    return itog\n",
    "\n",
    "\n",
    "def combinations(k: int, n: int):\n",
    "    return int(factorial(n) / (factorial(k) * factorial(n-k)))\n",
    "\n",
    "\n",
    "class Solution118:\n",
    "    def generate(self, numRows: int) -> List[List[int]]:\n",
    "        triangle_rows = []\n",
    "        for i in range(numRows):\n",
    "            triangle_rows.append([combinations(j, i) for j in range(i+1)])\n",
    "        return triangle_rows\n",
    "\n",
    "\n",
    "Solution118().generate(numRows=4)"
   ]
  },
  {
   "attachments": {},
   "cell_type": "markdown",
   "metadata": {},
   "source": [
    "## Задача 119. Pascal's Triangle 2 (Easy)"
   ]
  },
  {
   "cell_type": "code",
   "execution_count": 15,
   "metadata": {},
   "outputs": [
    {
     "data": {
      "text/plain": [
       "[1, 3, 3, 1]"
      ]
     },
     "execution_count": 15,
     "metadata": {},
     "output_type": "execute_result"
    }
   ],
   "source": [
    "from typing import List\n",
    "\n",
    "def factorial(num: int):\n",
    "    itog = 1\n",
    "    for i in range(num):\n",
    "        itog *= (i+1)\n",
    "    return itog\n",
    "\n",
    "def combinations(k: int, n: int):\n",
    "    return int(factorial(n) / (factorial(k) * factorial(n-k)))\n",
    "\n",
    "\n",
    "class Solution119:\n",
    "    def getRow(self, rowIndex: int) -> List[int]:\n",
    "        return [combinations(j, rowIndex) for j in range(rowIndex+1)]\n",
    "\n",
    "Solution119().getRow(rowIndex=3)"
   ]
  },
  {
   "attachments": {},
   "cell_type": "markdown",
   "metadata": {},
   "source": [
    "## Задача 121. Best Time to Buy and Sell Stock (Easy)"
   ]
  },
  {
   "cell_type": "code",
   "execution_count": 16,
   "metadata": {},
   "outputs": [
    {
     "data": {
      "text/plain": [
       "5"
      ]
     },
     "execution_count": 16,
     "metadata": {},
     "output_type": "execute_result"
    }
   ],
   "source": [
    "from typing import List\n",
    "\n",
    "class Solution121:\n",
    "    def maxProfit(self, prices: List[int]) -> int:\n",
    "        if len(prices) == 1:\n",
    "            return 0\n",
    "        profits = []\n",
    "        for i, _ in enumerate(prices):\n",
    "            profits.append([j-k for j,k in zip(prices[i:], prices[:-i])])\n",
    "        profits_flatten = [item for sublist in profits for item in sublist]\n",
    "        max_profit = max(profits_flatten)\n",
    "        \n",
    "        return max_profit if max_profit > 0 else 0\n",
    "\n",
    "Solution121().maxProfit(prices=[7,1,5,3,6,4])\n",
    "# превышен лимит времени на тестовом примере сайта"
   ]
  },
  {
   "cell_type": "code",
   "execution_count": 17,
   "metadata": {},
   "outputs": [
    {
     "data": {
      "text/plain": [
       "5"
      ]
     },
     "execution_count": 17,
     "metadata": {},
     "output_type": "execute_result"
    }
   ],
   "source": [
    "class Solution121:\n",
    "    def maxProfit(self, prices: List[int]) -> int:\n",
    "        min_price = 2e4\n",
    "        max_profit = 0\n",
    "        for i, _ in enumerate(prices):\n",
    "            if prices[i] < min_price:\n",
    "                min_price = prices[i]\n",
    "            else:\n",
    "                current_difference = prices[i] - min_price\n",
    "                if current_difference > max_profit:\n",
    "                    max_profit = current_difference\n",
    "        return max_profit\n",
    "\n",
    "Solution121().maxProfit(prices=[7,1,5,3,6,4])"
   ]
  },
  {
   "attachments": {},
   "cell_type": "markdown",
   "metadata": {},
   "source": [
    "## Задача 122. Best Time to Buy and Sell Stock 2 (Medium)"
   ]
  },
  {
   "cell_type": "code",
   "execution_count": 18,
   "metadata": {},
   "outputs": [
    {
     "data": {
      "text/plain": [
       "7"
      ]
     },
     "execution_count": 18,
     "metadata": {},
     "output_type": "execute_result"
    }
   ],
   "source": [
    "class Solution122:\n",
    "    def maxProfit(self, prices: List[int]) -> int:\n",
    "        max_profit = 0\n",
    "        for i, _ in enumerate(prices[:-1]):\n",
    "            prices_difference = prices[i+1] - prices[i]\n",
    "            if prices_difference > 0:\n",
    "                max_profit += prices_difference\n",
    "        return max_profit\n",
    "\n",
    "Solution122().maxProfit(prices=[7,1,5,3,6,4])"
   ]
  },
  {
   "attachments": {},
   "cell_type": "markdown",
   "metadata": {},
   "source": [
    "## Задача 202. Happy Number (Easy)"
   ]
  },
  {
   "cell_type": "code",
   "execution_count": 19,
   "metadata": {},
   "outputs": [
    {
     "data": {
      "text/plain": [
       "True"
      ]
     },
     "execution_count": 19,
     "metadata": {},
     "output_type": "execute_result"
    }
   ],
   "source": [
    "class Solution202:\n",
    "    def isHappy(self, n: int) -> bool:\n",
    "        cache = []\n",
    "        while n != 1:\n",
    "            sum = 0\n",
    "            for i in str(n):\n",
    "                sum += int(i)**2\n",
    "            n = sum\n",
    "            if n in cache:\n",
    "                return False\n",
    "            else:\n",
    "                cache.append(n)\n",
    "        return True\n",
    "\n",
    "Solution202().isHappy(n=19)"
   ]
  },
  {
   "attachments": {},
   "cell_type": "markdown",
   "metadata": {},
   "source": [
    "## Задача 912. Sort an Array (Medium)"
   ]
  },
  {
   "cell_type": "code",
   "execution_count": 20,
   "metadata": {},
   "outputs": [
    {
     "data": {
      "text/plain": [
       "[1, 2, 3, 5]"
      ]
     },
     "execution_count": 20,
     "metadata": {},
     "output_type": "execute_result"
    }
   ],
   "source": [
    "from typing import List\n",
    "\n",
    "def merge(nums: List[int], p: int, q: int, r: int):\n",
    "    left = nums[p:q+1]\n",
    "    right = nums[q+1:r+1]\n",
    "    i = 0\n",
    "    j = 0\n",
    "    k = p\n",
    "    while i < len(left) and j < len(right):\n",
    "        if left[i] < right[j]:\n",
    "            nums[k] = left[i]\n",
    "            i += 1\n",
    "        else:\n",
    "            nums[k] = right[j]\n",
    "            j += 1\n",
    "        k += 1\n",
    "        \n",
    "    while i < len(left):\n",
    "        nums[k] = left[i]\n",
    "        i += 1\n",
    "        k += 1\n",
    "        \n",
    "    while j < len(right):\n",
    "        nums[k] = right[j]\n",
    "        j += 1\n",
    "        k += 1\n",
    "        \n",
    "def merge_sort(nums: List[int], p: int, r:int):\n",
    "    if p < r:\n",
    "        mid = (p + r) // 2\n",
    "        merge_sort(nums, p, mid)\n",
    "        merge_sort(nums, mid+1, r)\n",
    "        merge(nums, p, mid, r)\n",
    "    return nums\n",
    "\n",
    "class Solution912:\n",
    "\n",
    "    def sortArray(self, nums: List[int]) -> List[int]:\n",
    "        return merge_sort(nums, 0, len(nums)-1)\n",
    "\n",
    "Solution912().sortArray(nums=[5, 2, 3, 1])"
   ]
  },
  {
   "attachments": {},
   "cell_type": "markdown",
   "metadata": {},
   "source": [
    "## Задача 1518. Water Bottles (Easy)"
   ]
  },
  {
   "cell_type": "code",
   "execution_count": 21,
   "metadata": {},
   "outputs": [
    {
     "data": {
      "text/plain": [
       "11"
      ]
     },
     "execution_count": 21,
     "metadata": {},
     "output_type": "execute_result"
    }
   ],
   "source": [
    "class Solution1518:\n",
    "    def numWaterBottles(self, numBottles: int, numExchange: int) -> int:\n",
    "        drunk_bottles = 0\n",
    "        full_bottles = numBottles\n",
    "        empty_bottles = 0\n",
    "        while full_bottles >= 1:\n",
    "            drunk_bottles += full_bottles\n",
    "            full_bottles_new = (full_bottles + empty_bottles) // numExchange\n",
    "            empty_bottles = (full_bottles + empty_bottles) % numExchange\n",
    "            full_bottles = full_bottles_new\n",
    "        \n",
    "        return drunk_bottles\n",
    "\n",
    "Solution1518().numWaterBottles(numBottles=10, numExchange=6)"
   ]
  },
  {
   "attachments": {},
   "cell_type": "markdown",
   "metadata": {},
   "source": [
    "## Задача 1539. Kth Missing Positive Number (Easy)"
   ]
  },
  {
   "cell_type": "code",
   "execution_count": 22,
   "metadata": {},
   "outputs": [
    {
     "data": {
      "text/plain": [
       "10"
      ]
     },
     "execution_count": 22,
     "metadata": {},
     "output_type": "execute_result"
    }
   ],
   "source": [
    "from typing import List\n",
    "\n",
    "class Solution1539:\n",
    "    def findKthPositive(self, arr: List[int], k: int) -> int:\n",
    "        current_missed_count = 0\n",
    "        n = 1\n",
    "        i = 0\n",
    "        while True:\n",
    "            if i < len(arr) and arr[i] != n:\n",
    "                current_missed_count += 1\n",
    "            elif i >= len(arr):\n",
    "                current_missed_count += 1\n",
    "            else:\n",
    "                i += 1\n",
    "            if current_missed_count == k:\n",
    "                return n\n",
    "            n += 1\n",
    "\n",
    "Solution1539().findKthPositive(arr=[2,3,4,7,11], k=6)"
   ]
  },
  {
   "cell_type": "code",
   "execution_count": null,
   "metadata": {},
   "outputs": [],
   "source": []
  }
 ],
 "metadata": {
  "kernelspec": {
   "display_name": "notebooks-source-env",
   "language": "python",
   "name": "python3"
  },
  "language_info": {
   "codemirror_mode": {
    "name": "ipython",
    "version": 3
   },
   "file_extension": ".py",
   "mimetype": "text/x-python",
   "name": "python",
   "nbconvert_exporter": "python",
   "pygments_lexer": "ipython3",
   "version": "3.10.9"
  },
  "orig_nbformat": 4,
  "vscode": {
   "interpreter": {
    "hash": "a14721e391bd93d2ef762652f16c6071f845f371ae1109f269ccebb74cbd8121"
   }
  }
 },
 "nbformat": 4,
 "nbformat_minor": 2
}
