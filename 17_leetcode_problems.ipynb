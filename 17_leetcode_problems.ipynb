{
 "cells": [
  {
   "attachments": {},
   "cell_type": "markdown",
   "metadata": {},
   "source": [
    "## Задача 1. Two Sum (Easy)"
   ]
  },
  {
   "cell_type": "code",
   "execution_count": 1,
   "metadata": {},
   "outputs": [
    {
     "data": {
      "text/plain": [
       "[0, 1]"
      ]
     },
     "execution_count": 1,
     "metadata": {},
     "output_type": "execute_result"
    }
   ],
   "source": [
    "from typing import List\n",
    "\n",
    "class Solution1:\n",
    "    def two_sum(self, nums: List[int], target: int) -> List[int]:\n",
    "        for i, num1 in enumerate(nums):\n",
    "            for j, num2 in enumerate(nums[i+1:]):\n",
    "                if num1 + num2 == target:\n",
    "                    return [i, j+i+1]\n",
    "\n",
    "Solution1().two_sum(nums=[3,3], target=6)"
   ]
  },
  {
   "cell_type": "code",
   "execution_count": 2,
   "metadata": {},
   "outputs": [
    {
     "data": {
      "text/plain": [
       "[1, 0]"
      ]
     },
     "execution_count": 2,
     "metadata": {},
     "output_type": "execute_result"
    }
   ],
   "source": [
    "from typing import List\n",
    "\n",
    "class Solution1_1:\n",
    "    def two_sum(self, nums: List[int], target: int) -> List[int]:\n",
    "        seen = {}\n",
    "        for i, num in enumerate(nums):\n",
    "            comp = target - num\n",
    "            if comp in seen:\n",
    "                return [i, seen[comp]]\n",
    "            seen[num] = i\n",
    "\n",
    "Solution1_1().two_sum(nums=[3,3], target=6)"
   ]
  },
  {
   "attachments": {},
   "cell_type": "markdown",
   "metadata": {},
   "source": [
    "## Задача 2. Add Two Numbers (Medium)"
   ]
  },
  {
   "cell_type": "code",
   "execution_count": 3,
   "metadata": {},
   "outputs": [
    {
     "data": {
      "text/plain": [
       "ListNode{val: 7, next: ListNode{val: 0, next: ListNode{val: 8, next: None}}}"
      ]
     },
     "execution_count": 3,
     "metadata": {},
     "output_type": "execute_result"
    }
   ],
   "source": [
    "from typing import Optional\n",
    "\n",
    "class ListNode:\n",
    "    def __init__(self, val=0, next=None):\n",
    "        self.val = val\n",
    "        self.next = next\n",
    "    def __repr__(self):\n",
    "        return f'ListNode{{val: {self.val}, next: {self.next}}}'\n",
    "\n",
    "\n",
    "def linked_list_to_int(l1: Optional[ListNode]) -> Optional[int]:\n",
    "    l1_list = [l1.val]\n",
    "    l1 = l1.next\n",
    "    while l1 is not None:\n",
    "        l1_list.append(l1.val)\n",
    "        l1 = l1.next\n",
    "    return int(''.join([str(i) for i in l1_list[::-1]]))\n",
    "\n",
    "\n",
    "def int_to_linked_list(n: Optional[int]) -> Optional[ListNode]:\n",
    "    n_list = [int(i) for i in str(n)]\n",
    "    linked_list = ListNode(val=n_list[0], next=None)\n",
    "    for value in n_list[1:]:\n",
    "        linked_list = ListNode(val=value, next=linked_list)\n",
    "    return linked_list\n",
    "    \n",
    "\n",
    "class Solution2:\n",
    "    def add_two_numbers(self, l1: Optional[ListNode], l2: Optional[ListNode]) -> Optional[ListNode]:\n",
    "        l1_int = linked_list_to_int(l1)\n",
    "        l2_int = linked_list_to_int(l2)\n",
    "        return int_to_linked_list(l1_int+l2_int)\n",
    "\n",
    "Solution2().add_two_numbers(\n",
    "    l1=ListNode(val=2,next=ListNode(val=4, next=ListNode(val=3, next=None))),\n",
    "    l2=ListNode(val=5,next=ListNode(val=6, next=ListNode(val=4, next=None)))\n",
    ")"
   ]
  },
  {
   "attachments": {},
   "cell_type": "markdown",
   "metadata": {},
   "source": [
    "## Задача 3. Longest Substring Without Repeating Characters (Medium)"
   ]
  },
  {
   "cell_type": "code",
   "execution_count": 4,
   "metadata": {},
   "outputs": [
    {
     "data": {
      "text/plain": [
       "8"
      ]
     },
     "execution_count": 4,
     "metadata": {},
     "output_type": "execute_result"
    }
   ],
   "source": [
    "class Solution3:\n",
    "    def length_of_longest_substring(self, s: str) -> int:\n",
    "        longest_size = 0\n",
    "        for i, _ in enumerate(s):\n",
    "            j = i + 1\n",
    "            while len(set(s[i:j+1])) == len(s[i:j+1]) and j <= len(s):\n",
    "                j += 1\n",
    "            if (j - i) > longest_size:\n",
    "                longest_size = j - i\n",
    "        return longest_size\n",
    "\n",
    "Solution3().length_of_longest_substring(s='abstracefaaabc')"
   ]
  },
  {
   "attachments": {},
   "cell_type": "markdown",
   "metadata": {},
   "source": [
    "## Задача 4. Median of Two Sorted Arrays (Hard)"
   ]
  },
  {
   "cell_type": "code",
   "execution_count": 5,
   "metadata": {},
   "outputs": [
    {
     "data": {
      "text/plain": [
       "1.5"
      ]
     },
     "execution_count": 5,
     "metadata": {},
     "output_type": "execute_result"
    }
   ],
   "source": [
    "from typing import List\n",
    "\n",
    "class Solution4:\n",
    "    def find_median_sorted_arrays(self, nums1: List[int], nums2: List[int]) -> float:\n",
    "        m = len(nums1)\n",
    "        n = len(nums2)\n",
    "        m1 = 0\n",
    "        m2 = 0\n",
    "        i = 0\n",
    "        j = 0\n",
    "        for _ in range((m + n) // 2 + 1):\n",
    "            m2 = m1\n",
    "            if i != m and j != n:\n",
    "                if nums1[i] > nums2[j]:\n",
    "                    m1 = nums2[j]\n",
    "                    j += 1\n",
    "                else:\n",
    "                    m1 = nums1[i]\n",
    "                    i += 1\n",
    "            elif i < m:\n",
    "                m1 = nums1[i]\n",
    "                i += 1\n",
    "            else:\n",
    "                m1 = nums2[j]\n",
    "                j += 1\n",
    "        \n",
    "        if (m + n) % 2 == 1:\n",
    "            return float(m1)\n",
    "        else:\n",
    "            return (m1 + m2) / 2\n",
    "\n",
    "Solution4().find_median_sorted_arrays(nums1=[0, 0], nums2=[3, 4])"
   ]
  },
  {
   "attachments": {},
   "cell_type": "markdown",
   "metadata": {},
   "source": [
    "## Задача 5. Longest Palindromic Substring (Medium)"
   ]
  },
  {
   "cell_type": "code",
   "execution_count": 6,
   "metadata": {},
   "outputs": [
    {
     "data": {
      "text/plain": [
       "'dabad'"
      ]
     },
     "execution_count": 6,
     "metadata": {},
     "output_type": "execute_result"
    }
   ],
   "source": [
    "class Solution5:\n",
    "    def longest_palindrome(self, s: str) -> str:\n",
    "        longest_palindrome = ''\n",
    "        for i, _ in enumerate(s):\n",
    "            for j, _ in enumerate(s[i:]):\n",
    "                current_substring = s[i:j+i+1]\n",
    "                if current_substring == current_substring[::-1] and len(current_substring) > len(longest_palindrome):\n",
    "                    longest_palindrome = current_substring\n",
    "        return longest_palindrome\n",
    "\n",
    "Solution5().longest_palindrome(s='dabadc')\n",
    "# превышен лимит времени на тестовом примере сайта"
   ]
  },
  {
   "cell_type": "code",
   "execution_count": 7,
   "metadata": {},
   "outputs": [
    {
     "data": {
      "text/plain": [
       "'bb'"
      ]
     },
     "execution_count": 7,
     "metadata": {},
     "output_type": "execute_result"
    }
   ],
   "source": [
    "class Solution5:\n",
    "    def longest_palindrome(self, s: str) -> str:\n",
    "        ans = ''\n",
    "        def helper_with_pointers(ans, left, right):\n",
    "            while left >= 0 and right < len(s):\n",
    "                if s[left] != s[right]:\n",
    "                    break\n",
    "                if right - left + 1 > len(ans):\n",
    "                    ans = s[left:right+1]\n",
    "                left -= 1\n",
    "                right += 1\n",
    "            return ans\n",
    "        for i, _ in enumerate(s):\n",
    "            ans = helper_with_pointers(ans, i, i)\n",
    "            ans = helper_with_pointers(ans, i, i+1)\n",
    "        return ans\n",
    "\n",
    "Solution5().longest_palindrome(s='cbbd')"
   ]
  },
  {
   "attachments": {},
   "cell_type": "markdown",
   "metadata": {},
   "source": [
    "## Задача 7. Reverse Integer (Medium)"
   ]
  },
  {
   "cell_type": "code",
   "execution_count": 8,
   "metadata": {},
   "outputs": [
    {
     "data": {
      "text/plain": [
       "21"
      ]
     },
     "execution_count": 8,
     "metadata": {},
     "output_type": "execute_result"
    }
   ],
   "source": [
    "class Solution7:\n",
    "    def reverse(self, x: int) -> int:\n",
    "        if x < 0:\n",
    "            x = -x\n",
    "            x_str = str(x)[::-1]\n",
    "            if len(x_str) < 10:\n",
    "                return int('-' + x_str)\n",
    "            else:\n",
    "                if len(x_str) == 10 and x_str <= '2147483648':\n",
    "                    return int('-' + x_str)\n",
    "                else:\n",
    "                    return 0\n",
    "        else:\n",
    "            x_str = str(x)[::-1]\n",
    "            if len(x_str) < 10:\n",
    "                return int(x_str)\n",
    "            else:\n",
    "                if len(x_str) == 10 and x_str <= '2147483647':\n",
    "                    return int(x_str)\n",
    "                else:\n",
    "                    return 0\n",
    "\n",
    "Solution7().reverse(x=120)"
   ]
  },
  {
   "attachments": {},
   "cell_type": "markdown",
   "metadata": {},
   "source": [
    "## Задача 9. Palindrome Number (Easy)"
   ]
  },
  {
   "cell_type": "code",
   "execution_count": 9,
   "metadata": {},
   "outputs": [
    {
     "data": {
      "text/plain": [
       "True"
      ]
     },
     "execution_count": 9,
     "metadata": {},
     "output_type": "execute_result"
    }
   ],
   "source": [
    "class Solution9:\n",
    "    def is_palindrome(self, x: int) -> bool:\n",
    "        if str(x)[::-1] == str(x):\n",
    "            return True\n",
    "        else:\n",
    "            return False\n",
    "\n",
    "Solution9().is_palindrome(x=10101)"
   ]
  },
  {
   "cell_type": "code",
   "execution_count": 10,
   "metadata": {},
   "outputs": [
    {
     "data": {
      "text/plain": [
       "True"
      ]
     },
     "execution_count": 10,
     "metadata": {},
     "output_type": "execute_result"
    }
   ],
   "source": [
    "class Solution9_1:\n",
    "    def is_palindrome(self, x: int) -> bool:\n",
    "        if x < 0:\n",
    "            return False\n",
    "        new = 0\n",
    "        original_x = x\n",
    "        while x:\n",
    "            x, d = divmod(x, 10)\n",
    "            new = new * 10 + d\n",
    "        return new == original_x\n",
    "\n",
    "Solution9_1().is_palindrome(x=10101)"
   ]
  },
  {
   "attachments": {},
   "cell_type": "markdown",
   "metadata": {},
   "source": [
    "## Задача 11. Container With Most Water (Medium)"
   ]
  },
  {
   "cell_type": "code",
   "execution_count": 11,
   "metadata": {},
   "outputs": [
    {
     "data": {
      "text/plain": [
       "49"
      ]
     },
     "execution_count": 11,
     "metadata": {},
     "output_type": "execute_result"
    }
   ],
   "source": [
    "from typing import List\n",
    "\n",
    "class Solution11:\n",
    "    def max_area(self, height: List[int]) -> int:\n",
    "        left, right = 0, len(height) - 1\n",
    "        ans = 0\n",
    "        while left <= right:\n",
    "            ans = max(ans, (right - left) * min(height[left], height[right]))\n",
    "            if height[left] < height[right]:\n",
    "                left += 1\n",
    "            else:\n",
    "                right -= 1\n",
    "        return ans\n",
    "\n",
    "Solution11().max_area(height=[1, 8, 6, 2, 5, 4, 8, 3, 7])"
   ]
  },
  {
   "attachments": {},
   "cell_type": "markdown",
   "metadata": {},
   "source": [
    "## Задача 13. Roman to Integer (Easy)"
   ]
  },
  {
   "cell_type": "code",
   "execution_count": 12,
   "metadata": {},
   "outputs": [
    {
     "data": {
      "text/plain": [
       "1994"
      ]
     },
     "execution_count": 12,
     "metadata": {},
     "output_type": "execute_result"
    }
   ],
   "source": [
    "class Solution13:\n",
    "    def roman_to_int(self, s: str) -> int:\n",
    "        symbols_dict = {\n",
    "            'I': 1,\n",
    "            'V': 5,\n",
    "            'X': 10,\n",
    "            'L': 50,\n",
    "            'C': 100,\n",
    "            'D': 500,\n",
    "            'M': 1000\n",
    "        }\n",
    "        s_int = 0\n",
    "        last_symbol = s[0]\n",
    "        for symbol in s:\n",
    "            if symbols_dict[symbol] > symbols_dict[last_symbol]:\n",
    "                s_int += symbols_dict[symbol]\n",
    "                s_int -= 2 * symbols_dict[last_symbol]\n",
    "            else:\n",
    "                s_int += symbols_dict[symbol]\n",
    "            last_symbol = symbol\n",
    "        \n",
    "        return s_int\n",
    "\n",
    "Solution13().roman_to_int(s='MCMXCIV')"
   ]
  },
  {
   "cell_type": "code",
   "execution_count": 13,
   "metadata": {},
   "outputs": [
    {
     "data": {
      "text/plain": [
       "1994"
      ]
     },
     "execution_count": 13,
     "metadata": {},
     "output_type": "execute_result"
    }
   ],
   "source": [
    "class Solution13_1:\n",
    "    def roman_to_int(self, s: str) -> int:\n",
    "        symbols_dict = {\n",
    "            'I': 1,\n",
    "            'V': 5,\n",
    "            'X': 10,\n",
    "            'L': 50,\n",
    "            'C': 100,\n",
    "            'D': 500,\n",
    "            'M': 1000\n",
    "        }\n",
    "        ans = 0\n",
    "        i = 0\n",
    "        while i < len(s):\n",
    "            if i < len(s) - 1 and symbols_dict[s[i]] < symbols_dict[s[i+1]]:\n",
    "                ans += symbols_dict[s[i+1]] - symbols_dict[s[i]]\n",
    "                i += 2\n",
    "            else:\n",
    "                ans += symbols_dict[s[i]]\n",
    "                i += 1\n",
    "        return ans\n",
    "\n",
    "Solution13_1().roman_to_int(s='MCMXCIV')"
   ]
  },
  {
   "attachments": {},
   "cell_type": "markdown",
   "metadata": {},
   "source": [
    "## Задача 14. Longest Common Prefix (Easy)"
   ]
  },
  {
   "cell_type": "code",
   "execution_count": 14,
   "metadata": {},
   "outputs": [
    {
     "data": {
      "text/plain": [
       "'geo'"
      ]
     },
     "execution_count": 14,
     "metadata": {},
     "output_type": "execute_result"
    }
   ],
   "source": [
    "from typing import List\n",
    "\n",
    "class Solution14:\n",
    "    def longest_common_prefix(self, strs: List[str]) -> str:\n",
    "        common_prefix = ''\n",
    "        words_lengths = [len(word) for word in strs]\n",
    "        min_index = words_lengths.index(min(words_lengths))\n",
    "        for i, s in enumerate(strs[min_index]):\n",
    "            if [word[i] == s for word in strs] == [1]*len(strs):\n",
    "                common_prefix += s\n",
    "            else:\n",
    "                break\n",
    "        return common_prefix\n",
    "\n",
    "Solution14().longest_common_prefix(strs=['geology','geomechanics', 'geometry'])"
   ]
  },
  {
   "cell_type": "code",
   "execution_count": 15,
   "metadata": {},
   "outputs": [
    {
     "data": {
      "text/plain": [
       "'c'"
      ]
     },
     "execution_count": 15,
     "metadata": {},
     "output_type": "execute_result"
    }
   ],
   "source": [
    "from typing import List\n",
    "\n",
    "class Solution14_1:\n",
    "    def longest_common_prefix(self, strs: List[str]) -> str:\n",
    "        first = strs[0]\n",
    "        ans = ''\n",
    "        i = 0\n",
    "        for i, _ in enumerate(first):\n",
    "            for word in strs[1:]:\n",
    "                if i > len(word) - 1 or first[i] != word[i]:\n",
    "                    return ans\n",
    "            ans += first[i]\n",
    "        return ans\n",
    "\n",
    "Solution14_1().longest_common_prefix(strs=['cir', 'car'])"
   ]
  },
  {
   "attachments": {},
   "cell_type": "markdown",
   "metadata": {},
   "source": [
    "## Задача 20. Valid Parentheses (Easy)"
   ]
  },
  {
   "cell_type": "code",
   "execution_count": 16,
   "metadata": {},
   "outputs": [
    {
     "data": {
      "text/plain": [
       "False"
      ]
     },
     "execution_count": 16,
     "metadata": {},
     "output_type": "execute_result"
    }
   ],
   "source": [
    "class Solution20:\n",
    "    def is_valid(self, s: str) -> bool:\n",
    "        braces_list = ['{}', '[]', '()']\n",
    "        while [braces in s for braces in braces_list] != [0, 0, 0]:\n",
    "            for braces in braces_list:\n",
    "                s = s.replace(braces, '')\n",
    "        if len(s):\n",
    "            return False\n",
    "        else:\n",
    "            return True\n",
    "\n",
    "Solution20().is_valid(s='([)')"
   ]
  },
  {
   "cell_type": "code",
   "execution_count": 17,
   "metadata": {},
   "outputs": [
    {
     "data": {
      "text/plain": [
       "True"
      ]
     },
     "execution_count": 17,
     "metadata": {},
     "output_type": "execute_result"
    }
   ],
   "source": [
    "class Solution20_1:\n",
    "    def is_valid(self, s: str) -> bool:\n",
    "        stack = []\n",
    "        parentheses_dict = {')':'(', ']':'[', '}':'{'}\n",
    "        for ch in s:\n",
    "            if ch not in parentheses_dict.keys():\n",
    "                stack.append(ch)\n",
    "            else:\n",
    "                if stack and stack[-1] == parentheses_dict[ch]:\n",
    "                    stack.pop()\n",
    "                else:\n",
    "                    return False\n",
    "        return len(stack) == 0\n",
    "\n",
    "Solution20_1().is_valid(s='()')"
   ]
  },
  {
   "cell_type": "code",
   "execution_count": 18,
   "metadata": {},
   "outputs": [
    {
     "data": {
      "text/plain": [
       "True"
      ]
     },
     "execution_count": 18,
     "metadata": {},
     "output_type": "execute_result"
    }
   ],
   "source": [
    "# следующий код немного лучше отрабатывает по времени и по памяти\n",
    "class Solution20_2:\n",
    "    def is_valid(self, s: str) -> bool:\n",
    "        while '{}' in s or '[]' in s or '()' in s:\n",
    "            s = s.replace('{}', '').replace('[]', '').replace('()', '')\n",
    "        return True if s == '' else False\n",
    "\n",
    "Solution20_2().is_valid(s='([])')"
   ]
  },
  {
   "attachments": {},
   "cell_type": "markdown",
   "metadata": {},
   "source": [
    "## Задача 21. Merge Two Sorted Lists (Easy)"
   ]
  },
  {
   "cell_type": "code",
   "execution_count": 19,
   "metadata": {},
   "outputs": [
    {
     "data": {
      "text/plain": [
       "ListNode{val: 1, next: ListNode{val: 1, next: ListNode{val: 2, next: ListNode{val: 3, next: ListNode{val: 4, next: ListNode{val: 4, next: None}}}}}}"
      ]
     },
     "execution_count": 19,
     "metadata": {},
     "output_type": "execute_result"
    }
   ],
   "source": [
    "from typing import Optional\n",
    "\n",
    "class ListNode:\n",
    "    def __init__(self, val=0, next=None):\n",
    "        self.val = val\n",
    "        self.next = next\n",
    "    def __repr__(self):\n",
    "        return f'ListNode{{val: {self.val}, next: {self.next}}}'\n",
    "\n",
    "class Solution21:\n",
    "    def merge_two_lists(self, list1: Optional[ListNode], list2: Optional[ListNode]) -> Optional[ListNode]:\n",
    "        zero_node = ListNode(None)\n",
    "        prev = zero_node\n",
    "        while list1 and list2:\n",
    "            if list1.val > list2.val:\n",
    "                prev.next = list2\n",
    "                list2 = list2.next\n",
    "            else:\n",
    "                prev.next = list1\n",
    "                list1 = list1.next\n",
    "            prev = prev.next\n",
    "        if list1:\n",
    "            prev.next = list1\n",
    "        if list2:\n",
    "            prev.next = list2\n",
    "        return zero_node.next\n",
    "\n",
    "Solution21().merge_two_lists(list1=ListNode(val=1, next=ListNode(val=2, next=ListNode(val=4, next=None))),\n",
    "                             list2=ListNode(val=1, next=ListNode(val=3, next=ListNode(val=4, next=None))))"
   ]
  },
  {
   "attachments": {},
   "cell_type": "markdown",
   "metadata": {},
   "source": [
    "## Задача 26. Remove Duplicates from Sorted Array (Easy)"
   ]
  },
  {
   "cell_type": "code",
   "execution_count": 20,
   "metadata": {},
   "outputs": [
    {
     "data": {
      "text/plain": [
       "(5, [0, 1, 2, 3, 4, '_', '_', '_', '_', '_'])"
      ]
     },
     "execution_count": 20,
     "metadata": {},
     "output_type": "execute_result"
    }
   ],
   "source": [
    "from typing import List\n",
    "\n",
    "class Solution26:\n",
    "    def remove_duplicates(self, nums: List[int]) -> int:\n",
    "        i = 0\n",
    "        del_count = 0\n",
    "        while i != len(nums) - 1 and nums[i] != '_':\n",
    "            if nums[i] == nums[i+1]:\n",
    "                del nums[i]\n",
    "                del_count += 1\n",
    "                nums.append('_')\n",
    "            else:\n",
    "                i += 1\n",
    "            \n",
    "        return len(nums) - del_count, nums\n",
    "\n",
    "Solution26().remove_duplicates(nums=[0,0,1,1,1,2,2,3,3,4])"
   ]
  },
  {
   "cell_type": "code",
   "execution_count": 21,
   "metadata": {},
   "outputs": [
    {
     "name": "stdout",
     "output_type": "stream",
     "text": [
      "[0, 1, 2, 3, 4, 0, 2, 1, 3, 1]\n"
     ]
    },
    {
     "data": {
      "text/plain": [
       "5"
      ]
     },
     "execution_count": 21,
     "metadata": {},
     "output_type": "execute_result"
    }
   ],
   "source": [
    "from typing import List\n",
    "\n",
    "class Solution26_1:\n",
    "    def remove_duplicates(self, nums: List[int]) -> int:\n",
    "        j = 0\n",
    "        for i, _ in enumerate(nums):\n",
    "            if nums[i] != nums[j]:\n",
    "                j += 1\n",
    "                nums[j], nums[i] = nums[i], nums[j]\n",
    "        print(nums)\n",
    "        return j + 1\n",
    "\n",
    "Solution26_1().remove_duplicates(nums=[0,0,1,1,1,2,2,3,3,4])"
   ]
  },
  {
   "attachments": {},
   "cell_type": "markdown",
   "metadata": {},
   "source": [
    "## Задача 27. Remove Element (Easy)"
   ]
  },
  {
   "cell_type": "code",
   "execution_count": 22,
   "metadata": {},
   "outputs": [
    {
     "name": "stdout",
     "output_type": "stream",
     "text": [
      "[0, 1, 4, 0, 3, -1, -1, -1]\n"
     ]
    },
    {
     "data": {
      "text/plain": [
       "5"
      ]
     },
     "execution_count": 22,
     "metadata": {},
     "output_type": "execute_result"
    }
   ],
   "source": [
    "class Solution27:\n",
    "    def remove_element(self, nums: List[int], val: int) -> int:\n",
    "        i, j = 0, len(nums) - 1\n",
    "        count = 0\n",
    "        while i < len(nums) and nums[i] != -1:\n",
    "            if nums[i] == val:\n",
    "                nums[i] = -1\n",
    "                nums[i], nums[j] = nums[j], nums[i]\n",
    "                j -= 1\n",
    "                count += 1\n",
    "            else:\n",
    "                i += 1\n",
    "        print(nums)\n",
    "        return len(nums) - count\n",
    "\n",
    "Solution27().remove_element(nums=[0, 1, 2, 2, 3, 0, 4, 2], val=2)"
   ]
  },
  {
   "cell_type": "code",
   "execution_count": 23,
   "metadata": {},
   "outputs": [
    {
     "data": {
      "text/plain": [
       "5"
      ]
     },
     "execution_count": 23,
     "metadata": {},
     "output_type": "execute_result"
    }
   ],
   "source": [
    "class Solution27_1:\n",
    "    def remove_element(self, nums: List[int], val: int) -> int:\n",
    "        i = 0\n",
    "        for j, _ in enumerate(nums):\n",
    "            if nums[j] != val:\n",
    "                nums[i] = nums[j]\n",
    "                i += 1\n",
    "        return i\n",
    "\n",
    "Solution27_1().remove_element(nums=[0, 1, 2, 2, 3, 0, 4, 2], val=2)"
   ]
  },
  {
   "attachments": {},
   "cell_type": "markdown",
   "metadata": {},
   "source": [
    "## Задача 28. Find the Index of the First Occurrence in a String (Medium)"
   ]
  },
  {
   "cell_type": "code",
   "execution_count": 24,
   "metadata": {},
   "outputs": [
    {
     "data": {
      "text/plain": [
       "0"
      ]
     },
     "execution_count": 24,
     "metadata": {},
     "output_type": "execute_result"
    }
   ],
   "source": [
    "class Solution28:\n",
    "    def str_str(self, haystack: str, needle: str) -> int:\n",
    "        if needle in haystack:\n",
    "            return haystack.find(needle)\n",
    "        else:\n",
    "            return -1\n",
    "\n",
    "Solution28().str_str(haystack='newtonew', needle='new')"
   ]
  },
  {
   "cell_type": "code",
   "execution_count": 25,
   "metadata": {},
   "outputs": [
    {
     "data": {
      "text/plain": [
       "2"
      ]
     },
     "execution_count": 25,
     "metadata": {},
     "output_type": "execute_result"
    }
   ],
   "source": [
    "class Solution28_1:\n",
    "    def str_str(self, haystack: str, needle: str) -> int:\n",
    "        haystack_len = len(haystack)\n",
    "        needle_len = len(needle)\n",
    "        for i in range(haystack_len - needle_len + 1):\n",
    "            if haystack[i:i+needle_len] == needle:\n",
    "                return i\n",
    "\n",
    "Solution28_1().str_str(haystack='hello', needle='ll')"
   ]
  },
  {
   "attachments": {},
   "cell_type": "markdown",
   "metadata": {},
   "source": [
    "## Задача 33. Search in Rotated Sorted Array (Medium)"
   ]
  },
  {
   "cell_type": "code",
   "execution_count": 26,
   "metadata": {},
   "outputs": [
    {
     "data": {
      "text/plain": [
       "2"
      ]
     },
     "execution_count": 26,
     "metadata": {},
     "output_type": "execute_result"
    }
   ],
   "source": [
    "from typing import List\n",
    "\n",
    "class Solution33:\n",
    "    def search(self, nums: List[int], target: int) -> int:\n",
    "\n",
    "        left, right = 0, len(nums) - 1\n",
    "        if nums[left] > nums[right]:\n",
    "            while left + 1 < right:\n",
    "                mid = (left + right) // 2\n",
    "                if nums[mid] > nums[right]:\n",
    "                    left = mid\n",
    "                if nums[mid] < nums[right]:\n",
    "                    right = mid\n",
    "        edge = right\n",
    "\n",
    "        def binary_search(l, r, target):\n",
    "            while l <= r:\n",
    "                mid = (l + r) // 2\n",
    "                if nums[mid] == target:\n",
    "                    return mid\n",
    "                if nums[mid] > target:\n",
    "                    r = mid - 1\n",
    "                else:\n",
    "                    l = mid + 1\n",
    "            return -1\n",
    "        \n",
    "        left_result = binary_search(0, edge - 1, target)\n",
    "        right_result = binary_search(edge, len(nums) - 1, target)\n",
    "        if right_result != -1:\n",
    "            return right_result\n",
    "        else:\n",
    "            return left_result\n",
    "\n",
    "Solution33().search(nums=[1,2,3,4,5,6,7], target=3)"
   ]
  },
  {
   "attachments": {},
   "cell_type": "markdown",
   "metadata": {},
   "source": [
    "## Задача 35. Search Insert Position (Easy)"
   ]
  },
  {
   "cell_type": "code",
   "execution_count": 27,
   "metadata": {},
   "outputs": [
    {
     "name": "stdout",
     "output_type": "stream",
     "text": [
      "4\n"
     ]
    }
   ],
   "source": [
    "from typing import List\n",
    "\n",
    "class Solution35:\n",
    "    def search_insert(self, nums: List[int], target: int) -> int:\n",
    "        left = 0\n",
    "        right = len(nums)\n",
    "        while (left + 1) != right:\n",
    "            \n",
    "            if nums[(right+left)//2] > target:\n",
    "                right = (right+left) // 2\n",
    "            elif nums[(right+left)//2] < target:\n",
    "                left = (right+left) // 2\n",
    "            else:\n",
    "                left_temp = left\n",
    "                left = (right+left_temp) // 2\n",
    "                right = (right+left_temp) // 2 + 1\n",
    "            #print(str(left) + ' , ' + str(right))\n",
    "        \n",
    "        if nums[left] >= target:\n",
    "            return left\n",
    "        else:\n",
    "            return left + 1\n",
    "        \n",
    "print(Solution35().search_insert(nums=[1,3,5,6], target=7))"
   ]
  },
  {
   "cell_type": "code",
   "execution_count": 28,
   "metadata": {},
   "outputs": [
    {
     "name": "stdout",
     "output_type": "stream",
     "text": [
      "4\n"
     ]
    }
   ],
   "source": [
    "from typing import List\n",
    "from bisect import bisect_left\n",
    "\n",
    "class Solution35_1:\n",
    "    def search_insert(self, nums: List[int], target: int) -> int:\n",
    "        return bisect_left(nums, target)\n",
    "\n",
    "print(Solution35_1().search_insert(nums=[1,3,5,6], target=7))"
   ]
  },
  {
   "attachments": {},
   "cell_type": "markdown",
   "metadata": {},
   "source": [
    "## Задача 36. Valid Sudoku (Medium)"
   ]
  },
  {
   "cell_type": "code",
   "execution_count": 29,
   "metadata": {},
   "outputs": [
    {
     "data": {
      "text/plain": [
       "True"
      ]
     },
     "execution_count": 29,
     "metadata": {},
     "output_type": "execute_result"
    }
   ],
   "source": [
    "from typing import List\n",
    "\n",
    "class Solution36:\n",
    "    def is_valid_sudoku(self, board: List[List[str]]) -> bool:\n",
    "        for i in range(9):\n",
    "            vertical = list(filter(lambda a: a != '.', board[:][i]))\n",
    "            horizontal = list(filter(lambda a: a != '.', list(zip(*board))[i]))\n",
    "\n",
    "            if len(set(vertical)) != len(vertical):\n",
    "                return False\n",
    "            \n",
    "            if len(set(horizontal)) != len(horizontal):\n",
    "                return False\n",
    "        \n",
    "        for i in [0, 3, 6]:\n",
    "            for j in [0, 3, 6]:\n",
    "                current_square = board[i][j:j+3] + board[i+1][j:j+3] + board[i+2][j:j+3]\n",
    "                current_square = list(filter(lambda a: a != '.', current_square))\n",
    "\n",
    "                if len(set(current_square)) != len(current_square):\n",
    "                    return False\n",
    "        \n",
    "        return True\n",
    "\n",
    "Solution36().is_valid_sudoku(\n",
    "    board = [['5', '3', '.', '.', '7', '.', '.', '.', '.'],\n",
    "             ['6', '.', '.', '1', '9', '5', '.', '.', '.'],\n",
    "             ['.', '9', '8', '.', '.', '.', '.', '6', '.'],\n",
    "             ['8', '.', '.', '.', '6', '.', '.', '.', '3'],\n",
    "             ['4', '.', '.', '8', '.', '3', '.', '.', '1'],\n",
    "             ['7', '.', '.', '.', '2', '.', '.', '.', '6'],\n",
    "             ['.', '6', '.', '.', '.', '.', '2', '8', '.'],\n",
    "             ['.', '.', '.', '4', '1', '9', '.', '.', '5'],\n",
    "             ['.', '.', '.', '.', '8', '.', '.', '7', '9']]\n",
    ")"
   ]
  },
  {
   "cell_type": "code",
   "execution_count": 30,
   "metadata": {},
   "outputs": [
    {
     "data": {
      "text/plain": [
       "False"
      ]
     },
     "execution_count": 30,
     "metadata": {},
     "output_type": "execute_result"
    }
   ],
   "source": [
    "Solution36().is_valid_sudoku(\n",
    "    board = [['5', '3', '.', '.', '7', '.', '.', '.', '.'],\n",
    "             ['6', '.', '.', '1', '9', '5', '.', '.', '.'],\n",
    "             ['.', '9', '5', '.', '.', '.', '.', '6', '.'],\n",
    "             ['8', '.', '.', '.', '6', '.', '.', '.', '3'],\n",
    "             ['4', '.', '.', '8', '.', '3', '.', '.', '1'],\n",
    "             ['7', '.', '.', '.', '2', '.', '.', '.', '6'],\n",
    "             ['.', '6', '.', '.', '.', '.', '2', '8', '.'],\n",
    "             ['.', '.', '.', '4', '1', '9', '.', '.', '5'],\n",
    "             ['.', '.', '.', '.', '8', '.', '.', '7', '9']]\n",
    ")"
   ]
  },
  {
   "attachments": {},
   "cell_type": "markdown",
   "metadata": {},
   "source": [
    "## Задача 48. Rotate Image (Medium)"
   ]
  },
  {
   "cell_type": "code",
   "execution_count": 31,
   "metadata": {},
   "outputs": [
    {
     "name": "stdout",
     "output_type": "stream",
     "text": [
      "[[7, 4, 1], [8, 5, 2], [9, 6, 3]]\n"
     ]
    }
   ],
   "source": [
    "from typing import List\n",
    "\n",
    "class Solution48:\n",
    "    def rotate(self, matrix: List[List[int]]) -> None:\n",
    "        n = len(matrix)\n",
    "        left, right = 0, n - 1\n",
    "        while left <= right:\n",
    "            matrix[left], matrix[right] = matrix[right], matrix[left]\n",
    "            left += 1\n",
    "            right -= 1\n",
    "        for row in range(n):\n",
    "            for col in range(row, n):\n",
    "                matrix[row][col], matrix[col][row] = matrix[col][row], matrix[row][col]\n",
    "        print(matrix)\n",
    "\n",
    "Solution48().rotate(matrix=[[1, 2, 3], [4, 5, 6], [7, 8, 9]])"
   ]
  },
  {
   "attachments": {},
   "cell_type": "markdown",
   "metadata": {},
   "source": [
    "## Задача 49. Group Anagrams (Medium)"
   ]
  },
  {
   "cell_type": "code",
   "execution_count": 32,
   "metadata": {},
   "outputs": [
    {
     "data": {
      "text/plain": [
       "[['eat', 'tea', 'ate'], ['tan', 'nat'], ['bat']]"
      ]
     },
     "execution_count": 32,
     "metadata": {},
     "output_type": "execute_result"
    }
   ],
   "source": [
    "from typing import List\n",
    "from collections import defaultdict\n",
    "\n",
    "class Solution49:\n",
    "    def group_anagrams(self, strs: List[str]) -> List[List[str]]:\n",
    "        strs_dict = defaultdict(list)\n",
    "        for s in strs:\n",
    "            key = tuple(sorted(s))\n",
    "            strs_dict[key].append(s)\n",
    "        return list(strs_dict.values())\n",
    "\n",
    "Solution49().group_anagrams(strs=['eat', 'tea', 'tan', 'ate', 'nat', 'bat'])"
   ]
  },
  {
   "attachments": {},
   "cell_type": "markdown",
   "metadata": {},
   "source": [
    "## Задача 58. Length of Last Word (Easy)"
   ]
  },
  {
   "cell_type": "code",
   "execution_count": 33,
   "metadata": {},
   "outputs": [
    {
     "data": {
      "text/plain": [
       "2"
      ]
     },
     "execution_count": 33,
     "metadata": {},
     "output_type": "execute_result"
    }
   ],
   "source": [
    "class Solution58:\n",
    "    def length_of_last_word(self, s: str) -> int:\n",
    "\n",
    "        if s == ' ':\n",
    "            return 0\n",
    "        \n",
    "        if len(s) == 1:\n",
    "            return 1\n",
    "        \n",
    "        s = ' ' + s\n",
    "        \n",
    "        word_detected = 0\n",
    "        for j in range(len(s)-1,-1,-1):\n",
    "            if s[j] != ' ' and word_detected == 0:\n",
    "                word_detected = j\n",
    "            else:\n",
    "                if word_detected and s[j] == ' ':\n",
    "                    return word_detected - j\n",
    "                if word_detected and j == 0:\n",
    "                    return word_detected + 1\n",
    "\n",
    "Solution58().length_of_last_word(s=\" av  \")"
   ]
  },
  {
   "cell_type": "code",
   "execution_count": 34,
   "metadata": {},
   "outputs": [
    {
     "data": {
      "text/plain": [
       "4"
      ]
     },
     "execution_count": 34,
     "metadata": {},
     "output_type": "execute_result"
    }
   ],
   "source": [
    "class Solution58_1:\n",
    "    def length_of_last_word(self, s: str) -> int:\n",
    "        cur = 0\n",
    "        prev = None\n",
    "        for ch in s:\n",
    "            if ch == ' ':\n",
    "                if prev != ' ':\n",
    "                    last = cur\n",
    "                    cur = 0\n",
    "            else:\n",
    "                cur += 1   \n",
    "            prev = ch\n",
    "        return last if not cur else cur\n",
    "\n",
    "Solution58_1().length_of_last_word(s=\"   fly me   to   the moon  \")"
   ]
  },
  {
   "cell_type": "code",
   "execution_count": 35,
   "metadata": {},
   "outputs": [
    {
     "data": {
      "text/plain": [
       "6"
      ]
     },
     "execution_count": 35,
     "metadata": {},
     "output_type": "execute_result"
    }
   ],
   "source": [
    "class Solution58_2:\n",
    "    def length_of_last_word(self, s: str) -> int:\n",
    "        word = ''\n",
    "        for i in range(len(s)-1, -1, -1):\n",
    "            if s[i] == ' ':\n",
    "                if word:\n",
    "                    return len(word)\n",
    "            else:\n",
    "                word += s[i]\n",
    "        return len(word)\n",
    "\n",
    "Solution58_2().length_of_last_word(s=\"luffy is still joyboy\")"
   ]
  },
  {
   "attachments": {},
   "cell_type": "markdown",
   "metadata": {},
   "source": [
    "## Задача 62. Unique Paths (Medium)"
   ]
  },
  {
   "cell_type": "code",
   "execution_count": 36,
   "metadata": {},
   "outputs": [
    {
     "data": {
      "text/plain": [
       "28"
      ]
     },
     "execution_count": 36,
     "metadata": {},
     "output_type": "execute_result"
    }
   ],
   "source": [
    "from functools import lru_cache\n",
    "\n",
    "class Solution62:\n",
    "    @lru_cache(None)\n",
    "    def unique_paths(self, m: int, n: int) -> int:\n",
    "        if m == 1 or n == 1:\n",
    "            return 1\n",
    "        return self.unique_paths(m - 1, n) + self.unique_paths(m, n - 1)\n",
    "\n",
    "Solution62().unique_paths(m = 3, n = 7)"
   ]
  },
  {
   "attachments": {},
   "cell_type": "markdown",
   "metadata": {},
   "source": [
    "## Задача 63. Unique Paths II (Medium)"
   ]
  },
  {
   "cell_type": "code",
   "execution_count": 37,
   "metadata": {},
   "outputs": [
    {
     "data": {
      "text/plain": [
       "2"
      ]
     },
     "execution_count": 37,
     "metadata": {},
     "output_type": "execute_result"
    }
   ],
   "source": [
    "# не проходит тесты -- исправить\n",
    "from functools import lru_cache\n",
    "from typing import List\n",
    "\n",
    "class Solution63:\n",
    "    def unique_paths(self, obstacle_grid: List[List[int]]) -> int:\n",
    "        m, n = len(obstacle_grid) - 1, len(obstacle_grid[0]) - 1\n",
    "        lru_cache(None)\n",
    "        def helper(i, j):\n",
    "            if i == 1 or j == 1:\n",
    "                return 1\n",
    "            if obstacle_grid[i][j] == 1:\n",
    "                return 0\n",
    "            return helper(i - 1, j) + helper(i, j - 1)\n",
    "        return helper(m, n)\n",
    "\n",
    "Solution63().unique_paths(obstacle_grid=[[0, 0, 0], [0, 1, 0], [0, 0, 0]])"
   ]
  },
  {
   "cell_type": "code",
   "execution_count": 38,
   "metadata": {},
   "outputs": [
    {
     "name": "stdout",
     "output_type": "stream",
     "text": [
      "[[0, 0, 0], [1, 0, 0], [1, 1, 0]]\n"
     ]
    },
    {
     "data": {
      "text/plain": [
       "0"
      ]
     },
     "execution_count": 38,
     "metadata": {},
     "output_type": "execute_result"
    }
   ],
   "source": [
    "class Solution63:\n",
    "    def unique_paths(self, obstacle_grid: List[List[int]]) -> int:\n",
    "        dp = obstacle_grid.copy()\n",
    "        flag = 1\n",
    "        for i in range(len(dp)):\n",
    "            if obstacle_grid[i][0] == 1:\n",
    "                flag = 0\n",
    "            dp[i][0] = flag\n",
    "        flag = 1\n",
    "        for j in range(len(dp[0])):\n",
    "            if obstacle_grid[0][j] == 1:\n",
    "                flag = 0\n",
    "            dp[0][j] = flag\n",
    "        for i in range(1, len(dp)):\n",
    "            for j in range(1, len(dp[0])):\n",
    "                if obstacle_grid[i][j] == 1:\n",
    "                    dp[i][j] = 0\n",
    "                else:\n",
    "                    dp[i][j] = dp[i-1][j-1]\n",
    "        print(dp)\n",
    "        return dp[-1][-1]\n",
    "\n",
    "Solution63().unique_paths(obstacle_grid=[[0,0,0],[0,1,0],[0,0,0]])"
   ]
  },
  {
   "attachments": {},
   "cell_type": "markdown",
   "metadata": {},
   "source": [
    "## Задача 66. Plus One (Easy)"
   ]
  },
  {
   "cell_type": "code",
   "execution_count": 39,
   "metadata": {},
   "outputs": [
    {
     "data": {
      "text/plain": [
       "[1, 0, 0, 0]"
      ]
     },
     "execution_count": 39,
     "metadata": {},
     "output_type": "execute_result"
    }
   ],
   "source": [
    "from typing import List\n",
    "\n",
    "class Solution66:\n",
    "    def plus_one(self, digits: List[int]) -> List[int]:\n",
    "        carry = 1\n",
    "        for i, d in enumerate(digits[::-1]):\n",
    "            carry, digits[len(digits)-i-1] = divmod(d + carry, 10)\n",
    "        return digits if not carry else [carry] + digits\n",
    "\n",
    "Solution66().plus_one(digits=[9,9,9])"
   ]
  },
  {
   "cell_type": "code",
   "execution_count": 40,
   "metadata": {},
   "outputs": [
    {
     "data": {
      "text/plain": [
       "[1, 0, 0, 0]"
      ]
     },
     "execution_count": 40,
     "metadata": {},
     "output_type": "execute_result"
    }
   ],
   "source": [
    "from typing import List\n",
    "\n",
    "class Solution66_1:\n",
    "    def plus_one(self, digits: List[int]) -> List[int]:\n",
    "        return [int(y) for y in list(str(int(''.join(str(x) for x in digits))+1))]\n",
    "\n",
    "Solution66_1().plus_one(digits=[9,9,9])"
   ]
  },
  {
   "attachments": {},
   "cell_type": "markdown",
   "metadata": {},
   "source": [
    "## Задача 67. Add Binary (Easy)"
   ]
  },
  {
   "cell_type": "code",
   "execution_count": 41,
   "metadata": {},
   "outputs": [
    {
     "data": {
      "text/plain": [
       "'100'"
      ]
     },
     "execution_count": 41,
     "metadata": {},
     "output_type": "execute_result"
    }
   ],
   "source": [
    "class Solution67:\n",
    "    def add_binary(self, a: str, b: str) -> str:\n",
    "        carry = 0\n",
    "        total = 0\n",
    "        ans = ''\n",
    "        i, j = len(a) - 1, len(b) - 1\n",
    "        while i >= 0 or j >= 0 or carry:\n",
    "            total = carry\n",
    "            if i >= 0:\n",
    "                total += int(a[i])\n",
    "                i -= 1\n",
    "            if j >= 0:\n",
    "                total += int(b[j])\n",
    "                j -= 1\n",
    "            ans = str(total % 2) + ans\n",
    "            carry = total // 2\n",
    "        return ans\n",
    "\n",
    "Solution67().add_binary(a='11', b='1')"
   ]
  },
  {
   "cell_type": "code",
   "execution_count": 42,
   "metadata": {},
   "outputs": [
    {
     "data": {
      "text/plain": [
       "'100'"
      ]
     },
     "execution_count": 42,
     "metadata": {},
     "output_type": "execute_result"
    }
   ],
   "source": [
    "class Solution67_1:\n",
    "    def add_binary(self, a: str, b: str) -> str:\n",
    "        len_a, len_b = len(a), len(b)\n",
    "        if len_a > len_b:\n",
    "            b = '0' * (len_a - len_b) + b\n",
    "        else:\n",
    "            a = '0' * (len_b - len_a) + a\n",
    "        carry = 0\n",
    "        ans = ''\n",
    "        for i in range(len(b)-1, -1, -1):\n",
    "            d1 = int(a[i])\n",
    "            d2 = int(b[i])\n",
    "            carry, d = divmod(d1 + d2 + carry, 2)\n",
    "            ans += str(d)\n",
    "        if carry:\n",
    "            ans += str(carry)\n",
    "        return ans[::-1]\n",
    "\n",
    "Solution67_1().add_binary(a='11', b='1')"
   ]
  },
  {
   "attachments": {},
   "cell_type": "markdown",
   "metadata": {},
   "source": [
    "## Задача 69. Sqrt(x) (Easy)"
   ]
  },
  {
   "cell_type": "code",
   "execution_count": 43,
   "metadata": {},
   "outputs": [
    {
     "data": {
      "text/plain": [
       "2"
      ]
     },
     "execution_count": 43,
     "metadata": {},
     "output_type": "execute_result"
    }
   ],
   "source": [
    "class Solution69:\n",
    "    def my_sqrt(self, x: int) -> int:\n",
    "        x_sqrt = 1\n",
    "        while True:\n",
    "            x_last = x_sqrt\n",
    "            x_sqrt = (x_sqrt * x_sqrt + x) / (2 * x_sqrt)\n",
    "            if (x_sqrt - x_last) ** 2 < 0.1:\n",
    "                break\n",
    "        return int(x_sqrt)\n",
    "\n",
    "Solution69().my_sqrt(8)"
   ]
  },
  {
   "cell_type": "code",
   "execution_count": 44,
   "metadata": {},
   "outputs": [
    {
     "data": {
      "text/plain": [
       "8"
      ]
     },
     "execution_count": 44,
     "metadata": {},
     "output_type": "execute_result"
    }
   ],
   "source": [
    "class Solution69_1:\n",
    "    def my_sqrt(self, x: int) -> int:\n",
    "\n",
    "        if x < 2:\n",
    "            return x\n",
    "        \n",
    "        left, right = 1, x // 2\n",
    "        while left <= right:\n",
    "            mid = (left + right) // 2\n",
    "            sq = mid * mid\n",
    "            if sq > x:\n",
    "                right = mid - 1\n",
    "            else:\n",
    "                left = mid + 1\n",
    "        return right\n",
    "\n",
    "Solution69_1().my_sqrt(x=65)"
   ]
  },
  {
   "attachments": {},
   "cell_type": "markdown",
   "metadata": {},
   "source": [
    "## Задача 70. Climbing Stairs (Easy)"
   ]
  },
  {
   "cell_type": "code",
   "execution_count": 45,
   "metadata": {},
   "outputs": [
    {
     "data": {
      "text/plain": [
       "8"
      ]
     },
     "execution_count": 45,
     "metadata": {},
     "output_type": "execute_result"
    }
   ],
   "source": [
    "class Solution70:\n",
    "    def climb_stairs(self, n: int) -> int:\n",
    "        dp = [1, 2]\n",
    "        for i in range(2, n):\n",
    "            dp.append(dp[i - 2] + dp[i - 1])\n",
    "        return dp[n-1]\n",
    "\n",
    "Solution70().climb_stairs(n=5)"
   ]
  },
  {
   "attachments": {},
   "cell_type": "markdown",
   "metadata": {},
   "source": [
    "## Задача 74. Search a 2D Matrix (Medium)"
   ]
  },
  {
   "cell_type": "code",
   "execution_count": 46,
   "metadata": {},
   "outputs": [
    {
     "data": {
      "text/plain": [
       "True"
      ]
     },
     "execution_count": 46,
     "metadata": {},
     "output_type": "execute_result"
    }
   ],
   "source": [
    "class Solution74:\n",
    "    def search_matrix(self, matrix: List[List[int]], target: int) -> bool:\n",
    "        m, n = len(matrix), len(matrix[0])\n",
    "        left, right = 0, m * n - 1\n",
    "        while left <= right:\n",
    "            mid = (left + right) // 2\n",
    "            if matrix[mid // n][mid % n] == target:\n",
    "                return True\n",
    "            if matrix[mid // n][mid % n] > target:\n",
    "                right = mid - 1\n",
    "            else:\n",
    "                left = mid + 1\n",
    "        return False\n",
    "\n",
    "Solution74().search_matrix(matrix=[[1]], target=1)"
   ]
  },
  {
   "attachments": {},
   "cell_type": "markdown",
   "metadata": {},
   "source": [
    "## Задача 83. Remove Duplicates from Sorted List (Easy)"
   ]
  },
  {
   "cell_type": "code",
   "execution_count": 47,
   "metadata": {},
   "outputs": [
    {
     "data": {
      "text/plain": [
       "ListNode{val: 1, next: None}"
      ]
     },
     "execution_count": 47,
     "metadata": {},
     "output_type": "execute_result"
    }
   ],
   "source": [
    "from typing import Optional\n",
    "\n",
    "class ListNode:\n",
    "    def __init__(self, val=0, next=None):\n",
    "        self.val = val\n",
    "        self.next = next\n",
    "    def __repr__(self):\n",
    "        return f'ListNode{{val: {self.val}, next: {self.next}}}'\n",
    "\n",
    "class Solution83:\n",
    "    def delete_duplicates(self, head: Optional[ListNode]) -> Optional[ListNode]:\n",
    "        zero_node = ListNode(None, next=head)\n",
    "        prev = zero_node\n",
    "        while head:\n",
    "            if head.val == prev.val:\n",
    "                prev.next = head.next\n",
    "            else:\n",
    "                prev = head\n",
    "            head = head.next\n",
    "        return zero_node.next\n",
    "\n",
    "Solution83().delete_duplicates(head=ListNode(val=1, next=ListNode(val=1, next=ListNode(val=1, next=None))))"
   ]
  },
  {
   "attachments": {},
   "cell_type": "markdown",
   "metadata": {},
   "source": [
    "## Задача 94. Binary Tree Inorder Traversal (Easy)"
   ]
  },
  {
   "cell_type": "code",
   "execution_count": 48,
   "metadata": {},
   "outputs": [
    {
     "data": {
      "text/plain": [
       "[1, 3, 2]"
      ]
     },
     "execution_count": 48,
     "metadata": {},
     "output_type": "execute_result"
    }
   ],
   "source": [
    "from typing import Optional, List\n",
    "\n",
    "class TreeNode:\n",
    "    def __init__(self, val=0, left=None, right=None):\n",
    "        self.val = val\n",
    "        self.left = left\n",
    "        self.right = right\n",
    "    def __repr__(self):\n",
    "        return f'TreeNode{{val: {self.val}, left: {self.left}, right: {self.right}}}'\n",
    "\n",
    "class Solution94:\n",
    "    def inorder_traversal(self, root: Optional[TreeNode]) -> List[int]:\n",
    "        ans = []\n",
    "        def helper(node):\n",
    "            if node:\n",
    "                helper(node.left)\n",
    "                ans.append(node.val)\n",
    "                helper(node.right)\n",
    "        helper(root)\n",
    "        return ans\n",
    "\n",
    "Solution94().inorder_traversal(TreeNode(val=1,\n",
    "                                        left=None,\n",
    "                                        right=TreeNode(val=2,\n",
    "                                                       left=TreeNode(val=3, left=None, right=None),\n",
    "                                                       right=None)))"
   ]
  },
  {
   "cell_type": "code",
   "execution_count": 49,
   "metadata": {},
   "outputs": [
    {
     "data": {
      "text/plain": [
       "[1, 3, 2]"
      ]
     },
     "execution_count": 49,
     "metadata": {},
     "output_type": "execute_result"
    }
   ],
   "source": [
    "from typing import Optional, List\n",
    "\n",
    "class TreeNode:\n",
    "    def __init__(self, val=0, left=None, right=None):\n",
    "        self.val = val\n",
    "        self.left = left\n",
    "        self.right = right\n",
    "    def __repr__(self):\n",
    "        return f'TreeNode{{val: {self.val}, left: {self.left}, right: {self.right}}}'\n",
    "\n",
    "class Solution94_1:\n",
    "    def inorder_traversal(self, root: Optional[TreeNode]) -> List[int]:\n",
    "        ans = []\n",
    "        stack = []\n",
    "        cur = root\n",
    "        while stack or cur:\n",
    "            while cur:\n",
    "                stack.append(cur)\n",
    "                cur = cur.left\n",
    "            cur = stack.pop()\n",
    "            ans.append(cur.val)\n",
    "            cur = cur.right\n",
    "        return ans\n",
    "\n",
    "Solution94_1().inorder_traversal(TreeNode(val=1,\n",
    "                                        left=None,\n",
    "                                        right=TreeNode(val=2,\n",
    "                                                       left=TreeNode(val=3, left=None, right=None),\n",
    "                                                       right=None)))"
   ]
  },
  {
   "attachments": {},
   "cell_type": "markdown",
   "metadata": {},
   "source": [
    "## Задача 100. Same Tree (Easy)"
   ]
  },
  {
   "cell_type": "code",
   "execution_count": 50,
   "metadata": {},
   "outputs": [
    {
     "data": {
      "text/plain": [
       "True"
      ]
     },
     "execution_count": 50,
     "metadata": {},
     "output_type": "execute_result"
    }
   ],
   "source": [
    "from typing import Optional, List\n",
    "\n",
    "class TreeNode:\n",
    "    def __init__(self, val=0, left=None, right=None):\n",
    "        self.val = val\n",
    "        self.left = left\n",
    "        self.right = right\n",
    "    def __repr__(self):\n",
    "        return f'TreeNode{{val: {self.val}, left: {self.left}, right: {self.right}}}'\n",
    "\n",
    "class Solution100:\n",
    "    def is_same_tree(self, p: Optional[TreeNode], q: Optional[TreeNode]) -> bool:\n",
    "        if not p and not q:\n",
    "            return True\n",
    "        if not p or not q:\n",
    "            return False\n",
    "        return p.val == q.val and self.is_same_tree(p=p.left, q=q.left) and self.is_same_tree(p=p.right, q=q.right)\n",
    "\n",
    "Solution100().is_same_tree(p=TreeNode(val=3, left=None, right=None),\n",
    "                           q=TreeNode(val=3, left=None, right=None))"
   ]
  },
  {
   "attachments": {},
   "cell_type": "markdown",
   "metadata": {},
   "source": [
    "## Задача 101. Symmetric Tree (Easy)"
   ]
  },
  {
   "cell_type": "code",
   "execution_count": 51,
   "metadata": {},
   "outputs": [
    {
     "data": {
      "text/plain": [
       "True"
      ]
     },
     "execution_count": 51,
     "metadata": {},
     "output_type": "execute_result"
    }
   ],
   "source": [
    "from typing import Optional\n",
    "from collections import deque\n",
    "\n",
    "class TreeNode:\n",
    "    def __init__(self, val=0, left=None, right=None):\n",
    "        self.val = val\n",
    "        self.left = left\n",
    "        self.right = right\n",
    "    def __repr__(self):\n",
    "        return f'TreeNode{{val: {self.val}, left: {self.left}, right: {self.right}}}'\n",
    "\n",
    "class Solution101:\n",
    "    def is_symmetric(self, root: Optional[TreeNode]) -> bool:\n",
    "        q = deque([root])\n",
    "        # levels = []\n",
    "        while q:\n",
    "            level = []\n",
    "            for _ in range(len(q)):\n",
    "                cur = q.popleft()\n",
    "                level.append(cur.val if cur else 'Empty')\n",
    "                if cur:\n",
    "                    q.append(cur.left)\n",
    "                    q.append(cur.right)\n",
    "            if len(level) > 1:\n",
    "                level_len = len(level)\n",
    "                if level[:level_len//2] != level[level_len//2:][::-1]:\n",
    "                    return False  \n",
    "            # levels.append(level)\n",
    "        # print(levels)\n",
    "        return True\n",
    "\n",
    "Solution101().is_symmetric(root=TreeNode(val=1,\n",
    "                                         left=TreeNode(val=2,\n",
    "                                                       left=TreeNode(val=3, left=None, right=None),\n",
    "                                                       right=TreeNode(val=4, left=None, right=None)),\n",
    "                                         right=TreeNode(val=2,\n",
    "                                                       left=TreeNode(val=4, left=None, right=None),\n",
    "                                                       right=TreeNode(val=3, left=None, right=None))))"
   ]
  },
  {
   "cell_type": "code",
   "execution_count": 52,
   "metadata": {},
   "outputs": [
    {
     "data": {
      "text/plain": [
       "False"
      ]
     },
     "execution_count": 52,
     "metadata": {},
     "output_type": "execute_result"
    }
   ],
   "source": [
    "Solution101().is_symmetric(root=TreeNode(val=1,\n",
    "                                         left=TreeNode(val=2,\n",
    "                                                       left=None,\n",
    "                                                       right=TreeNode(val=3, left=None, right=None)),\n",
    "                                         right=TreeNode(val=2,\n",
    "                                                       left=None,\n",
    "                                                       right=TreeNode(val=3, left=None, right=None))))"
   ]
  },
  {
   "attachments": {},
   "cell_type": "markdown",
   "metadata": {},
   "source": [
    "## Задача 104. Maximum Depth of Binary Tree (Easy)"
   ]
  },
  {
   "cell_type": "code",
   "execution_count": 53,
   "metadata": {},
   "outputs": [
    {
     "data": {
      "text/plain": [
       "3"
      ]
     },
     "execution_count": 53,
     "metadata": {},
     "output_type": "execute_result"
    }
   ],
   "source": [
    "from typing import Optional\n",
    "\n",
    "class TreeNode:\n",
    "    def __init__(self, val=0, left=None, right=None):\n",
    "        self.val = val\n",
    "        self.left = left\n",
    "        self.right = right\n",
    "    def __repr__(self):\n",
    "        return f'TreeNode{{val: {self.val}, left: {self.left}, right: {self.right}}}'\n",
    "\n",
    "class Solution104:\n",
    "    def max_depth(self, root: Optional[TreeNode]) -> int:\n",
    "        if not root:\n",
    "            return 0\n",
    "        left = self.max_depth(root.left)\n",
    "        right = self.max_depth(root.right)\n",
    "        return max(left, right) + 1\n",
    "\n",
    "Solution104().max_depth(root=TreeNode(val=3,\n",
    "                                      left=TreeNode(val=9, left=None, right=None),\n",
    "                                      right=TreeNode(val=20,\n",
    "                                                     left=TreeNode(val=15, left=None, right=None),\n",
    "                                                     right=TreeNode(val=7, left=None, right=None))))"
   ]
  },
  {
   "attachments": {},
   "cell_type": "markdown",
   "metadata": {},
   "source": [
    "## Задача 108. Convert Sorted Array to Binary Search Tree (Easy)"
   ]
  },
  {
   "cell_type": "code",
   "execution_count": 54,
   "metadata": {},
   "outputs": [
    {
     "data": {
      "text/plain": [
       "TreeNode{val: 0, left: TreeNode{val: -10, left: None, right: TreeNode{val: -3, left: None, right: None}}, right: TreeNode{val: 5, left: None, right: TreeNode{val: 9, left: None, right: None}}}"
      ]
     },
     "execution_count": 54,
     "metadata": {},
     "output_type": "execute_result"
    }
   ],
   "source": [
    "from typing import Optional\n",
    "\n",
    "class TreeNode:\n",
    "    def __init__(self, val=0, left=None, right=None):\n",
    "        self.val = val\n",
    "        self.left = left\n",
    "        self.right = right\n",
    "    def __repr__(self):\n",
    "        return f'TreeNode{{val: {self.val}, left: {self.left}, right: {self.right}}}'\n",
    "\n",
    "class Solution108:\n",
    "    def sorted_array_to_bst(self, nums: List[int]) -> Optional[TreeNode]:\n",
    "        def helper(left, right):\n",
    "            if left <= right:\n",
    "                mid = (left + right) // 2\n",
    "                root = TreeNode(nums[mid])\n",
    "                root.left = helper(left, mid - 1)\n",
    "                root.right = helper(mid + 1, right)\n",
    "                return root\n",
    "        return helper(0, len(nums) - 1)\n",
    "\n",
    "Solution108().sorted_array_to_bst(nums=[-10, -3, 0, 5, 9])"
   ]
  },
  {
   "attachments": {},
   "cell_type": "markdown",
   "metadata": {},
   "source": [
    "## Задача 111. Minimum Depth of Binary Tree (Easy)"
   ]
  },
  {
   "cell_type": "code",
   "execution_count": 55,
   "metadata": {},
   "outputs": [
    {
     "data": {
      "text/plain": [
       "2"
      ]
     },
     "execution_count": 55,
     "metadata": {},
     "output_type": "execute_result"
    }
   ],
   "source": [
    "from typing import Optional\n",
    "from collections import deque\n",
    "\n",
    "class TreeNode:\n",
    "    def __init__(self, val=0, left=None, right=None):\n",
    "        self.val = val\n",
    "        self.left = left\n",
    "        self.right = right\n",
    "    def __repr__(self):\n",
    "        return f'TreeNode{{val: {self.val}, left: {self.left}, right: {self.right}}}'\n",
    "\n",
    "class Solution111:\n",
    "    def min_depth(self, root: Optional[TreeNode]) -> int:\n",
    "\n",
    "        if not root:\n",
    "            return 0\n",
    "\n",
    "        q = deque([(root, 1)])\n",
    "        while q:\n",
    "            cur, depth = q.popleft()\n",
    "            if not cur.left and not cur.right:\n",
    "                return depth\n",
    "            if cur.left:\n",
    "                q.append((cur.left, depth+1))\n",
    "            if cur.right:\n",
    "                q.append((cur.right, depth+1))\n",
    "\n",
    "Solution111().min_depth(root=TreeNode(val=3,\n",
    "                                      left=TreeNode(val=9, left=None, right=None),\n",
    "                                      right=TreeNode(val=20,\n",
    "                                                     left=TreeNode(val=15, left=None, right=None),\n",
    "                                                     right=TreeNode(val=7, left=None, right=None))))"
   ]
  },
  {
   "attachments": {},
   "cell_type": "markdown",
   "metadata": {},
   "source": [
    "## Задача 118. Pascal's Triangle (Easy)"
   ]
  },
  {
   "cell_type": "code",
   "execution_count": 56,
   "metadata": {},
   "outputs": [
    {
     "data": {
      "text/plain": [
       "[[1], [1, 1], [1, 2, 1], [1, 3, 3, 1]]"
      ]
     },
     "execution_count": 56,
     "metadata": {},
     "output_type": "execute_result"
    }
   ],
   "source": [
    "from typing import List\n",
    "\n",
    "def factorial(num: int):\n",
    "    itog = 1\n",
    "    for i in range(num):\n",
    "        itog *= (i+1)\n",
    "    return itog\n",
    "\n",
    "\n",
    "def combinations(k: int, n: int):\n",
    "    return int(factorial(n) / (factorial(k) * factorial(n-k)))\n",
    "\n",
    "\n",
    "class Solution118:\n",
    "    def generate(self, num_rows: int) -> List[List[int]]:\n",
    "        triangle_rows = []\n",
    "        for i in range(num_rows):\n",
    "            triangle_rows.append([combinations(j, i) for j in range(i+1)])\n",
    "        return triangle_rows\n",
    "\n",
    "\n",
    "Solution118().generate(num_rows=4)"
   ]
  },
  {
   "cell_type": "code",
   "execution_count": 57,
   "metadata": {},
   "outputs": [
    {
     "data": {
      "text/plain": [
       "[[1], [1, 1], [1, 2, 1], [1, 3, 3, 1]]"
      ]
     },
     "execution_count": 57,
     "metadata": {},
     "output_type": "execute_result"
    }
   ],
   "source": [
    "from typing import List\n",
    "\n",
    "class Solution118_1:\n",
    "    def generate(self, num_rows: int) -> List[List[int]]:\n",
    "        dp = [[1], [1, 1]]\n",
    "        if num_rows < 3:\n",
    "            return dp[:num_rows]\n",
    "        for _ in range(num_rows-2):\n",
    "            next_row = [1]\n",
    "            for i, _ in enumerate(dp[-1][:-1]):\n",
    "                next_row.append(dp[-1][i] + dp[-1][i+1])\n",
    "            next_row += [1]\n",
    "            dp.append(next_row)\n",
    "        return dp\n",
    "\n",
    "Solution118_1().generate(num_rows=4)"
   ]
  },
  {
   "attachments": {},
   "cell_type": "markdown",
   "metadata": {},
   "source": [
    "## Задача 119. Pascal's Triangle 2 (Easy)"
   ]
  },
  {
   "cell_type": "code",
   "execution_count": 58,
   "metadata": {},
   "outputs": [
    {
     "data": {
      "text/plain": [
       "[1, 3, 3, 1]"
      ]
     },
     "execution_count": 58,
     "metadata": {},
     "output_type": "execute_result"
    }
   ],
   "source": [
    "from typing import List\n",
    "\n",
    "def factorial(num: int):\n",
    "    itog = 1\n",
    "    for i in range(num):\n",
    "        itog *= (i+1)\n",
    "    return itog\n",
    "\n",
    "def combinations(k: int, n: int):\n",
    "    return int(factorial(n) / (factorial(k) * factorial(n-k)))\n",
    "\n",
    "\n",
    "class Solution119:\n",
    "    def getRow(self, rowIndex: int) -> List[int]:\n",
    "        return [combinations(j, rowIndex) for j in range(rowIndex+1)]\n",
    "\n",
    "Solution119().getRow(rowIndex=3)"
   ]
  },
  {
   "attachments": {},
   "cell_type": "markdown",
   "metadata": {},
   "source": [
    "## Задача 121. Best Time to Buy and Sell Stock (Easy)"
   ]
  },
  {
   "cell_type": "code",
   "execution_count": 59,
   "metadata": {},
   "outputs": [
    {
     "data": {
      "text/plain": [
       "5"
      ]
     },
     "execution_count": 59,
     "metadata": {},
     "output_type": "execute_result"
    }
   ],
   "source": [
    "from typing import List\n",
    "\n",
    "class Solution121:\n",
    "    def max_profit(self, prices: List[int]) -> int:\n",
    "        if len(prices) == 1:\n",
    "            return 0\n",
    "        profits = []\n",
    "        for i, _ in enumerate(prices):\n",
    "            profits.append([j-k for j,k in zip(prices[i:], prices[:-i])])\n",
    "        profits_flatten = [item for sublist in profits for item in sublist]\n",
    "        max_profit = max(profits_flatten)\n",
    "        \n",
    "        return max_profit if max_profit > 0 else 0\n",
    "\n",
    "Solution121().max_profit(prices=[7,1,5,3,6,4])\n",
    "# превышен лимит времени на тестовом примере сайта"
   ]
  },
  {
   "cell_type": "code",
   "execution_count": 60,
   "metadata": {},
   "outputs": [
    {
     "data": {
      "text/plain": [
       "5"
      ]
     },
     "execution_count": 60,
     "metadata": {},
     "output_type": "execute_result"
    }
   ],
   "source": [
    "from typing import List\n",
    "\n",
    "class Solution121_1:\n",
    "    def max_profit(self, prices: List[int]) -> int:\n",
    "        min_price = 2e4\n",
    "        max_profit = 0\n",
    "        for i, _ in enumerate(prices):\n",
    "            if prices[i] < min_price:\n",
    "                min_price = prices[i]\n",
    "            else:\n",
    "                current_difference = prices[i] - min_price\n",
    "                if current_difference > max_profit:\n",
    "                    max_profit = current_difference\n",
    "        return max_profit\n",
    "\n",
    "Solution121_1().max_profit(prices=[7,1,5,3,6,4])"
   ]
  },
  {
   "cell_type": "code",
   "execution_count": 61,
   "metadata": {},
   "outputs": [
    {
     "data": {
      "text/plain": [
       "5"
      ]
     },
     "execution_count": 61,
     "metadata": {},
     "output_type": "execute_result"
    }
   ],
   "source": [
    "from typing import List\n",
    "\n",
    "class Solution121_2:\n",
    "    def max_profit(self, prices: List[int]) -> int:\n",
    "        min_price = float('inf')\n",
    "        max_profit = 0\n",
    "        for price in prices:\n",
    "            min_price = min(min_price, price)\n",
    "            max_profit = max(max_profit, price - min_price)\n",
    "        return max_profit\n",
    "\n",
    "Solution121_2().max_profit(prices=[7,1,5,3,6,4])"
   ]
  },
  {
   "attachments": {},
   "cell_type": "markdown",
   "metadata": {},
   "source": [
    "## Задача 122. Best Time to Buy and Sell Stock 2 (Medium)"
   ]
  },
  {
   "cell_type": "code",
   "execution_count": 62,
   "metadata": {},
   "outputs": [
    {
     "data": {
      "text/plain": [
       "7"
      ]
     },
     "execution_count": 62,
     "metadata": {},
     "output_type": "execute_result"
    }
   ],
   "source": [
    "class Solution122:\n",
    "    def max_profit(self, prices: List[int]) -> int:\n",
    "        max_profit = 0\n",
    "        for i, _ in enumerate(prices[:-1]):\n",
    "            prices_difference = prices[i+1] - prices[i]\n",
    "            if prices_difference > 0:\n",
    "                max_profit += prices_difference\n",
    "        return max_profit\n",
    "\n",
    "Solution122().max_profit(prices=[7,1,5,3,6,4])"
   ]
  },
  {
   "attachments": {},
   "cell_type": "markdown",
   "metadata": {},
   "source": [
    "## Задача 125. Valid Palindrome (Easy)"
   ]
  },
  {
   "cell_type": "code",
   "execution_count": 63,
   "metadata": {},
   "outputs": [
    {
     "data": {
      "text/plain": [
       "True"
      ]
     },
     "execution_count": 63,
     "metadata": {},
     "output_type": "execute_result"
    }
   ],
   "source": [
    "class Solution125:\n",
    "    def is_palindrome(self, s: str) -> bool:\n",
    "        left, right = 0, len(s) - 1\n",
    "        while left <= right:\n",
    "            if not s[left].isalnum():\n",
    "                left += 1\n",
    "                continue\n",
    "            if not s[right].isalnum():\n",
    "                right -= 1\n",
    "                continue\n",
    "            if s[left].lower() != s[right].lower():\n",
    "                return False\n",
    "            left += 1\n",
    "            right -= 1\n",
    "        return True\n",
    "\n",
    "Solution125().is_palindrome(s='A man, a plan, a canal: Panama')"
   ]
  },
  {
   "attachments": {},
   "cell_type": "markdown",
   "metadata": {},
   "source": [
    "## Задача 136. Single Number (Easy)"
   ]
  },
  {
   "cell_type": "code",
   "execution_count": 64,
   "metadata": {},
   "outputs": [
    {
     "data": {
      "text/plain": [
       "4"
      ]
     },
     "execution_count": 64,
     "metadata": {},
     "output_type": "execute_result"
    }
   ],
   "source": [
    "from typing import List\n",
    "\n",
    "class Solution136:\n",
    "    def single_number(self, nums: List[int]) -> int:\n",
    "        alone_num = 0\n",
    "        for num in nums:\n",
    "            alone_num ^= num\n",
    "        return alone_num\n",
    "\n",
    "Solution136().single_number(nums=[4,1,2,1,2])"
   ]
  },
  {
   "attachments": {},
   "cell_type": "markdown",
   "metadata": {},
   "source": [
    "## Задача 139. Word Break (Medium)"
   ]
  },
  {
   "cell_type": "code",
   "execution_count": 65,
   "metadata": {},
   "outputs": [
    {
     "data": {
      "text/plain": [
       "True"
      ]
     },
     "execution_count": 65,
     "metadata": {},
     "output_type": "execute_result"
    }
   ],
   "source": [
    "# Time Limit Exceeded\n",
    "from typing import List\n",
    "\n",
    "class Solution139:\n",
    "    def word_break(self, s: str, word_dict: List[str]) -> bool:\n",
    "        s_len = len(s)\n",
    "        if s_len == 0:\n",
    "            return True\n",
    "        for i in range(1, s_len+1):\n",
    "            if s[0:i] in word_dict and self.word_break(s[i:s_len], word_dict):\n",
    "                return True\n",
    "        return False\n",
    "\n",
    "Solution139().word_break(s='leetcode', word_dict=['leet', 'code'])"
   ]
  },
  {
   "cell_type": "code",
   "execution_count": 66,
   "metadata": {},
   "outputs": [
    {
     "data": {
      "text/plain": [
       "True"
      ]
     },
     "execution_count": 66,
     "metadata": {},
     "output_type": "execute_result"
    }
   ],
   "source": [
    "from typing import List\n",
    "\n",
    "class Solution139_1:\n",
    "    def word_break(self, s: str, word_dict: List[str]) -> bool:\n",
    "        s_len = len(s)\n",
    "        \n",
    "        dp = [False] * (s_len + 1)\n",
    "\n",
    "        for i in range(1, s_len + 1):\n",
    "\n",
    "            if dp[i] or s[0:i] in word_dict:\n",
    "                dp[i] = True\n",
    "\n",
    "                if dp[i] and i == s_len:\n",
    "                    return True\n",
    "                \n",
    "                for j in range(i + 1, s_len + 1):\n",
    "                    if s[i:j] in word_dict:\n",
    "                        dp[j] = True\n",
    "                    if dp[j] and j == s_len:\n",
    "                        return True\n",
    "        return False\n",
    "\n",
    "Solution139_1().word_break(s=\"aebbbbs\", word_dict=[\"a\",\"aeb\",\"ebbbb\",\"s\",\"eb\"])"
   ]
  },
  {
   "attachments": {},
   "cell_type": "markdown",
   "metadata": {},
   "source": [
    "## Задача 141. Linked List Cycle (Easy)"
   ]
  },
  {
   "cell_type": "code",
   "execution_count": 67,
   "metadata": {},
   "outputs": [
    {
     "data": {
      "text/plain": [
       "False"
      ]
     },
     "execution_count": 67,
     "metadata": {},
     "output_type": "execute_result"
    }
   ],
   "source": [
    "from typing import Optional\n",
    "\n",
    "class ListNode:\n",
    "    def __init__(self, val=0, next=None):\n",
    "        self.val = val\n",
    "        self.next = next\n",
    "    def __repr__(self):\n",
    "        return f'ListNode{{val: {self.val}, next: {self.next}}}'\n",
    "\n",
    "class Solution141:\n",
    "    def has_cycle(self, head: Optional[ListNode]) -> bool:\n",
    "        seen = set()\n",
    "        while head:\n",
    "            if head in seen:\n",
    "                return True\n",
    "            seen.add(head)\n",
    "            head = head.next\n",
    "        return False\n",
    "\n",
    "Solution141().has_cycle(head=ListNode(val=4, next=None))"
   ]
  },
  {
   "cell_type": "code",
   "execution_count": 68,
   "metadata": {},
   "outputs": [
    {
     "data": {
      "text/plain": [
       "False"
      ]
     },
     "execution_count": 68,
     "metadata": {},
     "output_type": "execute_result"
    }
   ],
   "source": [
    "from typing import Optional\n",
    "\n",
    "class ListNode:\n",
    "    def __init__(self, val=0, next=None):\n",
    "        self.val = val\n",
    "        self.next = next\n",
    "    def __repr__(self):\n",
    "        return f'ListNode{{val: {self.val}, next: {self.next}}}'\n",
    "\n",
    "class Solution141_1:\n",
    "    def has_cycle(self, head: Optional[ListNode]) -> bool:\n",
    "        slow = head\n",
    "        fast = head\n",
    "        while fast and fast.next:\n",
    "            slow = slow.next\n",
    "            fast = fast.next.next\n",
    "            if slow == fast:\n",
    "                return True\n",
    "        return False\n",
    "\n",
    "Solution141_1().has_cycle(head=ListNode(val=4, next=None))"
   ]
  },
  {
   "attachments": {},
   "cell_type": "markdown",
   "metadata": {},
   "source": [
    "## Задача 144. Binary Tree Preorder Traversal (Easy)"
   ]
  },
  {
   "cell_type": "code",
   "execution_count": 69,
   "metadata": {},
   "outputs": [
    {
     "data": {
      "text/plain": [
       "[1, 2, 3]"
      ]
     },
     "execution_count": 69,
     "metadata": {},
     "output_type": "execute_result"
    }
   ],
   "source": [
    "from typing import Optional, List\n",
    "\n",
    "class TreeNode:\n",
    "    def __init__(self, val=0, left=None, right=None):\n",
    "        self.val = val\n",
    "        self.left = left\n",
    "        self.right = right\n",
    "    def __repr__(self):\n",
    "        return f'TreeNode{{val: {self.val}, left: {self.left}, right: {self.right}}}'\n",
    "\n",
    "class Solution144:\n",
    "    def preorder_traversal(self, root: Optional[TreeNode]) -> List[int]:\n",
    "        return [root.val] + self.preorder_traversal(root.left) + self.preorder_traversal(root.right) if root else []\n",
    "\n",
    "Solution144().preorder_traversal(TreeNode(val=1,\n",
    "                                          left=None,\n",
    "                                          right=TreeNode(val=2,\n",
    "                                                         left=TreeNode(val=3, left=None, right=None),\n",
    "                                                         right=None)))"
   ]
  },
  {
   "attachments": {},
   "cell_type": "markdown",
   "metadata": {},
   "source": [
    "## Задача 145. Binary Tree Postorder Traversal (Easy)"
   ]
  },
  {
   "cell_type": "code",
   "execution_count": 70,
   "metadata": {},
   "outputs": [
    {
     "data": {
      "text/plain": [
       "[5, 4]"
      ]
     },
     "execution_count": 70,
     "metadata": {},
     "output_type": "execute_result"
    }
   ],
   "source": [
    "from typing import Optional, List\n",
    "\n",
    "class TreeNode:\n",
    "    def __init__(self, val=0, left=None, right=None):\n",
    "        self.val = val\n",
    "        self.left = left\n",
    "        self.right = right\n",
    "    def __repr__(self):\n",
    "        return f'TreeNode{{val: {self.val}, left: {self.left}, right: {self.right}}}'\n",
    "\n",
    "class Solution145:\n",
    "    def postorder_traversal(self, root: Optional[TreeNode]) -> List[int]:\n",
    "        ans = []\n",
    "        def helper(node):\n",
    "            if node:\n",
    "                helper(node.left)\n",
    "                helper(node.right)\n",
    "                ans.append(node.val)\n",
    "        helper(root)\n",
    "        return ans\n",
    "\n",
    "Solution145().postorder_traversal(TreeNode(val=4, left=None, right=TreeNode(val=5, left=None, right=None)))"
   ]
  },
  {
   "attachments": {},
   "cell_type": "markdown",
   "metadata": {},
   "source": [
    "## Задача 167. Two Sum II - Input Array Is Sorted (Medium)"
   ]
  },
  {
   "cell_type": "code",
   "execution_count": 71,
   "metadata": {},
   "outputs": [
    {
     "data": {
      "text/plain": [
       "[1, 2]"
      ]
     },
     "execution_count": 71,
     "metadata": {},
     "output_type": "execute_result"
    }
   ],
   "source": [
    "from typing import List\n",
    "\n",
    "class Solution167:\n",
    "    def two_sum(self, numbers: List[int], target: int) -> List[int]:\n",
    "        left, right = 0, len(numbers) - 1\n",
    "        while left <= right:\n",
    "            cur_sum = numbers[left] + numbers[right]\n",
    "            if cur_sum == target:\n",
    "                return [left + 1, right + 1]\n",
    "            if cur_sum > target:\n",
    "                right -= 1\n",
    "            if cur_sum < target:\n",
    "                left += 1\n",
    "\n",
    "Solution167().two_sum(numbers=[2, 7, 11, 15], target=9)"
   ]
  },
  {
   "attachments": {},
   "cell_type": "markdown",
   "metadata": {},
   "source": [
    "## Задача 169. Majority Element (Easy)"
   ]
  },
  {
   "cell_type": "code",
   "execution_count": 72,
   "metadata": {},
   "outputs": [
    {
     "data": {
      "text/plain": [
       "3"
      ]
     },
     "execution_count": 72,
     "metadata": {},
     "output_type": "execute_result"
    }
   ],
   "source": [
    "from typing import List\n",
    "from collections import Counter\n",
    "\n",
    "class Solution169:\n",
    "    def majority_element(self, nums: List[int]) -> int:\n",
    "        return Counter(nums).most_common()[0][0]\n",
    "\n",
    "Solution169().majority_element(nums=[3, 2, 3])"
   ]
  },
  {
   "cell_type": "code",
   "execution_count": 73,
   "metadata": {},
   "outputs": [
    {
     "data": {
      "text/plain": [
       "3"
      ]
     },
     "execution_count": 73,
     "metadata": {},
     "output_type": "execute_result"
    }
   ],
   "source": [
    "from typing import List\n",
    "\n",
    "class Solution169_1:\n",
    "    def majority_element(self, nums: List[int]) -> int:\n",
    "        count = 0\n",
    "        candidate = None\n",
    "        for num in nums:\n",
    "            if count == 0:\n",
    "                candidate = num\n",
    "            count += (1 if num == candidate else -1)\n",
    "        return candidate\n",
    "\n",
    "Solution169_1().majority_element(nums=[3, 2, 3])"
   ]
  },
  {
   "attachments": {},
   "cell_type": "markdown",
   "metadata": {},
   "source": [
    "## Задача 189. Rotate Array (Medium)"
   ]
  },
  {
   "cell_type": "code",
   "execution_count": 74,
   "metadata": {},
   "outputs": [
    {
     "name": "stdout",
     "output_type": "stream",
     "text": [
      "[5, 6, 7, 1, 2, 3, 4]\n"
     ]
    }
   ],
   "source": [
    "class Solution189:\n",
    "    def rotate(self, nums: List[int], k: int) -> None:\n",
    "\n",
    "        def reverse(left, right):\n",
    "            while left <= right:\n",
    "                nums[left], nums[right] = nums[right], nums[left]\n",
    "                left += 1\n",
    "                right -= 1\n",
    "        \n",
    "        n = len(nums)\n",
    "\n",
    "        reverse(0, n - 1)\n",
    "        reverse(0, k % n - 1)\n",
    "        reverse(k % n, n - 1)\n",
    "        print(nums)\n",
    "        return None\n",
    "\n",
    "Solution189().rotate(nums=[1, 2, 3, 4, 5, 6, 7], k=3)"
   ]
  },
  {
   "attachments": {},
   "cell_type": "markdown",
   "metadata": {},
   "source": [
    "## Задача 191. Number of 1 Bits (Easy)"
   ]
  },
  {
   "cell_type": "code",
   "execution_count": 75,
   "metadata": {},
   "outputs": [
    {
     "data": {
      "text/plain": [
       "7"
      ]
     },
     "execution_count": 75,
     "metadata": {},
     "output_type": "execute_result"
    }
   ],
   "source": [
    "class Solution191:\n",
    "    def hamming_weight(self, n: int) -> int:\n",
    "        ans = 0\n",
    "        while n:\n",
    "            ans += n & 1\n",
    "            n >>= 1\n",
    "        return ans\n",
    "\n",
    "Solution191().hamming_weight(n=int('10001110100110', 2))"
   ]
  },
  {
   "attachments": {},
   "cell_type": "markdown",
   "metadata": {},
   "source": [
    "## Задача 202. Happy Number (Easy)"
   ]
  },
  {
   "cell_type": "code",
   "execution_count": 76,
   "metadata": {},
   "outputs": [
    {
     "data": {
      "text/plain": [
       "True"
      ]
     },
     "execution_count": 76,
     "metadata": {},
     "output_type": "execute_result"
    }
   ],
   "source": [
    "class Solution202:\n",
    "    def is_happy(self, n: int) -> bool:\n",
    "        cache = []\n",
    "        while n != 1:\n",
    "            sum = 0\n",
    "            for i in str(n):\n",
    "                sum += int(i)**2\n",
    "            n = sum\n",
    "            if n in cache:\n",
    "                return False\n",
    "            else:\n",
    "                cache.append(n)\n",
    "        return True\n",
    "\n",
    "Solution202().is_happy(n=19)"
   ]
  },
  {
   "attachments": {},
   "cell_type": "markdown",
   "metadata": {},
   "source": [
    "## Задача 203. Remove Linked List Elements (Easy)"
   ]
  },
  {
   "cell_type": "code",
   "execution_count": 77,
   "metadata": {},
   "outputs": [
    {
     "data": {
      "text/plain": [
       "ListNode{val: 4, next: None}"
      ]
     },
     "execution_count": 77,
     "metadata": {},
     "output_type": "execute_result"
    }
   ],
   "source": [
    "from typing import Optional\n",
    "\n",
    "class ListNode:\n",
    "    def __init__(self, val=0, next=None):\n",
    "        self.val = val\n",
    "        self.next = next\n",
    "    def __repr__(self):\n",
    "        return f'ListNode{{val: {self.val}, next: {self.next}}}'\n",
    "\n",
    "class Solution203:\n",
    "    def remove_elements(self, head: Optional[ListNode], val: int) -> Optional[ListNode]:\n",
    "        zero_node = ListNode(None, next=head)\n",
    "        cur = head\n",
    "        prev = zero_node\n",
    "        while cur:\n",
    "            if cur.val == val:\n",
    "                prev.next = cur.next\n",
    "            else:\n",
    "                prev = cur\n",
    "            cur = cur.next\n",
    "        return zero_node.next\n",
    "\n",
    "Solution203().remove_elements(head=ListNode(val=3,next=ListNode(val=4,next=None)), val=3)"
   ]
  },
  {
   "attachments": {},
   "cell_type": "markdown",
   "metadata": {},
   "source": [
    "## Задача 205. Isomorphic Strings (Easy)"
   ]
  },
  {
   "cell_type": "code",
   "execution_count": 78,
   "metadata": {},
   "outputs": [
    {
     "data": {
      "text/plain": [
       "True"
      ]
     },
     "execution_count": 78,
     "metadata": {},
     "output_type": "execute_result"
    }
   ],
   "source": [
    "class Solution205:\n",
    "    def is_isomorphic(self, s: str, t: str) -> bool:\n",
    "\n",
    "        d1 = {}\n",
    "        d2 = {}\n",
    "\n",
    "        for i, _ in enumerate(s):\n",
    "            if s[i] in d1:\n",
    "                if d1[s[i]] != t[i]:\n",
    "                    return False\n",
    "            else:\n",
    "                if t[i] in d2 and d2[t[i]] != s[i]:\n",
    "                    return False\n",
    "                else:\n",
    "                    d1[s[i]] = t[i]\n",
    "                    d2[t[i]] = s[i]\n",
    "        \n",
    "        return True\n",
    "\n",
    "Solution205().is_isomorphic(s='egg', t='add')"
   ]
  },
  {
   "attachments": {},
   "cell_type": "markdown",
   "metadata": {},
   "source": [
    "## Задача 206. Reverse Linked List (Easy)"
   ]
  },
  {
   "cell_type": "code",
   "execution_count": 79,
   "metadata": {},
   "outputs": [],
   "source": [
    "from typing import Optional\n",
    "\n",
    "class ListNode:\n",
    "    def __init__(self, val=0, next=None):\n",
    "        self.val = val\n",
    "        self.next = next\n",
    "    def __repr__(self):\n",
    "        return f'ListNode{{val: {self.val}, next: {self.next}}}'\n",
    "\n",
    "class Solution206:\n",
    "    def reverse_list(self, head: Optional[ListNode]) -> Optional[ListNode]:\n",
    "        prev = None\n",
    "        cur = head\n",
    "        while cur:\n",
    "            temp = cur.next\n",
    "            cur.next = prev\n",
    "            prev = cur\n",
    "            cur = temp\n",
    "            #cur.next, prev, cur = prev, cur, cur.next\n",
    "        return prev"
   ]
  },
  {
   "attachments": {},
   "cell_type": "markdown",
   "metadata": {},
   "source": [
    "## Задача 217. Contains Duplicate (Easy)"
   ]
  },
  {
   "cell_type": "code",
   "execution_count": 80,
   "metadata": {},
   "outputs": [
    {
     "data": {
      "text/plain": [
       "True"
      ]
     },
     "execution_count": 80,
     "metadata": {},
     "output_type": "execute_result"
    }
   ],
   "source": [
    "from typing import List\n",
    "\n",
    "class Solution217:\n",
    "    def contains_duplicate(self, nums: List[int]) -> bool:\n",
    "        return len(nums) != len(set(nums))\n",
    "\n",
    "Solution217().contains_duplicate(nums=[1,2,3,1])"
   ]
  },
  {
   "attachments": {},
   "cell_type": "markdown",
   "metadata": {},
   "source": [
    "## Задача 219. Contains Duplicate II (Easy)"
   ]
  },
  {
   "cell_type": "code",
   "execution_count": 81,
   "metadata": {},
   "outputs": [
    {
     "data": {
      "text/plain": [
       "True"
      ]
     },
     "execution_count": 81,
     "metadata": {},
     "output_type": "execute_result"
    }
   ],
   "source": [
    "from typing import List\n",
    "\n",
    "class Solution219:\n",
    "    def contains_nearby_duplicate(self, nums: List[int], k: int) -> bool:\n",
    "        \n",
    "        d = {}\n",
    "\n",
    "        for i, num in enumerate(nums):\n",
    "            if num in d and i - d[num] <= k:\n",
    "                return True\n",
    "            d[num] = i\n",
    "        \n",
    "        return False\n",
    "\n",
    "Solution219().contains_nearby_duplicate(nums=[1, 2, 3, 1], k = 3)"
   ]
  },
  {
   "attachments": {},
   "cell_type": "markdown",
   "metadata": {},
   "source": [
    "## Задача 226. Invert Binary Tree (Easy)"
   ]
  },
  {
   "cell_type": "code",
   "execution_count": 82,
   "metadata": {},
   "outputs": [
    {
     "data": {
      "text/plain": [
       "TreeNode{val: 4, left: TreeNode{val: 7, left: TreeNode{val: 9, left: None, right: None}, right: TreeNode{val: 6, left: None, right: None}}, right: TreeNode{val: 2, left: TreeNode{val: 3, left: None, right: None}, right: TreeNode{val: 1, left: None, right: None}}}"
      ]
     },
     "execution_count": 82,
     "metadata": {},
     "output_type": "execute_result"
    }
   ],
   "source": [
    "from typing import Optional\n",
    "\n",
    "class TreeNode:\n",
    "    def __init__(self, val=0, left=None, right=None):\n",
    "        self.val = val\n",
    "        self.left = left\n",
    "        self.right = right\n",
    "    def __repr__(self):\n",
    "        return f'TreeNode{{val: {self.val}, left: {self.left}, right: {self.right}}}'\n",
    "\n",
    "class Solution226:\n",
    "    def invert_tree(self, root: Optional[TreeNode]) -> Optional[TreeNode]:\n",
    "        if not root:\n",
    "            return None\n",
    "        root.left, root.right = self.invert_tree(root.right), self.invert_tree(root.left)\n",
    "        return root\n",
    "\n",
    "Solution226().invert_tree(root=TreeNode(val=4,\n",
    "                                        left=TreeNode(val=2,\n",
    "                                                      left=TreeNode(val=1, left=None, right=None),\n",
    "                                                      right=TreeNode(val=3, left=None, right=None)),\n",
    "                                        right=TreeNode(val=7,\n",
    "                                                       left=TreeNode(val=6, left=None, right=None),\n",
    "                                                       right=TreeNode(val=9, left=None, right=None))))"
   ]
  },
  {
   "attachments": {},
   "cell_type": "markdown",
   "metadata": {},
   "source": [
    "## Задача 228. Summary Ranges (Easy)"
   ]
  },
  {
   "cell_type": "code",
   "execution_count": 83,
   "metadata": {},
   "outputs": [
    {
     "data": {
      "text/plain": [
       "['0->2', '4->5', '7']"
      ]
     },
     "execution_count": 83,
     "metadata": {},
     "output_type": "execute_result"
    }
   ],
   "source": [
    "from typing import List\n",
    "\n",
    "class Solution228:\n",
    "    def summary_ranges(self, nums: List[int]) -> List[str]:\n",
    "        if not nums:\n",
    "            return nums\n",
    "        s = nums[0]\n",
    "        nums.append(-1)\n",
    "        ans = []\n",
    "        for i in range(1, len(nums)):\n",
    "            if nums[i] - nums[i - 1] != 1:\n",
    "                e = nums[i - 1]\n",
    "                if s != e:\n",
    "                    ans.append(f'{s}->{e}')\n",
    "                else:\n",
    "                    ans.append(f'{s}')\n",
    "                s = nums[i]\n",
    "        return ans\n",
    "\n",
    "Solution228().summary_ranges(nums=[0, 1, 2, 4, 5, 7])"
   ]
  },
  {
   "attachments": {},
   "cell_type": "markdown",
   "metadata": {},
   "source": [
    "## Задача 231. Power of Two (Easy)"
   ]
  },
  {
   "cell_type": "code",
   "execution_count": 84,
   "metadata": {},
   "outputs": [
    {
     "data": {
      "text/plain": [
       "True"
      ]
     },
     "execution_count": 84,
     "metadata": {},
     "output_type": "execute_result"
    }
   ],
   "source": [
    "class Solution231:\n",
    "    def is_power_of_two(self, n: int) -> bool:\n",
    "        if n == 1:\n",
    "            return True\n",
    "        if n < 1:\n",
    "            return False\n",
    "        return self.is_power_of_two(n / 2)\n",
    "\n",
    "Solution231().is_power_of_two(n=16)"
   ]
  },
  {
   "attachments": {},
   "cell_type": "markdown",
   "metadata": {},
   "source": [
    "## Задача 237. Delete Node in a Linked List (Easy)"
   ]
  },
  {
   "cell_type": "code",
   "execution_count": 85,
   "metadata": {},
   "outputs": [
    {
     "name": "stdout",
     "output_type": "stream",
     "text": [
      "ListNode{val: 4, next: ListNode{val: 5, next: None}}\n"
     ]
    }
   ],
   "source": [
    "class ListNode:\n",
    "    def __init__(self, val=0, next=None):\n",
    "        self.val = val\n",
    "        self.next = next\n",
    "    def __repr__(self):\n",
    "        return f'ListNode{{val: {self.val}, next: {self.next}}}'\n",
    "\n",
    "class Solution237:\n",
    "    def delete_node(self, node: ListNode):\n",
    "        node.val = node.next.val\n",
    "        node.next = node.next.next\n",
    "        print(node)\n",
    "    \n",
    "Solution237().delete_node(node=ListNode(val=3, next=ListNode(val=4, next=ListNode(val=5, next=None))))"
   ]
  },
  {
   "attachments": {},
   "cell_type": "markdown",
   "metadata": {},
   "source": [
    "## Задача 242. Valid Anagram (Easy)"
   ]
  },
  {
   "cell_type": "code",
   "execution_count": 86,
   "metadata": {},
   "outputs": [
    {
     "data": {
      "text/plain": [
       "True"
      ]
     },
     "execution_count": 86,
     "metadata": {},
     "output_type": "execute_result"
    }
   ],
   "source": [
    "from collections import Counter\n",
    "\n",
    "class Solution242:\n",
    "    def is_anagram(self, s: str, t: str) -> bool:\n",
    "        return Counter(s) == Counter(t)\n",
    "\n",
    "Solution242().is_anagram(s='anagram', t='nagaram')"
   ]
  },
  {
   "attachments": {},
   "cell_type": "markdown",
   "metadata": {},
   "source": [
    "## Задача 252. Meeting Rooms (Easy)"
   ]
  },
  {
   "cell_type": "code",
   "execution_count": 87,
   "metadata": {},
   "outputs": [
    {
     "data": {
      "text/plain": [
       "False"
      ]
     },
     "execution_count": 87,
     "metadata": {},
     "output_type": "execute_result"
    }
   ],
   "source": [
    "class Solution252:\n",
    "    def can_attend_meetings(self, intervals: List[List[int]]) -> bool:\n",
    "        intervals.sort()\n",
    "        for i in range(1, len(intervals)):\n",
    "            if intervals[i][0] < intervals[i-1][1]:\n",
    "                return False\n",
    "        return True\n",
    "\n",
    "Solution252().can_attend_meetings(intervals=[[0, 30], [5, 10], [15, 20]])"
   ]
  },
  {
   "cell_type": "code",
   "execution_count": 88,
   "metadata": {},
   "outputs": [
    {
     "data": {
      "text/plain": [
       "False"
      ]
     },
     "execution_count": 88,
     "metadata": {},
     "output_type": "execute_result"
    }
   ],
   "source": [
    "class Solution252_1:\n",
    "    def can_attend_meetings(self, intervals: List[List[int]]) -> bool:\n",
    "        intervals.sort()\n",
    "        for prev, next in zip(intervals, intervals[1:]):\n",
    "            if prev[-1] > next[0]:\n",
    "                return False\n",
    "        return True\n",
    "\n",
    "Solution252_1().can_attend_meetings(intervals=[[0, 30], [5, 10], [15, 20]])"
   ]
  },
  {
   "attachments": {},
   "cell_type": "markdown",
   "metadata": {},
   "source": [
    "## Задача 257. Binary Tree Paths (Easy)"
   ]
  },
  {
   "cell_type": "code",
   "execution_count": 89,
   "metadata": {},
   "outputs": [
    {
     "data": {
      "text/plain": [
       "['1->2->5', '1->3']"
      ]
     },
     "execution_count": 89,
     "metadata": {},
     "output_type": "execute_result"
    }
   ],
   "source": [
    "from typing import Optional, List\n",
    "\n",
    "class TreeNode:\n",
    "    def __init__(self, val=0, left=None, right=None):\n",
    "        self.val = val\n",
    "        self.left = left\n",
    "        self.right = right\n",
    "    def __repr__(self):\n",
    "        return f'TreeNode{{val: {self.val}, left: {self.left}, right: {self.right}}}'\n",
    "\n",
    "class Solution257:\n",
    "    def binary_tree_paths(self, root: Optional[TreeNode]) -> List[str]:\n",
    "\n",
    "        ans = []\n",
    "\n",
    "        def dfs(node, path):\n",
    "            path += str(node.val) + '->'\n",
    "            if not node.left and not node.right:\n",
    "                ans.append(path[:-2])\n",
    "                return\n",
    "            if node.left:\n",
    "                dfs(node.left, path)\n",
    "            if node.right:\n",
    "                dfs(node.right, path)\n",
    "        \n",
    "        dfs(root, '')\n",
    "\n",
    "        return ans\n",
    "\n",
    "Solution257().binary_tree_paths(root=TreeNode(val=1,\n",
    "                                              left=TreeNode(val=2,\n",
    "                                                            left=None,\n",
    "                                                            right=TreeNode(val=5, left=None, right=None)),\n",
    "                                                            right=TreeNode(val=3, left=None, right=None)))\n"
   ]
  },
  {
   "attachments": {},
   "cell_type": "markdown",
   "metadata": {},
   "source": [
    "## Задача 268. Missing Number (Easy)"
   ]
  },
  {
   "cell_type": "code",
   "execution_count": 90,
   "metadata": {},
   "outputs": [
    {
     "data": {
      "text/plain": [
       "2"
      ]
     },
     "execution_count": 90,
     "metadata": {},
     "output_type": "execute_result"
    }
   ],
   "source": [
    "from typing import List\n",
    "\n",
    "class Solution268:\n",
    "    def missing_number(self, nums: List[int]) -> int:\n",
    "        n = max(nums)\n",
    "        mis = n * (n + 1) // 2 - sum(nums)\n",
    "        if mis == 0 and 0 in nums:\n",
    "            return n + 1\n",
    "        if not 0 in nums:\n",
    "            return 0\n",
    "        return mis\n",
    "\n",
    "Solution268().missing_number(nums=[3, 0, 1])"
   ]
  },
  {
   "cell_type": "code",
   "execution_count": 91,
   "metadata": {},
   "outputs": [
    {
     "data": {
      "text/plain": [
       "2"
      ]
     },
     "execution_count": 91,
     "metadata": {},
     "output_type": "execute_result"
    }
   ],
   "source": [
    "from typing import List\n",
    "\n",
    "class Solution268_1:\n",
    "    def missing_number(self, nums: List[int]) -> int:\n",
    "        return list(set(range(len(nums)+1)) - set(nums))[0]\n",
    "\n",
    "Solution268_1().missing_number(nums=[3, 0, 1])"
   ]
  },
  {
   "cell_type": "code",
   "execution_count": 92,
   "metadata": {},
   "outputs": [
    {
     "data": {
      "text/plain": [
       "2"
      ]
     },
     "execution_count": 92,
     "metadata": {},
     "output_type": "execute_result"
    }
   ],
   "source": [
    "from typing import List\n",
    "\n",
    "class Solution268_2:\n",
    "    def missing_number(self, nums: List[int]) -> int:\n",
    "        n = len(nums)\n",
    "        return n * (n + 1) // 2 - sum(nums)\n",
    "\n",
    "Solution268_2().missing_number(nums=[3, 0, 1])"
   ]
  },
  {
   "attachments": {},
   "cell_type": "markdown",
   "metadata": {},
   "source": [
    "## Задача 270. Closest Binary Search Tree Value (Easy)"
   ]
  },
  {
   "cell_type": "code",
   "execution_count": 93,
   "metadata": {},
   "outputs": [
    {
     "data": {
      "text/plain": [
       "4"
      ]
     },
     "execution_count": 93,
     "metadata": {},
     "output_type": "execute_result"
    }
   ],
   "source": [
    "from typing import Optional\n",
    "\n",
    "class TreeNode:\n",
    "    def __init__(self, val=0, left=None, right=None):\n",
    "        self.val = val\n",
    "        self.left = left\n",
    "        self.right = right\n",
    "    def __repr__(self):\n",
    "        return f'TreeNode{{val: {self.val}, left: {self.left}, right: {self.right}}}'\n",
    "\n",
    "class Solution270:\n",
    "    def closest_value(self, root: Optional[TreeNode], target: float) -> int:\n",
    "        def dfs(node, cur, target):\n",
    "            if not node:\n",
    "                return cur\n",
    "            if cur == target:\n",
    "                return cur\n",
    "            if abs(node.val - target) < abs(cur - target):\n",
    "                cur = node.val\n",
    "            if target > node.val:\n",
    "                kid = dfs(node.right, cur, target)\n",
    "            else:\n",
    "                kid = dfs(node.left, cur, target)\n",
    "            return kid\n",
    "        return dfs(root, float('inf'), target)\n",
    "\n",
    "Solution270().closest_value(root=TreeNode(val=4,\n",
    "                                          left=TreeNode(val=2,\n",
    "                                                        left=TreeNode(val=1, left=None, right=None),\n",
    "                                                        right=TreeNode(val=3, left=None, right=None)),\n",
    "                                          right=TreeNode(val=5, left=None, right=None)),\n",
    "                            target=3.714286)"
   ]
  },
  {
   "attachments": {},
   "cell_type": "markdown",
   "metadata": {},
   "source": [
    "## Задача 278. First Bad Version (Easy)"
   ]
  },
  {
   "cell_type": "code",
   "execution_count": 94,
   "metadata": {},
   "outputs": [
    {
     "data": {
      "text/plain": [
       "4"
      ]
     },
     "execution_count": 94,
     "metadata": {},
     "output_type": "execute_result"
    }
   ],
   "source": [
    "def is_bad_version(version: int) -> bool:\n",
    "    if version >= 4:\n",
    "        return True\n",
    "    return False\n",
    "\n",
    "class Solution278:\n",
    "    def first_bad_version(self, n: int) -> int:\n",
    "        left, right = 0, n\n",
    "        while left <= right:\n",
    "            mid = (left + right) // 2\n",
    "            if is_bad_version(mid):\n",
    "                right = mid - 1\n",
    "            else:\n",
    "                left = mid + 1\n",
    "        return left\n",
    "\n",
    "Solution278().first_bad_version(n=5)"
   ]
  },
  {
   "attachments": {},
   "cell_type": "markdown",
   "metadata": {},
   "source": [
    "## Задача 283. Move Zeroes (Easy)"
   ]
  },
  {
   "cell_type": "code",
   "execution_count": 95,
   "metadata": {},
   "outputs": [
    {
     "name": "stdout",
     "output_type": "stream",
     "text": [
      "[1, 12, 3, 0, 0]\n"
     ]
    }
   ],
   "source": [
    "class Solution283:\n",
    "    def move_zeroes(self, nums: List[int]) -> None:\n",
    "        j = 0\n",
    "        for i, _ in enumerate(nums):\n",
    "            if nums[i] != 0:\n",
    "                nums[i], nums[j] = nums[j], nums[i]\n",
    "                j += 1\n",
    "        print(nums)\n",
    "\n",
    "Solution283().move_zeroes(nums=[0,1,0,12,3])"
   ]
  },
  {
   "attachments": {},
   "cell_type": "markdown",
   "metadata": {},
   "source": [
    "## Задача 338. Counting Bits (Easy)"
   ]
  },
  {
   "cell_type": "code",
   "execution_count": 96,
   "metadata": {},
   "outputs": [
    {
     "data": {
      "text/plain": [
       "[0, 1, 1]"
      ]
     },
     "execution_count": 96,
     "metadata": {},
     "output_type": "execute_result"
    }
   ],
   "source": [
    "from typing import List\n",
    "\n",
    "class Solution338:\n",
    "    def count_bits(self, n: int) -> List[int]:\n",
    "        ans = []\n",
    "        for i in range(n+1):\n",
    "            cur = 0\n",
    "            while i:\n",
    "                cur += i & 1\n",
    "                i >>= 1\n",
    "            ans.append(cur)\n",
    "        return ans\n",
    "\n",
    "Solution338().count_bits(n=2)"
   ]
  },
  {
   "attachments": {},
   "cell_type": "markdown",
   "metadata": {},
   "source": [
    "## Задача 342. Power of Four (Easy)"
   ]
  },
  {
   "cell_type": "code",
   "execution_count": 97,
   "metadata": {},
   "outputs": [
    {
     "data": {
      "text/plain": [
       "True"
      ]
     },
     "execution_count": 97,
     "metadata": {},
     "output_type": "execute_result"
    }
   ],
   "source": [
    "class Solution342:\n",
    "    def is_power_of_four(self, n: int) -> bool:\n",
    "        if n == 1:\n",
    "            return True\n",
    "        if n < 1:\n",
    "            return False\n",
    "        return self.is_power_of_four(n / 4)\n",
    "\n",
    "Solution342().is_power_of_four(n=16)"
   ]
  },
  {
   "attachments": {},
   "cell_type": "markdown",
   "metadata": {},
   "source": [
    "## Задача 344. Reverse String (Easy)"
   ]
  },
  {
   "cell_type": "code",
   "execution_count": 98,
   "metadata": {},
   "outputs": [
    {
     "name": "stdout",
     "output_type": "stream",
     "text": [
      "['o', 'l', 'l', 'e', 'h']\n"
     ]
    }
   ],
   "source": [
    "from typing import List\n",
    "\n",
    "class Solution344:\n",
    "    def reverse_string(self, s: List[str]) -> None:\n",
    "        left, right = 0, len(s) - 1\n",
    "        while left < right:\n",
    "            s[left], s[right] = s[right], s[left]\n",
    "            left += 1\n",
    "            right -= 1\n",
    "        print(s)\n",
    "\n",
    "Solution344().reverse_string(s=['h', 'e', 'l', 'l', 'o'])"
   ]
  },
  {
   "attachments": {},
   "cell_type": "markdown",
   "metadata": {},
   "source": [
    "## Задача 345. Reverse Vowels of a String (Easy)"
   ]
  },
  {
   "cell_type": "code",
   "execution_count": 99,
   "metadata": {},
   "outputs": [
    {
     "data": {
      "text/plain": [
       "'holle'"
      ]
     },
     "execution_count": 99,
     "metadata": {},
     "output_type": "execute_result"
    }
   ],
   "source": [
    "class Solution345:\n",
    "    def reverse_vowels(self, s: str) -> str:\n",
    "        vowels = {'a', 'e', 'i', 'o', 'u', 'A', 'E', 'I', 'O', 'U'}\n",
    "        s = list(s)\n",
    "        left, right = 0, len(s) - 1\n",
    "        while left <= right:\n",
    "            if not s[left] in vowels:\n",
    "                left += 1\n",
    "                continue\n",
    "            if not s[right] in vowels:\n",
    "                right -= 1\n",
    "                continue\n",
    "            s[left], s[right] = s[right], s[left]\n",
    "            left += 1\n",
    "            right -= 1\n",
    "        return ''.join(s)\n",
    "\n",
    "Solution345().reverse_vowels(s='hello')"
   ]
  },
  {
   "attachments": {},
   "cell_type": "markdown",
   "metadata": {},
   "source": [
    "## Задача 349. Intersection of Two Arrays (Easy)"
   ]
  },
  {
   "cell_type": "code",
   "execution_count": 100,
   "metadata": {},
   "outputs": [
    {
     "data": {
      "text/plain": [
       "[2]"
      ]
     },
     "execution_count": 100,
     "metadata": {},
     "output_type": "execute_result"
    }
   ],
   "source": [
    "from typing import List\n",
    "from collections import Counter\n",
    "\n",
    "class Solution349:\n",
    "    def intersection(self, nums1: List[int], nums2: List[int]) -> List[int]:\n",
    "        cnt1, cnt2 = Counter(nums1), Counter(nums2)\n",
    "        return list(cnt1 & cnt2)\n",
    "\n",
    "Solution349().intersection(nums1=[1,2,2,3], nums2=[4,5,2,2])"
   ]
  },
  {
   "cell_type": "code",
   "execution_count": 101,
   "metadata": {},
   "outputs": [
    {
     "data": {
      "text/plain": [
       "[2]"
      ]
     },
     "execution_count": 101,
     "metadata": {},
     "output_type": "execute_result"
    }
   ],
   "source": [
    "from typing import List\n",
    "\n",
    "class Solution349_1:\n",
    "    def intersection(self, nums1: List[int], nums2: List[int]) -> List[int]:\n",
    "        return list(set(nums1) & set(nums2))\n",
    "\n",
    "Solution349_1().intersection(nums1=[1,2,2,3], nums2=[4,5,2,2])"
   ]
  },
  {
   "attachments": {},
   "cell_type": "markdown",
   "metadata": {},
   "source": [
    "## Задача 349. Intersection of Two Arrays II (Easy)"
   ]
  },
  {
   "cell_type": "code",
   "execution_count": 102,
   "metadata": {},
   "outputs": [
    {
     "data": {
      "text/plain": [
       "[2, 2]"
      ]
     },
     "execution_count": 102,
     "metadata": {},
     "output_type": "execute_result"
    }
   ],
   "source": [
    "from typing import List\n",
    "from collections import Counter\n",
    "\n",
    "class Solution349:\n",
    "    def intersection(self, nums1: List[int], nums2: List[int]) -> List[int]:\n",
    "        cnt1, cnt2 = Counter(nums1), Counter(nums2)\n",
    "        ans = []\n",
    "        for k, v in (cnt1 & cnt2).items():\n",
    "            ans += [k] * v\n",
    "        return ans\n",
    "\n",
    "Solution349().intersection(nums1=[1,2,2,3], nums2=[4,5,2,2])"
   ]
  },
  {
   "attachments": {},
   "cell_type": "markdown",
   "metadata": {},
   "source": [
    "## Задача 367. Valid Perfect Square (Easy)"
   ]
  },
  {
   "cell_type": "code",
   "execution_count": 103,
   "metadata": {},
   "outputs": [
    {
     "data": {
      "text/plain": [
       "True"
      ]
     },
     "execution_count": 103,
     "metadata": {},
     "output_type": "execute_result"
    }
   ],
   "source": [
    "class Solution367:\n",
    "    def is_perfect_square(self, num: int) -> bool:\n",
    "\n",
    "        if num == 1:\n",
    "            return True\n",
    "\n",
    "        left, right = 1, num // 2\n",
    "        while left <= right:\n",
    "            mid = (left + right) // 2\n",
    "            mid_square = mid * mid\n",
    "            if mid_square == num:\n",
    "                return True\n",
    "            if mid_square > num:\n",
    "                right = mid - 1\n",
    "            else:\n",
    "                left = mid + 1\n",
    "        return False\n",
    "\n",
    "Solution367().is_perfect_square(num=25)"
   ]
  },
  {
   "attachments": {},
   "cell_type": "markdown",
   "metadata": {},
   "source": [
    "## Задача 374. Guess Number Higher or Lower (Easy)"
   ]
  },
  {
   "cell_type": "code",
   "execution_count": 104,
   "metadata": {},
   "outputs": [
    {
     "data": {
      "text/plain": [
       "7"
      ]
     },
     "execution_count": 104,
     "metadata": {},
     "output_type": "execute_result"
    }
   ],
   "source": [
    "def guess(num: int) -> int:\n",
    "    if num > 7:\n",
    "        return -1\n",
    "    elif num < 7:\n",
    "        return 1\n",
    "    else:\n",
    "        return 0\n",
    "\n",
    "class Solution374:\n",
    "    def guess_number(self, n: int) -> int:\n",
    "        left, right = 1, n\n",
    "        while left <= right:\n",
    "            mid = (left + right) // 2\n",
    "            check = guess(mid)\n",
    "            if check == 0:\n",
    "                return mid\n",
    "            if check < 0:\n",
    "                right = mid - 1\n",
    "            else:\n",
    "                left = mid + 1\n",
    "\n",
    "Solution374().guess_number(n=10)"
   ]
  },
  {
   "attachments": {},
   "cell_type": "markdown",
   "metadata": {},
   "source": [
    "## Задача 383. Ransom Note (Easy)"
   ]
  },
  {
   "cell_type": "code",
   "execution_count": 105,
   "metadata": {},
   "outputs": [
    {
     "data": {
      "text/plain": [
       "False"
      ]
     },
     "execution_count": 105,
     "metadata": {},
     "output_type": "execute_result"
    }
   ],
   "source": [
    "from collections import Counter\n",
    "\n",
    "class Solution383:\n",
    "    def can_construct(self, ransome_note: str, magazine: str) -> bool:\n",
    "        ransome_note_cnt = Counter(ransome_note)\n",
    "        magazine_cnt = Counter(magazine)\n",
    "        for k, v in ransome_note_cnt.items():\n",
    "            if magazine_cnt[k] < v:\n",
    "                return False\n",
    "        return True\n",
    "\n",
    "Solution383().can_construct(ransome_note='a', magazine='b')"
   ]
  },
  {
   "cell_type": "code",
   "execution_count": 106,
   "metadata": {},
   "outputs": [
    {
     "data": {
      "text/plain": [
       "False"
      ]
     },
     "execution_count": 106,
     "metadata": {},
     "output_type": "execute_result"
    }
   ],
   "source": [
    "from collections import Counter\n",
    "\n",
    "class Solution383_1:\n",
    "    def can_construct(self, ransome_note: str, magazine: str) -> bool:\n",
    "        return (Counter(ransome_note) & Counter(magazine)) == Counter(ransome_note)\n",
    "\n",
    "Solution383_1().can_construct(ransome_note='a', magazine='b')"
   ]
  },
  {
   "attachments": {},
   "cell_type": "markdown",
   "metadata": {},
   "source": [
    "## Задача 387. First Unique Character in a String (Easy)"
   ]
  },
  {
   "cell_type": "code",
   "execution_count": 107,
   "metadata": {},
   "outputs": [
    {
     "data": {
      "text/plain": [
       "2"
      ]
     },
     "execution_count": 107,
     "metadata": {},
     "output_type": "execute_result"
    }
   ],
   "source": [
    "from collections import Counter\n",
    "\n",
    "class Solution387:\n",
    "    def first_uniq_char(self, s: str) -> int:\n",
    "        cnt = Counter(s)\n",
    "        for i, ch in enumerate(s):\n",
    "            if cnt[ch] == 1:\n",
    "                return i\n",
    "        return -1\n",
    "\n",
    "Solution387().first_uniq_char(s='loveleetcode')"
   ]
  },
  {
   "attachments": {},
   "cell_type": "markdown",
   "metadata": {},
   "source": [
    "## Задача 389. Find the Difference (Easy)"
   ]
  },
  {
   "cell_type": "code",
   "execution_count": 108,
   "metadata": {},
   "outputs": [
    {
     "data": {
      "text/plain": [
       "'e'"
      ]
     },
     "execution_count": 108,
     "metadata": {},
     "output_type": "execute_result"
    }
   ],
   "source": [
    "from collections import Counter\n",
    "\n",
    "class Solution389:\n",
    "    def find_the_difference(self, s: str, t: str) -> str:\n",
    "        #return list((Counter(t) - Counter(s)).elements())[0]\n",
    "        return list((Counter(t) - Counter(s)).keys())[0]\n",
    "\n",
    "Solution389().find_the_difference(s='abcd', t='abcde')"
   ]
  },
  {
   "cell_type": "code",
   "execution_count": 109,
   "metadata": {},
   "outputs": [
    {
     "data": {
      "text/plain": [
       "'e'"
      ]
     },
     "execution_count": 109,
     "metadata": {},
     "output_type": "execute_result"
    }
   ],
   "source": [
    "class Solution389_1:\n",
    "    def find_the_difference(self, s: str, t: str) -> str:\n",
    "        t_counter = Counter(t)\n",
    "        for ch in s:\n",
    "            t_counter[ch] -= 1\n",
    "        return list(t_counter.keys())[list(t_counter.values()).index(1)]\n",
    "\n",
    "Solution389_1().find_the_difference(s='abcd', t='abcde')"
   ]
  },
  {
   "attachments": {},
   "cell_type": "markdown",
   "metadata": {},
   "source": [
    "## Задача 392. Is Subsequence (Easy)"
   ]
  },
  {
   "cell_type": "code",
   "execution_count": 110,
   "metadata": {},
   "outputs": [
    {
     "data": {
      "text/plain": [
       "True"
      ]
     },
     "execution_count": 110,
     "metadata": {},
     "output_type": "execute_result"
    }
   ],
   "source": [
    "class Solution392:\n",
    "    def is_subsequence(self, s: str, t: str) -> bool:\n",
    "        stack = list(s)\n",
    "        for c in t[::-1]:\n",
    "            if stack and stack[-1] == c:\n",
    "                stack.pop()\n",
    "        return len(stack) == 0\n",
    "\n",
    "Solution392().is_subsequence(s='abc', t='ahbgdc')"
   ]
  },
  {
   "attachments": {},
   "cell_type": "markdown",
   "metadata": {},
   "source": [
    "## Задача 404. Sum of Left Leaves (Easy)"
   ]
  },
  {
   "cell_type": "code",
   "execution_count": 111,
   "metadata": {},
   "outputs": [
    {
     "data": {
      "text/plain": [
       "24"
      ]
     },
     "execution_count": 111,
     "metadata": {},
     "output_type": "execute_result"
    }
   ],
   "source": [
    "from typing import Optional\n",
    "\n",
    "class TreeNode:\n",
    "    def __init__(self, val=0, left=None, right=None):\n",
    "        self.val = val\n",
    "        self.left = left\n",
    "        self.right = right\n",
    "    def __repr__(self):\n",
    "        return f'TreeNode{{val: {self.val}, left: {self.left}, right: {self.right}}}'\n",
    "\n",
    "class Solution404:\n",
    "    def sum_of_left_leaves(self, root: Optional[TreeNode]) -> int:\n",
    "        ans = 0\n",
    "        stack = [(root, None)]\n",
    "        while stack:\n",
    "            cur, is_left = stack.pop()\n",
    "            if not cur.left and not cur.right and is_left:\n",
    "                ans += cur.val\n",
    "            if cur.left:\n",
    "                stack.append((cur.left, 1))\n",
    "            if cur.right:\n",
    "                stack.append((cur.right, 0))\n",
    "        return ans\n",
    "\n",
    "Solution404().sum_of_left_leaves(root=TreeNode(val=3,\n",
    "                                               left=TreeNode(val=9, left=None, right=None),\n",
    "                                               right=TreeNode(val=20,\n",
    "                                                              left=TreeNode(val=15, left=None, right=None),\n",
    "                                                              right=TreeNode(val=7, left=None, right=None))))"
   ]
  },
  {
   "cell_type": "code",
   "execution_count": 112,
   "metadata": {},
   "outputs": [
    {
     "data": {
      "text/plain": [
       "24"
      ]
     },
     "execution_count": 112,
     "metadata": {},
     "output_type": "execute_result"
    }
   ],
   "source": [
    "from typing import Optional\n",
    "\n",
    "class TreeNode:\n",
    "    def __init__(self, val=0, left=None, right=None):\n",
    "        self.val = val\n",
    "        self.left = left\n",
    "        self.right = right\n",
    "    def __repr__(self):\n",
    "        return f'TreeNode{{val: {self.val}, left: {self.left}, right: {self.right}}}'\n",
    "\n",
    "class Solution404_1:\n",
    "    def sum_of_left_leaves(self, root: Optional[TreeNode]) -> int:\n",
    "\n",
    "        def dfs_helper(node, left):\n",
    "            if not node:\n",
    "                return 0\n",
    "            if not node.left and not node.right and left:\n",
    "                return node.val\n",
    "            left = dfs_helper(node.left, True)\n",
    "            right = dfs_helper(node.right, False)\n",
    "            return left + right\n",
    "        \n",
    "        return dfs_helper(root, False)\n",
    "\n",
    "Solution404_1().sum_of_left_leaves(root=TreeNode(val=3,\n",
    "                                                 left=TreeNode(val=9, left=None, right=None),\n",
    "                                                 right=TreeNode(val=20,\n",
    "                                                                left=TreeNode(val=15, left=None, right=None),\n",
    "                                                                right=TreeNode(val=7, left=None, right=None))))"
   ]
  },
  {
   "attachments": {},
   "cell_type": "markdown",
   "metadata": {},
   "source": [
    "## Задача 409. Longest Palindrome (Easy)"
   ]
  },
  {
   "cell_type": "code",
   "execution_count": 113,
   "metadata": {},
   "outputs": [
    {
     "data": {
      "text/plain": [
       "7"
      ]
     },
     "execution_count": 113,
     "metadata": {},
     "output_type": "execute_result"
    }
   ],
   "source": [
    "from collections import Counter\n",
    "\n",
    "class Solution409:\n",
    "    def longest_palindrome(self, s: str) -> int:\n",
    "        cnt = Counter(s)\n",
    "        ans = 0\n",
    "        for _, c in cnt.items():\n",
    "            ans += c // 2 * 2\n",
    "        return ans + 1 if ans != len(s) else ans\n",
    "\n",
    "Solution409().longest_palindrome(s='abccccdd')"
   ]
  },
  {
   "cell_type": "code",
   "execution_count": 114,
   "metadata": {},
   "outputs": [
    {
     "data": {
      "text/plain": [
       "7"
      ]
     },
     "execution_count": 114,
     "metadata": {},
     "output_type": "execute_result"
    }
   ],
   "source": [
    "from collections import Counter\n",
    "\n",
    "class Solution409_1:\n",
    "    def longest_palindrome(self, s: str) -> int:\n",
    "        cnt = Counter(s)\n",
    "        ans = 0\n",
    "        for l, c in cnt.items():\n",
    "            cur = c - (c % 2)\n",
    "            ans += cur\n",
    "            cnt[l] -= cur\n",
    "        return ans if not sum(cnt.values()) else ans + 1\n",
    "\n",
    "Solution409_1().longest_palindrome(s='abccccdd')"
   ]
  },
  {
   "attachments": {},
   "cell_type": "markdown",
   "metadata": {},
   "source": [
    "## Задача 412. Fizz Buzz (Easy)"
   ]
  },
  {
   "cell_type": "code",
   "execution_count": 115,
   "metadata": {},
   "outputs": [
    {
     "data": {
      "text/plain": [
       "['1', '2', 'Fizz']"
      ]
     },
     "execution_count": 115,
     "metadata": {},
     "output_type": "execute_result"
    }
   ],
   "source": [
    "from typing import List\n",
    "\n",
    "class Solution412:\n",
    "    def fizz_buzz(self, n: int) -> List[str]:\n",
    "        ans = []\n",
    "        for i in range(1, n+1):\n",
    "            if i % 3 == 0 and i % 5 == 0:\n",
    "                ans.append('FizzBuzz')\n",
    "            elif i % 3 == 0:\n",
    "                ans.append('Fizz')\n",
    "            elif i % 5 == 0:\n",
    "                ans.append('Buzz')\n",
    "            else:\n",
    "                ans.append(str(i))\n",
    "        return ans\n",
    "\n",
    "Solution412().fizz_buzz(n=3)"
   ]
  },
  {
   "attachments": {},
   "cell_type": "markdown",
   "metadata": {},
   "source": [
    "## Задача 448. Find All Numbers Disappeared in an Array (Easy)"
   ]
  },
  {
   "cell_type": "code",
   "execution_count": 116,
   "metadata": {},
   "outputs": [
    {
     "data": {
      "text/plain": [
       "[5, 6]"
      ]
     },
     "execution_count": 116,
     "metadata": {},
     "output_type": "execute_result"
    }
   ],
   "source": [
    "from typing import List\n",
    "\n",
    "class Solution448:\n",
    "    def find_disappeared_numbers(self, nums: List[int]) -> List[int]:\n",
    "        return list(set(range(1, len(nums)+1)) - set(nums))\n",
    "\n",
    "Solution448().find_disappeared_numbers(nums=[4, 3, 2, 7, 8, 2, 3, 1])"
   ]
  },
  {
   "attachments": {},
   "cell_type": "markdown",
   "metadata": {},
   "source": [
    "## Задача 455. Assign Cookies (Easy)"
   ]
  },
  {
   "cell_type": "code",
   "execution_count": 117,
   "metadata": {},
   "outputs": [
    {
     "data": {
      "text/plain": [
       "1"
      ]
     },
     "execution_count": 117,
     "metadata": {},
     "output_type": "execute_result"
    }
   ],
   "source": [
    "from typing import List\n",
    "\n",
    "class Solution455:\n",
    "    def find_content_children(self, g: List[int], s: List[int]) -> int:\n",
    "        g.sort()\n",
    "        s.sort()\n",
    "        child_pointer = 0\n",
    "        for cookie in s:\n",
    "            if cookie >= g[child_pointer]:\n",
    "                child_pointer += 1\n",
    "            if child_pointer == len(g):\n",
    "                break\n",
    "        return child_pointer\n",
    "\n",
    "Solution455().find_content_children(g=[1,2,3], s=[1,1])"
   ]
  },
  {
   "attachments": {},
   "cell_type": "markdown",
   "metadata": {},
   "source": [
    "## Задача 461. Hamming Distance (Easy)"
   ]
  },
  {
   "cell_type": "code",
   "execution_count": 118,
   "metadata": {},
   "outputs": [
    {
     "data": {
      "text/plain": [
       "2"
      ]
     },
     "execution_count": 118,
     "metadata": {},
     "output_type": "execute_result"
    }
   ],
   "source": [
    "class Solution461:\n",
    "    def hamming_distance(self, x: int, y: int) -> int:\n",
    "        dist = 0\n",
    "        while x or y:\n",
    "            dist += (x & 1) != (y & 1)\n",
    "            x >>= 1\n",
    "            y >>= 1\n",
    "        return dist\n",
    "\n",
    "Solution461().hamming_distance(x=1, y=4)"
   ]
  },
  {
   "attachments": {},
   "cell_type": "markdown",
   "metadata": {},
   "source": [
    "## Задача 482. License Key Formatting (Easy)"
   ]
  },
  {
   "cell_type": "code",
   "execution_count": 119,
   "metadata": {},
   "outputs": [
    {
     "data": {
      "text/plain": [
       "'5-F3Z2-E9WR'"
      ]
     },
     "execution_count": 119,
     "metadata": {},
     "output_type": "execute_result"
    }
   ],
   "source": [
    "class Solution482:\n",
    "    def license_key_formatting(self, s: str, k: int) -> int:\n",
    "        s = s.replace('-', '').upper()\n",
    "        first_len = len(s) % k\n",
    "        ans = ''\n",
    "        if first_len != 0:\n",
    "            ans = s[:first_len] + '-'\n",
    "        for i in range(first_len, len(s), k):\n",
    "            ans += s[i:i+k] + '-'\n",
    "        return ans[:-1]\n",
    "\n",
    "Solution482().license_key_formatting(s='5F3Z-2e-9-wr', k=4)"
   ]
  },
  {
   "cell_type": "code",
   "execution_count": 120,
   "metadata": {},
   "outputs": [
    {
     "data": {
      "text/plain": [
       "'5F3-Z2E9W-RT123'"
      ]
     },
     "execution_count": 120,
     "metadata": {},
     "output_type": "execute_result"
    }
   ],
   "source": [
    "class Solution482_1:\n",
    "    def license_key_formatting(self, s: str, k: int) -> int:\n",
    "        s = s.replace('-', '').upper()\n",
    "        ans = ''\n",
    "        helper_count = 0\n",
    "        for i in range(len(s)-1, -1, -1):\n",
    "            ans += s[i]\n",
    "            if not (len(ans)-helper_count) % k:\n",
    "                ans += '-'\n",
    "                helper_count += 1\n",
    "        reversed_ans = ans[::-1]\n",
    "        return reversed_ans if reversed_ans[0] != '-' else reversed_ans[1:]\n",
    "\n",
    "Solution482_1().license_key_formatting(s='5F3Z-2e-9-wr--t12-3', k=5)"
   ]
  },
  {
   "attachments": {},
   "cell_type": "markdown",
   "metadata": {},
   "source": [
    "## Задача 485. Max Consecutive Ones (Easy)"
   ]
  },
  {
   "cell_type": "code",
   "execution_count": 121,
   "metadata": {},
   "outputs": [
    {
     "data": {
      "text/plain": [
       "3"
      ]
     },
     "execution_count": 121,
     "metadata": {},
     "output_type": "execute_result"
    }
   ],
   "source": [
    "from typing import List\n",
    "\n",
    "class Solution485:\n",
    "    def find_max_consecutive_ones(self, nums: List[int]) -> int:\n",
    "        dp = [0] * (len(nums) + 1)\n",
    "        for i, _ in enumerate(nums):\n",
    "            if nums[i]:\n",
    "                dp[i + 1] = dp[i] + 1\n",
    "            else:\n",
    "                dp[i + 1] = 0\n",
    "        return max(dp)\n",
    "\n",
    "Solution485().find_max_consecutive_ones(nums=[1, 1, 0, 1, 1, 1])"
   ]
  },
  {
   "attachments": {},
   "cell_type": "markdown",
   "metadata": {},
   "source": [
    "## Задача 509. Fibonacci Number (Easy)"
   ]
  },
  {
   "cell_type": "code",
   "execution_count": 122,
   "metadata": {},
   "outputs": [
    {
     "data": {
      "text/plain": [
       "55"
      ]
     },
     "execution_count": 122,
     "metadata": {},
     "output_type": "execute_result"
    }
   ],
   "source": [
    "from functools import lru_cache\n",
    "\n",
    "class Solution509:\n",
    "\n",
    "    @lru_cache(None)\n",
    "    def fib(self, n: int) -> int:\n",
    "        if n < 2:\n",
    "            return n\n",
    "        return self.fib(n-1) + self.fib(n-2)\n",
    "\n",
    "Solution509().fib(n=10)"
   ]
  },
  {
   "attachments": {},
   "cell_type": "markdown",
   "metadata": {},
   "source": [
    "## Задача 520. Detect Capital (Easy)"
   ]
  },
  {
   "cell_type": "code",
   "execution_count": 123,
   "metadata": {},
   "outputs": [
    {
     "data": {
      "text/plain": [
       "False"
      ]
     },
     "execution_count": 123,
     "metadata": {},
     "output_type": "execute_result"
    }
   ],
   "source": [
    "class Solution520:\n",
    "    def detect_capital_use(self, word: str) -> bool:\n",
    "        return word.lower() == word or word.upper() == word or word.istitle()\n",
    "\n",
    "Solution520().detect_capital_use(word='FlaG')"
   ]
  },
  {
   "attachments": {},
   "cell_type": "markdown",
   "metadata": {},
   "source": [
    "## Задача 551. Student Attendance Record I (Easy)"
   ]
  },
  {
   "cell_type": "code",
   "execution_count": 124,
   "metadata": {},
   "outputs": [
    {
     "data": {
      "text/plain": [
       "True"
      ]
     },
     "execution_count": 124,
     "metadata": {},
     "output_type": "execute_result"
    }
   ],
   "source": [
    "class Solution551:\n",
    "    def check_record(self, s: str) -> bool:\n",
    "        late_count = 0\n",
    "        absent_count = 0\n",
    "        for c in s:\n",
    "            if c == 'A':\n",
    "                absent_count += 1\n",
    "                if absent_count == 2:\n",
    "                    return False\n",
    "            if c == 'L':\n",
    "                late_count += 1\n",
    "                if late_count > 2:\n",
    "                    return False\n",
    "            else:\n",
    "                late_count = 0\n",
    "        return True\n",
    "\n",
    "Solution551().check_record(s='PPALLP')"
   ]
  },
  {
   "cell_type": "code",
   "execution_count": 125,
   "metadata": {},
   "outputs": [
    {
     "data": {
      "text/plain": [
       "True"
      ]
     },
     "execution_count": 125,
     "metadata": {},
     "output_type": "execute_result"
    }
   ],
   "source": [
    "class Solution551_1:\n",
    "    def check_record(self, s: str) -> bool:\n",
    "        return s.count('A') < 2 and s.count('LLL') == 0\n",
    "\n",
    "Solution551_1().check_record(s='PPALLP')"
   ]
  },
  {
   "attachments": {},
   "cell_type": "markdown",
   "metadata": {},
   "source": [
    "## Задача 557. Reverse Words in a String (Easy)"
   ]
  },
  {
   "cell_type": "code",
   "execution_count": 126,
   "metadata": {},
   "outputs": [
    {
     "data": {
      "text/plain": [
       "\"s'teL ekat edoCteeL tsetnoc\""
      ]
     },
     "execution_count": 126,
     "metadata": {},
     "output_type": "execute_result"
    }
   ],
   "source": [
    "class Solution557:\n",
    "    def reverse_words(self, s: str) -> str:\n",
    "        words = s.split(' ')\n",
    "        for i, _ in enumerate(words):\n",
    "            j, k = 0, len(words[i]) - 1\n",
    "            word_lst = list(words[i])\n",
    "            while j <= k:\n",
    "                word_lst[j], word_lst[k] = word_lst[k], word_lst[j]\n",
    "                j += 1\n",
    "                k -= 1\n",
    "            words[i] = ''.join(word_lst)\n",
    "        return ' '.join(words)\n",
    "\n",
    "Solution557().reverse_words(s=\"Let's take LeetCode contest\")"
   ]
  },
  {
   "cell_type": "code",
   "execution_count": 127,
   "metadata": {},
   "outputs": [
    {
     "data": {
      "text/plain": [
       "\"s'teL ekat edoCteeL tsetnoc\""
      ]
     },
     "execution_count": 127,
     "metadata": {},
     "output_type": "execute_result"
    }
   ],
   "source": [
    "class Solution557_1:\n",
    "    def reverse_words(self, s: str) -> str:\n",
    "        words = s.split(' ')\n",
    "        for i, _ in enumerate(words):\n",
    "            words[i] = words[i][::-1]\n",
    "        return ' '.join(words)\n",
    "\n",
    "Solution557_1().reverse_words(s=\"Let's take LeetCode contest\")"
   ]
  },
  {
   "attachments": {},
   "cell_type": "markdown",
   "metadata": {},
   "source": [
    "## Задача 605. Can Place Flowers (Easy)"
   ]
  },
  {
   "cell_type": "code",
   "execution_count": 128,
   "metadata": {},
   "outputs": [
    {
     "data": {
      "text/plain": [
       "True"
      ]
     },
     "execution_count": 128,
     "metadata": {},
     "output_type": "execute_result"
    }
   ],
   "source": [
    "# первая попытка (не проходит тесты)\n",
    "from typing import List\n",
    "\n",
    "class Solution605:\n",
    "    def can_place_flowers(self, flowerbed: List[int], n: int) -> bool:\n",
    "        flowerbed_len = len(flowerbed)\n",
    "        flower_ind = 0\n",
    "        available = 0\n",
    "        while flower_ind != flowerbed_len:\n",
    "            if flowerbed[flower_ind] == 1:\n",
    "                if flower_ind != 0:\n",
    "                    flowerbed[flower_ind - 1] = 1\n",
    "                if flower_ind != flowerbed_len - 1:\n",
    "                    flowerbed[flower_ind + 1] = 1\n",
    "                    flower_ind += 1\n",
    "            flower_ind += 1\n",
    "        for flower in flowerbed:\n",
    "            if flower == 0:\n",
    "                available += 1\n",
    "        return available >= n\n",
    "\n",
    "Solution605().can_place_flowers(flowerbed=[1,0,0,0,1], n=1)"
   ]
  },
  {
   "cell_type": "code",
   "execution_count": 129,
   "metadata": {},
   "outputs": [
    {
     "data": {
      "text/plain": [
       "False"
      ]
     },
     "execution_count": 129,
     "metadata": {},
     "output_type": "execute_result"
    }
   ],
   "source": [
    "from typing import List\n",
    "\n",
    "class Solution605_1:\n",
    "    def can_place_flowers(self, flowerbed: List[int], n: int) -> bool:\n",
    "        flowerbed = [0] + flowerbed + [0]\n",
    "        for i in range(1, len(flowerbed)-1):\n",
    "            if flowerbed[i-1] == 0 and flowerbed[i] == 0 and flowerbed[i+1] == 0:\n",
    "                flowerbed[i] = 1\n",
    "                n -= 1\n",
    "        return n <= 0\n",
    "\n",
    "Solution605_1().can_place_flowers(flowerbed=[1,0,0,0,0,1], n=2)"
   ]
  },
  {
   "cell_type": "code",
   "execution_count": 130,
   "metadata": {},
   "outputs": [
    {
     "data": {
      "text/plain": [
       "False"
      ]
     },
     "execution_count": 130,
     "metadata": {},
     "output_type": "execute_result"
    }
   ],
   "source": [
    "from typing import List\n",
    "\n",
    "class Solution605_2:\n",
    "    def can_place_flowers(self, flowerbed: List[int], n: int) -> bool:\n",
    "        flowerbed = [0] + flowerbed + [0]\n",
    "        for i, _ in enumerate(flowerbed[1:-1]):\n",
    "            if flowerbed[i] == 0 and flowerbed[i+1] == 0 and flowerbed[i+2] == 0:\n",
    "                flowerbed[i+1] = 1\n",
    "                n -= 1\n",
    "        return n <= 0\n",
    "\n",
    "Solution605_2().can_place_flowers(flowerbed=[1,0,0,0,0,1], n=2)"
   ]
  },
  {
   "cell_type": "code",
   "execution_count": 131,
   "metadata": {},
   "outputs": [
    {
     "data": {
      "text/plain": [
       "False"
      ]
     },
     "execution_count": 131,
     "metadata": {},
     "output_type": "execute_result"
    }
   ],
   "source": [
    "from typing import List\n",
    "\n",
    "class Solution605_3:\n",
    "    def can_place_flowers(self, flowerbed: List[int], n: int) -> bool:\n",
    "        flowerbed = [0] + flowerbed + [0]\n",
    "        for i in range(1, len(flowerbed)-1):\n",
    "            if not sum(flowerbed[i-1:i+2]):\n",
    "                flowerbed[i] = 1\n",
    "                n -= 1\n",
    "        return n <= 0\n",
    "\n",
    "Solution605_3().can_place_flowers(flowerbed=[1,0,0,0,0,1], n=2)"
   ]
  },
  {
   "attachments": {},
   "cell_type": "markdown",
   "metadata": {},
   "source": [
    "## Задача 617. Merge Two Binary Trees (Easy)"
   ]
  },
  {
   "cell_type": "code",
   "execution_count": 132,
   "metadata": {},
   "outputs": [
    {
     "data": {
      "text/plain": [
       "TreeNode{val: 3, left: TreeNode{val: 4, left: TreeNode{val: 5, left: None, right: None}, right: TreeNode{val: 4, left: None, right: None}}, right: TreeNode{val: 5, left: None, right: TreeNode{val: 7, left: None, right: None}}}"
      ]
     },
     "execution_count": 132,
     "metadata": {},
     "output_type": "execute_result"
    }
   ],
   "source": [
    "from typing import Optional\n",
    "\n",
    "class TreeNode:\n",
    "    def __init__(self, val=0, left=None, right=None):\n",
    "        self.val = val\n",
    "        self.left = left\n",
    "        self.right = right\n",
    "    def __repr__(self):\n",
    "        return f'TreeNode{{val: {self.val}, left: {self.left}, right: {self.right}}}'\n",
    "\n",
    "class Solution617:\n",
    "    def merge_trees(self, root1: Optional[TreeNode], root2: Optional[TreeNode]) -> Optional[TreeNode]:\n",
    "        if not root1 and not root2:\n",
    "            return None\n",
    "        if not root1:\n",
    "            return root2\n",
    "        if not root2:\n",
    "            return root1\n",
    "        new_root = TreeNode(root1.val+root2.val)\n",
    "        new_root.left = self.merge_trees(root1.left, root2.left)\n",
    "        new_root.right = self.merge_trees(root1.right, root2.right)\n",
    "        return new_root\n",
    "\n",
    "Solution617().merge_trees(root1=TreeNode(val=1,\n",
    "                                         left=TreeNode(val=3,\n",
    "                                                       left=TreeNode(val=5, left=None, right=None),\n",
    "                                                       right=None),\n",
    "                                         right=TreeNode(val=2, left=None, right=None)),\n",
    "                          root2=TreeNode(val=2,\n",
    "                                         left=TreeNode(val=1,\n",
    "                                                       left=None,\n",
    "                                                       right=TreeNode(val=4, left=None, right=None)),\n",
    "                                         right=TreeNode(val=3,\n",
    "                                                        left=None,\n",
    "                                                        right=TreeNode(val=7, left=None, right=None))))"
   ]
  },
  {
   "attachments": {},
   "cell_type": "markdown",
   "metadata": {},
   "source": [
    "## Задача 637. Average of Levels in Binary Tree (Easy)"
   ]
  },
  {
   "cell_type": "code",
   "execution_count": 133,
   "metadata": {},
   "outputs": [
    {
     "data": {
      "text/plain": [
       "[3.0, 14.5, 11.0]"
      ]
     },
     "execution_count": 133,
     "metadata": {},
     "output_type": "execute_result"
    }
   ],
   "source": [
    "from typing import Optional\n",
    "from collections import deque\n",
    "\n",
    "class TreeNode:\n",
    "    def __init__(self, val=0, left=None, right=None):\n",
    "        self.val = val\n",
    "        self.left = left\n",
    "        self.right = right\n",
    "    def __repr__(self):\n",
    "        return f'TreeNode{{val: {self.val}, left: {self.left}, right: {self.right}}}'\n",
    "\n",
    "class Solution637:\n",
    "    def average_of_levels(self, root: Optional[TreeNode]) -> List[float]:\n",
    "        ans = []\n",
    "        q = deque([root])\n",
    "        while q:\n",
    "            cur_sum = 0\n",
    "            cnt = 0\n",
    "            for _ in range(len(q)):\n",
    "                cur = q.popleft()\n",
    "                cur_sum += cur.val\n",
    "                cnt += 1\n",
    "                if cur.left:\n",
    "                    q.append(cur.left)\n",
    "                if cur.right:\n",
    "                    q.append(cur.right)\n",
    "            ans.append(cur_sum / cnt)\n",
    "        return ans\n",
    "\n",
    "Solution637().average_of_levels(root=TreeNode(val=3,\n",
    "                                              left=TreeNode(val=9, left=None, right=None),\n",
    "                                              right=TreeNode(val=20,\n",
    "                                                             left=TreeNode(val=15, left=None, right=None),\n",
    "                                                             right=TreeNode(val=7, left=None, right=None))))"
   ]
  },
  {
   "attachments": {},
   "cell_type": "markdown",
   "metadata": {},
   "source": [
    "## Задача 643. Maximum Average Subarray (Easy)"
   ]
  },
  {
   "cell_type": "code",
   "execution_count": 134,
   "metadata": {},
   "outputs": [
    {
     "data": {
      "text/plain": [
       "12.75"
      ]
     },
     "execution_count": 134,
     "metadata": {},
     "output_type": "execute_result"
    }
   ],
   "source": [
    "from typing import List\n",
    "\n",
    "class Solution643:\n",
    "    def find_max_average(self, nums: List[int], k: int) -> float:\n",
    "        count = 0\n",
    "        current_sum = 0\n",
    "        ans = float('-inf')\n",
    "        for _, v in enumerate(nums):\n",
    "            current_sum += v\n",
    "            count += 1\n",
    "            if count >= k:\n",
    "                ans = max(ans, current_sum / k)\n",
    "                current_sum -= nums[count-k]\n",
    "        return ans\n",
    "\n",
    "Solution643().find_max_average(nums=[1,12,-5,-6,50,3], k=4)"
   ]
  },
  {
   "attachments": {},
   "cell_type": "markdown",
   "metadata": {},
   "source": [
    "## Задача 653. Two Sum IV - Input is a BST (Easy)"
   ]
  },
  {
   "cell_type": "code",
   "execution_count": 135,
   "metadata": {},
   "outputs": [
    {
     "data": {
      "text/plain": [
       "True"
      ]
     },
     "execution_count": 135,
     "metadata": {},
     "output_type": "execute_result"
    }
   ],
   "source": [
    "from typing import Optional\n",
    "\n",
    "class TreeNode:\n",
    "    def __init__(self, val=0, left=None, right=None):\n",
    "        self.val = val\n",
    "        self.left = left\n",
    "        self.right = right\n",
    "    def __repr__(self):\n",
    "        return f'TreeNode{{val: {self.val}, left: {self.left}, right: {self.right}}}'\n",
    "\n",
    "class Solution653:\n",
    "    def find_target(self, root: Optional[TreeNode], k: int) -> bool:\n",
    "        seen = set()\n",
    "        stack = [root]\n",
    "        while stack:\n",
    "            cur = stack.pop()\n",
    "            if k - cur.val in seen:\n",
    "                return True\n",
    "            seen.add(cur.val)\n",
    "            if cur.left:\n",
    "                stack.append(cur.left)\n",
    "            if cur.right:\n",
    "                stack.append(cur.right)\n",
    "        return False\n",
    "\n",
    "Solution653().find_target(root=TreeNode(val=5,\n",
    "                                        left=TreeNode(val=3,\n",
    "                                                      left=TreeNode(val=2, left=None, right=None),\n",
    "                                                      right=TreeNode(val=4, left=None, right=None)),\n",
    "                                        right=TreeNode(val=6,\n",
    "                                                       left=None,\n",
    "                                                       right=TreeNode(val=7, left=None, right=None))),\n",
    "                          k=9)"
   ]
  },
  {
   "attachments": {},
   "cell_type": "markdown",
   "metadata": {},
   "source": [
    "## Задача 674. Longest Continuous Increasing Subsequence (Easy)"
   ]
  },
  {
   "cell_type": "code",
   "execution_count": 136,
   "metadata": {},
   "outputs": [
    {
     "data": {
      "text/plain": [
       "3"
      ]
     },
     "execution_count": 136,
     "metadata": {},
     "output_type": "execute_result"
    }
   ],
   "source": [
    "from typing import List\n",
    "\n",
    "class Solution674:\n",
    "    def find_length_of_lcis(self, nums: List[int]) -> int:\n",
    "        dp = [1] * len(nums)\n",
    "        for i, _ in enumerate(nums[1:],start=1):\n",
    "            if nums[i] > nums[i - 1]:\n",
    "                dp[i] = dp[i - 1] + 1\n",
    "        \n",
    "        return max(dp)\n",
    "\n",
    "Solution674().find_length_of_lcis(nums=[1,2,3,3,4,5])"
   ]
  },
  {
   "attachments": {},
   "cell_type": "markdown",
   "metadata": {},
   "source": [
    "## Задача 700. Search in a Binary Search Tree (Easy)"
   ]
  },
  {
   "cell_type": "code",
   "execution_count": 137,
   "metadata": {},
   "outputs": [
    {
     "data": {
      "text/plain": [
       "TreeNode{val: 2, left: TreeNode{val: 1, left: None, right: None}, right: TreeNode{val: 3, left: None, right: None}}"
      ]
     },
     "execution_count": 137,
     "metadata": {},
     "output_type": "execute_result"
    }
   ],
   "source": [
    "from typing import Optional\n",
    "\n",
    "class TreeNode:\n",
    "    def __init__(self, val=0, left=None, right=None):\n",
    "        self.val = val\n",
    "        self.left = left\n",
    "        self.right = right\n",
    "    def __repr__(self):\n",
    "        return f'TreeNode{{val: {self.val}, left: {self.left}, right: {self.right}}}'\n",
    "\n",
    "class Solution700:\n",
    "    def search_bst(self, root: Optional[TreeNode], val: int) -> Optional[TreeNode]:\n",
    "        if not root:\n",
    "            return None\n",
    "        if root.val == val:\n",
    "            return root\n",
    "        if val < root.val:\n",
    "            return self.search_bst(root.left, val)\n",
    "        else:\n",
    "            return self.search_bst(root.right, val)\n",
    "\n",
    "Solution700().search_bst(root=TreeNode(val=4,\n",
    "                                       left=TreeNode(val=2,\n",
    "                                                     left=TreeNode(val=1, left=None, right=None),\n",
    "                                                     right=TreeNode(val=3, left=None, right=None)),\n",
    "                                       right=TreeNode(val=7, left=None, right=None)),\n",
    "                         val=2)"
   ]
  },
  {
   "attachments": {},
   "cell_type": "markdown",
   "metadata": {},
   "source": [
    "## Задача 704. Binary Search (Easy)"
   ]
  },
  {
   "cell_type": "code",
   "execution_count": 138,
   "metadata": {},
   "outputs": [
    {
     "data": {
      "text/plain": [
       "6"
      ]
     },
     "execution_count": 138,
     "metadata": {},
     "output_type": "execute_result"
    }
   ],
   "source": [
    "from typing import List\n",
    "\n",
    "class Solution704:\n",
    "    def search(self, nums: List[int], target: int) -> int:\n",
    "        left, right = 0, len(nums) - 1\n",
    "        while left <= right:\n",
    "            mid = (left + right) // 2\n",
    "            if nums[mid] == target:\n",
    "                return mid\n",
    "            if nums[mid] > target:\n",
    "                right = mid - 1\n",
    "            else:\n",
    "                left = mid + 1\n",
    "        return -1\n",
    "\n",
    "Solution704().search(nums=[1,4,5,6,7,12,42,100], target=42)"
   ]
  },
  {
   "attachments": {},
   "cell_type": "markdown",
   "metadata": {},
   "source": [
    "## Задача 771. Jewels and Stones (Easy)"
   ]
  },
  {
   "cell_type": "code",
   "execution_count": 139,
   "metadata": {},
   "outputs": [
    {
     "data": {
      "text/plain": [
       "3"
      ]
     },
     "execution_count": 139,
     "metadata": {},
     "output_type": "execute_result"
    }
   ],
   "source": [
    "class Solution771:\n",
    "    def num_jewels_in_stones(self, jewels: str, stones: str) -> int:\n",
    "        jewels = set(jewels)\n",
    "        ans = 0\n",
    "        for s in stones:\n",
    "            if s in jewels:\n",
    "                ans += 1\n",
    "        return ans\n",
    "\n",
    "Solution771().num_jewels_in_stones(jewels='aA', stones='aAAbbbbbb')"
   ]
  },
  {
   "attachments": {},
   "cell_type": "markdown",
   "metadata": {},
   "source": [
    "## Задача 832. Flipping an Image (Easy)"
   ]
  },
  {
   "cell_type": "code",
   "execution_count": 140,
   "metadata": {},
   "outputs": [
    {
     "data": {
      "text/plain": [
       "[[1, 0, 0], [0, 1, 0], [1, 1, 1]]"
      ]
     },
     "execution_count": 140,
     "metadata": {},
     "output_type": "execute_result"
    }
   ],
   "source": [
    "from typing import List\n",
    "\n",
    "class Solution832:\n",
    "    def flip_and_invert_image(self, image: List[List[int]]) -> List[List[int]]:\n",
    "        for row in image:\n",
    "            left, right = 0, len(row) - 1\n",
    "            while left <= right:\n",
    "                row[left], row[right] = row[right], row[left]\n",
    "                row[left] = 0 if row[left] else 1\n",
    "                if left != right:\n",
    "                    row[right] = 0 if row[right] else 1\n",
    "                left += 1\n",
    "                right -= 1\n",
    "        return image\n",
    "\n",
    "Solution832().flip_and_invert_image(image=[[1, 1, 0], [1, 0, 1], [0, 0, 0]])"
   ]
  },
  {
   "attachments": {},
   "cell_type": "markdown",
   "metadata": {},
   "source": [
    "## Задача 844. Backspace String Compare (Easy)"
   ]
  },
  {
   "cell_type": "code",
   "execution_count": 141,
   "metadata": {},
   "outputs": [
    {
     "data": {
      "text/plain": [
       "True"
      ]
     },
     "execution_count": 141,
     "metadata": {},
     "output_type": "execute_result"
    }
   ],
   "source": [
    "class Solution844:\n",
    "    def backspace_compare(self, s: str, t: str) -> bool:\n",
    "        def typing(s_commands):\n",
    "            stack = []\n",
    "            for ch in s_commands:\n",
    "                if ch == '#':\n",
    "                    if stack:\n",
    "                        stack.pop()\n",
    "                else:\n",
    "                    stack.append(ch)\n",
    "            return ''.join(stack)\n",
    "        return typing(s) == typing(t)\n",
    "\n",
    "Solution844().backspace_compare(s='ab#c', t='ad#c')"
   ]
  },
  {
   "attachments": {},
   "cell_type": "markdown",
   "metadata": {},
   "source": [
    "## Задача 852. Peak Index in a Mountain Array (Easy)"
   ]
  },
  {
   "cell_type": "code",
   "execution_count": 142,
   "metadata": {},
   "outputs": [
    {
     "data": {
      "text/plain": [
       "1"
      ]
     },
     "execution_count": 142,
     "metadata": {},
     "output_type": "execute_result"
    }
   ],
   "source": [
    "from typing import List\n",
    "\n",
    "class Solution852:\n",
    "    def peak_index_in_mountain_array(self, arr: List[int]) -> int:\n",
    "        left, right = 0, len(arr) - 1\n",
    "        while left <= right:\n",
    "            mid = (left + right) // 2\n",
    "            if arr[mid - 1] < arr[mid] > arr[mid + 1]:\n",
    "                return mid\n",
    "            if arr[mid] < arr[mid + 1]:\n",
    "                left = mid + 1\n",
    "            else:\n",
    "                right = mid - 1\n",
    "\n",
    "Solution852().peak_index_in_mountain_array(arr=[2,10,7,4,1])"
   ]
  },
  {
   "attachments": {},
   "cell_type": "markdown",
   "metadata": {},
   "source": [
    "## Задача 876. Middle of the Linked List (Easy)"
   ]
  },
  {
   "cell_type": "code",
   "execution_count": 143,
   "metadata": {},
   "outputs": [
    {
     "data": {
      "text/plain": [
       "ListNode{val: 4, next: ListNode{val: 5, next: None}}"
      ]
     },
     "execution_count": 143,
     "metadata": {},
     "output_type": "execute_result"
    }
   ],
   "source": [
    "from typing import Optional\n",
    "\n",
    "class ListNode:\n",
    "    def __init__(self, val=0, next=None):\n",
    "        self.val = val\n",
    "        self.next = next\n",
    "    def __repr__(self):\n",
    "        return f'ListNode{{val: {self.val}, next: {self.next}}}'\n",
    "\n",
    "class Solution876:\n",
    "    def middle_node(self, head: Optional[ListNode]) -> Optional[ListNode]:\n",
    "        slow = head\n",
    "        fast = head\n",
    "        while fast and fast.next:\n",
    "            slow = slow.next\n",
    "            fast = fast.next.next\n",
    "        return slow\n",
    "\n",
    "Solution876().middle_node(head=ListNode(val=3, next=ListNode(val=4, next=ListNode(val=5, next=None))))"
   ]
  },
  {
   "attachments": {},
   "cell_type": "markdown",
   "metadata": {},
   "source": [
    "## Задача 896. Monotonic Array (Easy)"
   ]
  },
  {
   "cell_type": "code",
   "execution_count": 144,
   "metadata": {},
   "outputs": [
    {
     "data": {
      "text/plain": [
       "True"
      ]
     },
     "execution_count": 144,
     "metadata": {},
     "output_type": "execute_result"
    }
   ],
   "source": [
    "from typing import List\n",
    "\n",
    "class Solution896:\n",
    "    def is_monotonic(self, nums: List[int]) -> bool:\n",
    "        increase, decrease = True, True\n",
    "        for i, _ in enumerate(nums[1:], start=1):\n",
    "            if nums[i] > nums[i - 1]:\n",
    "                decrease = False\n",
    "            if nums[i] < nums[i - 1]:\n",
    "                increase = False\n",
    "        return increase or decrease\n",
    "\n",
    "Solution896().is_monotonic(nums=[1, 2, 2, 3])"
   ]
  },
  {
   "attachments": {},
   "cell_type": "markdown",
   "metadata": {},
   "source": [
    "## Задача 905. Sort Array By Parity (Easy)"
   ]
  },
  {
   "cell_type": "code",
   "execution_count": 145,
   "metadata": {},
   "outputs": [
    {
     "data": {
      "text/plain": [
       "[32, 2, 8, 90, 1, 7, 3, 87, 85, 67, 31, 1]"
      ]
     },
     "execution_count": 145,
     "metadata": {},
     "output_type": "execute_result"
    }
   ],
   "source": [
    "from typing import List\n",
    "\n",
    "class Solution905:\n",
    "    def sort_array_by_parity(self, nums: List[int]) -> List[int]:\n",
    "        i, j = 0, len(nums) - 1\n",
    "        while i < j:\n",
    "            if nums[i] % 2 != 0 and nums[j] % 2 == 0:\n",
    "                nums[i], nums[j] = nums[j], nums[i]\n",
    "                i += 1\n",
    "                j -= 1\n",
    "            if nums[i] % 2 == 0:\n",
    "                i += 1\n",
    "            if not nums[j] % 2 == 0:\n",
    "                j -= 1\n",
    "        return nums\n",
    "\n",
    "Solution905().sort_array_by_parity(nums=[1,2,8,3,1,7,90,87,85,67,31,32])"
   ]
  },
  {
   "cell_type": "code",
   "execution_count": 146,
   "metadata": {},
   "outputs": [
    {
     "data": {
      "text/plain": [
       "[2, 8, 90, 32, 1, 7, 1, 87, 85, 67, 31, 3]"
      ]
     },
     "execution_count": 146,
     "metadata": {},
     "output_type": "execute_result"
    }
   ],
   "source": [
    "from typing import List\n",
    "\n",
    "class Solution905_1:\n",
    "    def sort_array_by_parity(self, nums: List[int]) -> List[int]:\n",
    "        j = 0\n",
    "        for i, _ in enumerate(nums):\n",
    "            if nums[i] % 2 == 0:\n",
    "                nums[j], nums[i] = nums[i], nums[j]\n",
    "                j += 1\n",
    "        return nums\n",
    "\n",
    "Solution905_1().sort_array_by_parity(nums=[1,2,8,3,1,7,90,87,85,67,31,32])"
   ]
  },
  {
   "attachments": {},
   "cell_type": "markdown",
   "metadata": {},
   "source": [
    "## Задача 912. Sort an Array (Medium)"
   ]
  },
  {
   "cell_type": "code",
   "execution_count": 147,
   "metadata": {},
   "outputs": [
    {
     "data": {
      "text/plain": [
       "[1, 2, 3, 5]"
      ]
     },
     "execution_count": 147,
     "metadata": {},
     "output_type": "execute_result"
    }
   ],
   "source": [
    "from typing import List\n",
    "\n",
    "def merge(nums: List[int], p: int, q: int, r: int):\n",
    "    left = nums[p:q+1]\n",
    "    right = nums[q+1:r+1]\n",
    "    i = 0\n",
    "    j = 0\n",
    "    k = p\n",
    "    while i < len(left) and j < len(right):\n",
    "        if left[i] < right[j]:\n",
    "            nums[k] = left[i]\n",
    "            i += 1\n",
    "        else:\n",
    "            nums[k] = right[j]\n",
    "            j += 1\n",
    "        k += 1\n",
    "        \n",
    "    while i < len(left):\n",
    "        nums[k] = left[i]\n",
    "        i += 1\n",
    "        k += 1\n",
    "        \n",
    "    while j < len(right):\n",
    "        nums[k] = right[j]\n",
    "        j += 1\n",
    "        k += 1\n",
    "        \n",
    "def merge_sort(nums: List[int], p: int, r:int):\n",
    "    if p < r:\n",
    "        mid = (p + r) // 2\n",
    "        merge_sort(nums, p, mid)\n",
    "        merge_sort(nums, mid+1, r)\n",
    "        merge(nums, p, mid, r)\n",
    "    return nums\n",
    "\n",
    "class Solution912:\n",
    "\n",
    "    def sort_array(self, nums: List[int]) -> List[int]:\n",
    "        return merge_sort(nums, 0, len(nums)-1)\n",
    "\n",
    "Solution912().sort_array(nums=[5, 2, 3, 1])"
   ]
  },
  {
   "attachments": {},
   "cell_type": "markdown",
   "metadata": {},
   "source": [
    "## Задача 929. Unique Email Addresses (Easy)"
   ]
  },
  {
   "cell_type": "code",
   "execution_count": 148,
   "metadata": {},
   "outputs": [
    {
     "data": {
      "text/plain": [
       "2"
      ]
     },
     "execution_count": 148,
     "metadata": {},
     "output_type": "execute_result"
    }
   ],
   "source": [
    "from typing import List\n",
    "\n",
    "class Solution929:\n",
    "    def num_unique_emails(self, emails: List[str]) -> int:\n",
    "        unique_emails = set()\n",
    "        for e in emails:\n",
    "            name, dom = e.split('@')\n",
    "            name = name.split('+')[0].replace('.', '')\n",
    "            unique_emails.add(f'{name}@{dom}')\n",
    "        return len(unique_emails)\n",
    "\n",
    "Solution929().num_unique_emails(emails=[\"test.email+alex@leetcode.com\",\n",
    "                                      \"test.e.mail+bob.cathy@leetcode.com\",\n",
    "                                      \"testemail+david@lee.tcode.com\"])"
   ]
  },
  {
   "attachments": {},
   "cell_type": "markdown",
   "metadata": {},
   "source": [
    "## Задача 938. Range Sum of BST (Easy)"
   ]
  },
  {
   "cell_type": "code",
   "execution_count": 149,
   "metadata": {},
   "outputs": [
    {
     "data": {
      "text/plain": [
       "32"
      ]
     },
     "execution_count": 149,
     "metadata": {},
     "output_type": "execute_result"
    }
   ],
   "source": [
    "from typing import Optional\n",
    "\n",
    "class TreeNode:\n",
    "    def __init__(self, val=0, left=None, right=None):\n",
    "        self.val = val\n",
    "        self.left = left\n",
    "        self.right = right\n",
    "    def __repr__(self):\n",
    "        return f'TreeNode{{val: {self.val}, left: {self.left}, right: {self.right}}}'\n",
    "\n",
    "class Solution938:\n",
    "    def range_sum_bst(self, root: Optional[TreeNode], low: int, high: int) -> int:\n",
    "        if not root:\n",
    "            return 0\n",
    "        left, right = 0, 0\n",
    "        if root.val < high:\n",
    "            right = self.range_sum_bst(root.right, low, high)\n",
    "        if root.val > low:\n",
    "            left = self.range_sum_bst(root.left, low, high)\n",
    "        cur = root.val if low <= root.val <= high else 0\n",
    "        return left + right + cur\n",
    "\n",
    "Solution938().range_sum_bst(root=TreeNode(val=10,\n",
    "                                          left=TreeNode(val=5,\n",
    "                                                        left=TreeNode(val=3, left=None, right=None),\n",
    "                                                        right=TreeNode(val=7, left=None, right=None)),\n",
    "                                          right=TreeNode(val=15,\n",
    "                                                         left=None,\n",
    "                                                         right=TreeNode(val=18, left=None, right=None))),\n",
    "                            low=7, high=15)"
   ]
  },
  {
   "attachments": {},
   "cell_type": "markdown",
   "metadata": {},
   "source": [
    "## Задача 941. Valid Mountain Array (Easy)"
   ]
  },
  {
   "cell_type": "code",
   "execution_count": 150,
   "metadata": {},
   "outputs": [
    {
     "data": {
      "text/plain": [
       "False"
      ]
     },
     "execution_count": 150,
     "metadata": {},
     "output_type": "execute_result"
    }
   ],
   "source": [
    "from typing import List\n",
    "\n",
    "class Solution941:\n",
    "    def valid_mountain_array(self, arr: List[int]) -> bool:\n",
    "\n",
    "        if len(arr) < 3:\n",
    "            return False\n",
    "        \n",
    "        i = 0\n",
    "        while arr[i] < arr[i + 1]:\n",
    "            i += 1\n",
    "            if i >= len(arr) - 1:\n",
    "                break\n",
    "        \n",
    "        j = len(arr) - 1\n",
    "        while arr[j - 1] > arr[j]:\n",
    "            j -= 1\n",
    "            if j <= 0:\n",
    "                break\n",
    "        \n",
    "        return i == j and 0 < i < len(arr) - 1\n",
    "\n",
    "Solution941().valid_mountain_array(arr=[0,1,2,3])"
   ]
  },
  {
   "attachments": {},
   "cell_type": "markdown",
   "metadata": {},
   "source": [
    "## Задача 953. Verifying an Alien Dictionary (Easy)"
   ]
  },
  {
   "cell_type": "code",
   "execution_count": 151,
   "metadata": {},
   "outputs": [
    {
     "data": {
      "text/plain": [
       "True"
      ]
     },
     "execution_count": 151,
     "metadata": {},
     "output_type": "execute_result"
    }
   ],
   "source": [
    "from typing import List\n",
    "\n",
    "class Solution953:\n",
    "    def is_alien_sorted(self, words: List[str], order: str) -> bool:\n",
    "        if len(words) < 2:\n",
    "            return True\n",
    "        d = {c:i for i,c in enumerate(order)}\n",
    "        for i in range(1, len(words)):\n",
    "            word_1 = words[i-1]\n",
    "            word_2 = words[i]\n",
    "            len_1, len_2 = len(word_1), len(word_2)\n",
    "            j = 0\n",
    "            while j < len_1 and j < len_2:\n",
    "                ord_1, ord_2 = d[word_1[j]], d[word_2[j]]\n",
    "                if ord_1 < ord_2:\n",
    "                    break\n",
    "                if ord_1 > ord_2:\n",
    "                    return False\n",
    "                j += 1\n",
    "            if len_1 > len_2 and (j == len_1 or j == len_2):\n",
    "                return False\n",
    "        return True\n",
    "\n",
    "Solution953().is_alien_sorted(words=[\"kuvp\",\"q\"], order=\"ngxlkthsjuoqcpavbfdermiywz\")"
   ]
  },
  {
   "attachments": {},
   "cell_type": "markdown",
   "metadata": {},
   "source": [
    "## Задача 977. Squares of a Sorted Array (Easy)"
   ]
  },
  {
   "cell_type": "code",
   "execution_count": 152,
   "metadata": {},
   "outputs": [
    {
     "data": {
      "text/plain": [
       "[0, 1, 9, 16, 100]"
      ]
     },
     "execution_count": 152,
     "metadata": {},
     "output_type": "execute_result"
    }
   ],
   "source": [
    "from typing import List\n",
    "\n",
    "class Solution977:\n",
    "    def sorted_squares(self, nums: List[int]) -> List[int]:\n",
    "        left, right = 0, len(nums) - 1\n",
    "        ans = []\n",
    "        while left <= right:\n",
    "            if abs(nums[right]) > abs(nums[left]):\n",
    "                ans.append(nums[right] * nums[right])\n",
    "                right -= 1\n",
    "            else:\n",
    "                ans.append(nums[left] * nums[left])\n",
    "                left += 1\n",
    "        return ans[::-1]\n",
    "\n",
    "Solution977().sorted_squares(nums=[-4, -1, 0, 3, 10])"
   ]
  },
  {
   "attachments": {},
   "cell_type": "markdown",
   "metadata": {},
   "source": [
    "## Задача 1047. Remove All Adjacent Duplicates In String (Easy)"
   ]
  },
  {
   "cell_type": "code",
   "execution_count": 153,
   "metadata": {},
   "outputs": [
    {
     "data": {
      "text/plain": [
       "'ca'"
      ]
     },
     "execution_count": 153,
     "metadata": {},
     "output_type": "execute_result"
    }
   ],
   "source": [
    "class Solution1047:\n",
    "    def remove_duplicates(self, s: str) -> str:\n",
    "        stack = []\n",
    "        for ch in s:\n",
    "            if stack and stack[-1] == ch:\n",
    "                stack.pop()\n",
    "            else:\n",
    "                stack.append(ch)\n",
    "        return ''.join(stack)\n",
    "\n",
    "Solution1047().remove_duplicates(s='abbaca')"
   ]
  },
  {
   "attachments": {},
   "cell_type": "markdown",
   "metadata": {},
   "source": [
    "## Задача 1137. N-th Tribonacci Number (Easy)"
   ]
  },
  {
   "cell_type": "code",
   "execution_count": 154,
   "metadata": {},
   "outputs": [
    {
     "data": {
      "text/plain": [
       "1389537"
      ]
     },
     "execution_count": 154,
     "metadata": {},
     "output_type": "execute_result"
    }
   ],
   "source": [
    "class Solution1137:\n",
    "    def tribonacci(self, n: int) -> int:\n",
    "        dp = [0, 1, 1]\n",
    "        if n < 3:\n",
    "            return dp[n]\n",
    "        for i in range(3, n+1):\n",
    "            dp.append(dp[i-3] + dp[i-2] + dp[i-1])\n",
    "        return dp[-1]\n",
    "\n",
    "Solution1137().tribonacci(n=25)"
   ]
  },
  {
   "attachments": {},
   "cell_type": "markdown",
   "metadata": {},
   "source": [
    "## Задача 1290. Convert Binary Number in a Linked List to Integer (Easy)"
   ]
  },
  {
   "cell_type": "code",
   "execution_count": 155,
   "metadata": {},
   "outputs": [
    {
     "data": {
      "text/plain": [
       "5"
      ]
     },
     "execution_count": 155,
     "metadata": {},
     "output_type": "execute_result"
    }
   ],
   "source": [
    "from typing import Optional\n",
    "\n",
    "class ListNode:\n",
    "    def __init__(self, val=0, next=None):\n",
    "        self.val = val\n",
    "        self.next = next\n",
    "    def __repr__(self):\n",
    "        return f'ListNode{{val: {self.val}, next: {self.next}}}'\n",
    "\n",
    "class Solution1290:\n",
    "    def get_decimal_value(self, head: ListNode) -> int:\n",
    "        ans = 0\n",
    "        while head:\n",
    "            ans = ans * 2 + head.val\n",
    "            head = head.next\n",
    "        return ans\n",
    "\n",
    "Solution1290().get_decimal_value(head=ListNode(val=1, next=ListNode(val=0, next=ListNode(val=1, next=None))))"
   ]
  },
  {
   "attachments": {},
   "cell_type": "markdown",
   "metadata": {},
   "source": [
    "## Задача 1295. Find Numbers with Even Number of Digits (Easy)"
   ]
  },
  {
   "cell_type": "code",
   "execution_count": 156,
   "metadata": {},
   "outputs": [
    {
     "data": {
      "text/plain": [
       "2"
      ]
     },
     "execution_count": 156,
     "metadata": {},
     "output_type": "execute_result"
    }
   ],
   "source": [
    "from typing import List\n",
    "\n",
    "class Solution1295:\n",
    "    def find_numbers(self, nums: List[int]) -> int:\n",
    "        def digits_counter(num):\n",
    "            count = 0\n",
    "            while num:\n",
    "                num //= 10\n",
    "                count += 1\n",
    "            return count\n",
    "        required_nums_count = 0\n",
    "        for num in nums:\n",
    "            required_nums_count += 0 if digits_counter(num) % 2 else 1\n",
    "        return required_nums_count\n",
    "\n",
    "Solution1295().find_numbers(nums=[12, 345, 2, 6, 7896])"
   ]
  },
  {
   "attachments": {},
   "cell_type": "markdown",
   "metadata": {},
   "source": [
    "## Задача 1346. Check If N and Its Double Exist (Easy)"
   ]
  },
  {
   "cell_type": "code",
   "execution_count": 157,
   "metadata": {},
   "outputs": [
    {
     "data": {
      "text/plain": [
       "True"
      ]
     },
     "execution_count": 157,
     "metadata": {},
     "output_type": "execute_result"
    }
   ],
   "source": [
    "class Solution1346:\n",
    "    def check_if_exist(self, arr: List[int]) -> bool:\n",
    "        seen = set()\n",
    "        for num in arr:\n",
    "            if num * 2 in seen or num / 2 in seen:\n",
    "                return True\n",
    "            seen.add(num)\n",
    "        return False\n",
    "\n",
    "Solution1346().check_if_exist(arr=[6,1,12,4])"
   ]
  },
  {
   "attachments": {},
   "cell_type": "markdown",
   "metadata": {},
   "source": [
    "## Задача 1431. Kids With the Greatest Number of Candies (Easy)"
   ]
  },
  {
   "cell_type": "code",
   "execution_count": 158,
   "metadata": {},
   "outputs": [
    {
     "data": {
      "text/plain": [
       "[True, True, True, False, True]"
      ]
     },
     "execution_count": 158,
     "metadata": {},
     "output_type": "execute_result"
    }
   ],
   "source": [
    "from typing import List\n",
    "\n",
    "class Solution1431:\n",
    "    def kids_with_candies(self, candies: List[int], extra_candies: int) -> List[bool]:\n",
    "        candies_max = max(candies)\n",
    "        result = []\n",
    "        for candy in candies:\n",
    "            if candy + extra_candies >= candies_max:\n",
    "                result.append(True)\n",
    "            else:\n",
    "                result.append(False)\n",
    "        return result\n",
    "\n",
    "Solution1431().kids_with_candies(candies=[2, 3, 5, 1, 3], extra_candies=3)"
   ]
  },
  {
   "attachments": {},
   "cell_type": "markdown",
   "metadata": {},
   "source": [
    "## Задача 1480. Running Sum of 1d Array (Easy)"
   ]
  },
  {
   "cell_type": "code",
   "execution_count": 159,
   "metadata": {},
   "outputs": [
    {
     "data": {
      "text/plain": [
       "[1, 3, 6, 10, 15]"
      ]
     },
     "execution_count": 159,
     "metadata": {},
     "output_type": "execute_result"
    }
   ],
   "source": [
    "from typing import List\n",
    "\n",
    "class Solution1480:\n",
    "    def running_sum(self, nums: List[int]) -> List[int]:\n",
    "        for i, _ in enumerate(nums[1:], start=1):\n",
    "            nums[i] += nums[i-1]\n",
    "        return nums\n",
    "\n",
    "Solution1480().running_sum(nums=[1, 2, 3, 4, 5])"
   ]
  },
  {
   "attachments": {},
   "cell_type": "markdown",
   "metadata": {},
   "source": [
    "## Задача 1518. Water Bottles (Easy)"
   ]
  },
  {
   "cell_type": "code",
   "execution_count": 160,
   "metadata": {},
   "outputs": [
    {
     "data": {
      "text/plain": [
       "11"
      ]
     },
     "execution_count": 160,
     "metadata": {},
     "output_type": "execute_result"
    }
   ],
   "source": [
    "class Solution1518:\n",
    "    def num_water_bottles(self, numBottles: int, numExchange: int) -> int:\n",
    "        drunk_bottles = 0\n",
    "        full_bottles = numBottles\n",
    "        empty_bottles = 0\n",
    "        while full_bottles >= 1:\n",
    "            drunk_bottles += full_bottles\n",
    "            full_bottles_new = (full_bottles + empty_bottles) // numExchange\n",
    "            empty_bottles = (full_bottles + empty_bottles) % numExchange\n",
    "            full_bottles = full_bottles_new\n",
    "        \n",
    "        return drunk_bottles\n",
    "\n",
    "Solution1518().num_water_bottles(numBottles=10, numExchange=6)"
   ]
  },
  {
   "attachments": {},
   "cell_type": "markdown",
   "metadata": {},
   "source": [
    "## Задача 1539. Kth Missing Positive Number (Easy)"
   ]
  },
  {
   "cell_type": "code",
   "execution_count": 161,
   "metadata": {},
   "outputs": [
    {
     "data": {
      "text/plain": [
       "10"
      ]
     },
     "execution_count": 161,
     "metadata": {},
     "output_type": "execute_result"
    }
   ],
   "source": [
    "from typing import List\n",
    "\n",
    "class Solution1539:\n",
    "    def find_kth_positive(self, arr: List[int], k: int) -> int:\n",
    "        current_missed_count = 0\n",
    "        n = 1\n",
    "        i = 0\n",
    "        while True:\n",
    "            if i < len(arr) and arr[i] != n:\n",
    "                current_missed_count += 1\n",
    "            elif i >= len(arr):\n",
    "                current_missed_count += 1\n",
    "            else:\n",
    "                i += 1\n",
    "            if current_missed_count == k:\n",
    "                return n\n",
    "            n += 1\n",
    "\n",
    "Solution1539().find_kth_positive(arr=[2,3,4,7,11], k=6)"
   ]
  },
  {
   "cell_type": "code",
   "execution_count": null,
   "metadata": {},
   "outputs": [],
   "source": []
  }
 ],
 "metadata": {
  "kernelspec": {
   "display_name": "notebooks-source-env",
   "language": "python",
   "name": "python3"
  },
  "language_info": {
   "codemirror_mode": {
    "name": "ipython",
    "version": 3
   },
   "file_extension": ".py",
   "mimetype": "text/x-python",
   "name": "python",
   "nbconvert_exporter": "python",
   "pygments_lexer": "ipython3",
   "version": "3.10.9"
  },
  "orig_nbformat": 4,
  "vscode": {
   "interpreter": {
    "hash": "a14721e391bd93d2ef762652f16c6071f845f371ae1109f269ccebb74cbd8121"
   }
  }
 },
 "nbformat": 4,
 "nbformat_minor": 2
}
