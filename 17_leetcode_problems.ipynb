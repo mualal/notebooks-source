{
 "cells": [
  {
   "attachments": {},
   "cell_type": "markdown",
   "metadata": {},
   "source": [
    "## Задача 1. Two Sum"
   ]
  },
  {
   "cell_type": "code",
   "execution_count": 1,
   "metadata": {},
   "outputs": [
    {
     "data": {
      "text/plain": [
       "[0, 1]"
      ]
     },
     "execution_count": 1,
     "metadata": {},
     "output_type": "execute_result"
    }
   ],
   "source": [
    "from typing import List\n",
    "\n",
    "class Solution1:\n",
    "    def twoSum(self, nums: List[int], target: int) -> List[int]:\n",
    "        for i, num1 in enumerate(nums):\n",
    "            for j, num2 in enumerate(nums[i+1:]):\n",
    "                if num1 + num2 == target:\n",
    "                    return [i, j+i+1]\n",
    "\n",
    "Solution1().twoSum(nums=[3,3], target=6)"
   ]
  },
  {
   "attachments": {},
   "cell_type": "markdown",
   "metadata": {},
   "source": [
    "## Задача 2. Add Two Numbers"
   ]
  },
  {
   "cell_type": "code",
   "execution_count": 2,
   "metadata": {},
   "outputs": [
    {
     "data": {
      "text/plain": [
       "ListNode{val: 7, next: ListNode{val: 0, next: ListNode{val: 8, next: None}}}"
      ]
     },
     "execution_count": 2,
     "metadata": {},
     "output_type": "execute_result"
    }
   ],
   "source": [
    "from typing import Optional\n",
    "\n",
    "class ListNode:\n",
    "    def __init__(self, val=0, next=None):\n",
    "        self.val = val\n",
    "        self.next = next\n",
    "    def __repr__(self):\n",
    "        return f'ListNode{{val: {self.val}, next: {self.next}}}'\n",
    "\n",
    "\n",
    "def linked_list_to_int(l1: Optional[ListNode]) -> Optional[int]:\n",
    "    l1_list = [l1.val]\n",
    "    l1 = l1.next\n",
    "    while l1 is not None:\n",
    "        l1_list.append(l1.val)\n",
    "        l1 = l1.next\n",
    "    return int(''.join([str(i) for i in l1_list[::-1]]))\n",
    "\n",
    "\n",
    "def int_to_linked_list(n: Optional[int]) -> Optional[ListNode]:\n",
    "    n_list = [int(i) for i in str(n)]\n",
    "    linked_list = ListNode(val=n_list[0], next=None)\n",
    "    for value in n_list[1:]:\n",
    "        linked_list = ListNode(val=value, next=linked_list)\n",
    "    return linked_list\n",
    "    \n",
    "\n",
    "class Solution2:\n",
    "    def addTwoNumbers(self, l1: Optional[ListNode], l2: Optional[ListNode]) -> Optional[ListNode]:\n",
    "        l1_int = linked_list_to_int(l1)\n",
    "        l2_int = linked_list_to_int(l2)\n",
    "        return int_to_linked_list(l1_int+l2_int)\n",
    "\n",
    "Solution2().addTwoNumbers(\n",
    "    l1=ListNode(val=2,next=ListNode(val=4, next=ListNode(val=3, next=None))),\n",
    "    l2=ListNode(val=5,next=ListNode(val=6, next=ListNode(val=4, next=None)))\n",
    ")"
   ]
  },
  {
   "attachments": {},
   "cell_type": "markdown",
   "metadata": {},
   "source": [
    "## Задача 3. Longest Substring Without Repeating Characters"
   ]
  },
  {
   "cell_type": "code",
   "execution_count": 3,
   "metadata": {},
   "outputs": [
    {
     "data": {
      "text/plain": [
       "8"
      ]
     },
     "execution_count": 3,
     "metadata": {},
     "output_type": "execute_result"
    }
   ],
   "source": [
    "class Solution3:\n",
    "    def lengthOfLongestSubstring(self, s: str) -> int:\n",
    "        longest_size = 0\n",
    "        for i, _ in enumerate(s):\n",
    "            j = i + 1\n",
    "            while len(set(s[i:j+1])) == len(s[i:j+1]) and j <= len(s):\n",
    "                j += 1\n",
    "            if (j - i) > longest_size:\n",
    "                longest_size = j - i\n",
    "        return longest_size\n",
    "\n",
    "Solution3().lengthOfLongestSubstring(s='abstracefaaabc')"
   ]
  },
  {
   "attachments": {},
   "cell_type": "markdown",
   "metadata": {},
   "source": [
    "## Задача 5. Longest Palindromic Substring"
   ]
  },
  {
   "cell_type": "code",
   "execution_count": 4,
   "metadata": {},
   "outputs": [
    {
     "data": {
      "text/plain": [
       "'dabad'"
      ]
     },
     "execution_count": 4,
     "metadata": {},
     "output_type": "execute_result"
    }
   ],
   "source": [
    "class Solution5:\n",
    "    def longestPalindrome(self, s: str) -> str:\n",
    "        longest_palindrome = ''\n",
    "        for i, _ in enumerate(s):\n",
    "            for j, _ in enumerate(s[i:]):\n",
    "                current_substring = s[i:j+i+1]\n",
    "                if current_substring == current_substring[::-1] and len(current_substring) > len(longest_palindrome):\n",
    "                    longest_palindrome = current_substring\n",
    "        return longest_palindrome\n",
    "\n",
    "Solution5().longestPalindrome(s='dabadc')\n",
    "# превышен лимит времени на тестовом примере сайта"
   ]
  },
  {
   "cell_type": "code",
   "execution_count": null,
   "metadata": {},
   "outputs": [],
   "source": []
  },
  {
   "attachments": {},
   "cell_type": "markdown",
   "metadata": {},
   "source": [
    "## Задача 7. Reverse Integer"
   ]
  },
  {
   "cell_type": "code",
   "execution_count": 5,
   "metadata": {},
   "outputs": [
    {
     "data": {
      "text/plain": [
       "21"
      ]
     },
     "execution_count": 5,
     "metadata": {},
     "output_type": "execute_result"
    }
   ],
   "source": [
    "class Solution7:\n",
    "    def reverse(self, x: int) -> int:\n",
    "        if x < 0:\n",
    "            x = -x\n",
    "            x_str = str(x)[::-1]\n",
    "            if len(x_str) < 10:\n",
    "                return int('-' + x_str)\n",
    "            else:\n",
    "                if len(x_str) == 10 and x_str <= '2147483648':\n",
    "                    return int('-' + x_str)\n",
    "                else:\n",
    "                    return 0\n",
    "        else:\n",
    "            x_str = str(x)[::-1]\n",
    "            if len(x_str) < 10:\n",
    "                return int(x_str)\n",
    "            else:\n",
    "                if len(x_str) == 10 and x_str <= '2147483647':\n",
    "                    return int(x_str)\n",
    "                else:\n",
    "                    return 0\n",
    "\n",
    "Solution7().reverse(x=120)"
   ]
  },
  {
   "attachments": {},
   "cell_type": "markdown",
   "metadata": {},
   "source": [
    "## Задача 9. Palindrome Number"
   ]
  },
  {
   "cell_type": "code",
   "execution_count": 6,
   "metadata": {},
   "outputs": [
    {
     "data": {
      "text/plain": [
       "True"
      ]
     },
     "execution_count": 6,
     "metadata": {},
     "output_type": "execute_result"
    }
   ],
   "source": [
    "class Solution9:\n",
    "    def isPalindrome(self, x: int) -> bool:\n",
    "        if str(x)[::-1] == str(x):\n",
    "            return True\n",
    "        else:\n",
    "            return False\n",
    "\n",
    "Solution9().isPalindrome(x=10101)"
   ]
  },
  {
   "attachments": {},
   "cell_type": "markdown",
   "metadata": {},
   "source": [
    "## Задача 20. Valid Parentheses"
   ]
  },
  {
   "cell_type": "code",
   "execution_count": 7,
   "metadata": {},
   "outputs": [
    {
     "data": {
      "text/plain": [
       "False"
      ]
     },
     "execution_count": 7,
     "metadata": {},
     "output_type": "execute_result"
    }
   ],
   "source": [
    "class Solution20:\n",
    "    def isValid(self, s: str) -> bool:\n",
    "        braces_list = ['{}', '[]', '()']\n",
    "        while [braces in s for braces in braces_list] != [0, 0, 0]:\n",
    "            for braces in braces_list:\n",
    "                s = s.replace(braces, '')\n",
    "        if len(s):\n",
    "            return False\n",
    "        else:\n",
    "            return True\n",
    "\n",
    "Solution20().isValid(s='([)')"
   ]
  },
  {
   "cell_type": "code",
   "execution_count": 8,
   "metadata": {},
   "outputs": [
    {
     "data": {
      "text/plain": [
       "True"
      ]
     },
     "execution_count": 8,
     "metadata": {},
     "output_type": "execute_result"
    }
   ],
   "source": [
    "# следующий код немного лучше отрабатывает по времени и по памяти\n",
    "class Solution20:\n",
    "    def isValid(self, s: str) -> bool:\n",
    "        while '{}' in s or '[]' in s or '()' in s:\n",
    "            s = s.replace('{}', '').replace('[]', '').replace('()', '')\n",
    "        return True if s == '' else False\n",
    "\n",
    "Solution20().isValid(s='([])')"
   ]
  },
  {
   "attachments": {},
   "cell_type": "markdown",
   "metadata": {},
   "source": [
    "## Задача 202. Happy Number"
   ]
  },
  {
   "cell_type": "code",
   "execution_count": 9,
   "metadata": {},
   "outputs": [
    {
     "data": {
      "text/plain": [
       "True"
      ]
     },
     "execution_count": 9,
     "metadata": {},
     "output_type": "execute_result"
    }
   ],
   "source": [
    "class Solution202:\n",
    "    def isHappy(self, n: int) -> bool:\n",
    "        cache = []\n",
    "        while n != 1:\n",
    "            sum = 0\n",
    "            for i in str(n):\n",
    "                sum += int(i)**2\n",
    "            n = sum\n",
    "            if n in cache:\n",
    "                return False\n",
    "            else:\n",
    "                cache.append(n)\n",
    "        return True\n",
    "\n",
    "Solution202().isHappy(n=19)"
   ]
  },
  {
   "cell_type": "code",
   "execution_count": null,
   "metadata": {},
   "outputs": [],
   "source": []
  }
 ],
 "metadata": {
  "kernelspec": {
   "display_name": "notebooks-source-env",
   "language": "python",
   "name": "python3"
  },
  "language_info": {
   "codemirror_mode": {
    "name": "ipython",
    "version": 3
   },
   "file_extension": ".py",
   "mimetype": "text/x-python",
   "name": "python",
   "nbconvert_exporter": "python",
   "pygments_lexer": "ipython3",
   "version": "3.10.9"
  },
  "orig_nbformat": 4,
  "vscode": {
   "interpreter": {
    "hash": "a14721e391bd93d2ef762652f16c6071f845f371ae1109f269ccebb74cbd8121"
   }
  }
 },
 "nbformat": 4,
 "nbformat_minor": 2
}
