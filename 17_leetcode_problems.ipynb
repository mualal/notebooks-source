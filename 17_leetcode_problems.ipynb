{
 "cells": [
  {
   "attachments": {},
   "cell_type": "markdown",
   "metadata": {},
   "source": [
    "## Задача 1. Two Sum"
   ]
  },
  {
   "cell_type": "code",
   "execution_count": 1,
   "metadata": {},
   "outputs": [
    {
     "data": {
      "text/plain": [
       "[0, 1]"
      ]
     },
     "execution_count": 1,
     "metadata": {},
     "output_type": "execute_result"
    }
   ],
   "source": [
    "from typing import List\n",
    "\n",
    "class Solution1:\n",
    "    def twoSum(self, nums: List[int], target: int) -> List[int]:\n",
    "        for i, num1 in enumerate(nums):\n",
    "            for j, num2 in enumerate(nums[i+1:]):\n",
    "                if num1 + num2 == target:\n",
    "                    return [i, j+i+1]\n",
    "\n",
    "solution_1 = Solution1()\n",
    "Solution1.twoSum(solution_1, nums=[3,3], target=6)"
   ]
  },
  {
   "attachments": {},
   "cell_type": "markdown",
   "metadata": {},
   "source": [
    "## Задача 9. Palindrome Number"
   ]
  },
  {
   "cell_type": "code",
   "execution_count": 2,
   "metadata": {},
   "outputs": [
    {
     "data": {
      "text/plain": [
       "True"
      ]
     },
     "execution_count": 2,
     "metadata": {},
     "output_type": "execute_result"
    }
   ],
   "source": [
    "class Solution9:\n",
    "    def isPalindrome(self, x: int) -> bool:\n",
    "        if str(x)[::-1] == str(x):\n",
    "            return True\n",
    "        else:\n",
    "            return False\n",
    "\n",
    "solution_9 = Solution9()\n",
    "Solution9.isPalindrome(solution_9, x=10101)"
   ]
  },
  {
   "attachments": {},
   "cell_type": "markdown",
   "metadata": {},
   "source": [
    "## Задача 202. Happy Number"
   ]
  },
  {
   "cell_type": "code",
   "execution_count": 3,
   "metadata": {},
   "outputs": [
    {
     "data": {
      "text/plain": [
       "True"
      ]
     },
     "execution_count": 3,
     "metadata": {},
     "output_type": "execute_result"
    }
   ],
   "source": [
    "class Solution202:\n",
    "    def isHappy(self, n: int) -> bool:\n",
    "        cache = []\n",
    "        while n != 1:\n",
    "            sum = 0\n",
    "            for i in str(n):\n",
    "                sum += int(i)**2\n",
    "            n = sum\n",
    "            if n in cache:\n",
    "                return False\n",
    "            else:\n",
    "                cache.append(n)\n",
    "        return True\n",
    "\n",
    "solution_202 = Solution202()\n",
    "Solution202.isHappy(solution_202, n=19)"
   ]
  },
  {
   "cell_type": "code",
   "execution_count": null,
   "metadata": {},
   "outputs": [],
   "source": []
  }
 ],
 "metadata": {
  "kernelspec": {
   "display_name": "notebooks-source-env",
   "language": "python",
   "name": "python3"
  },
  "language_info": {
   "codemirror_mode": {
    "name": "ipython",
    "version": 3
   },
   "file_extension": ".py",
   "mimetype": "text/x-python",
   "name": "python",
   "nbconvert_exporter": "python",
   "pygments_lexer": "ipython3",
   "version": "3.10.9"
  },
  "orig_nbformat": 4,
  "vscode": {
   "interpreter": {
    "hash": "a14721e391bd93d2ef762652f16c6071f845f371ae1109f269ccebb74cbd8121"
   }
  }
 },
 "nbformat": 4,
 "nbformat_minor": 2
}
