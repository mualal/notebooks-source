{
 "cells": [
  {
   "attachments": {},
   "cell_type": "markdown",
   "metadata": {},
   "source": [
    "# Numba"
   ]
  },
  {
   "attachments": {},
   "cell_type": "markdown",
   "metadata": {},
   "source": [
    "В 1769 году Леонард Эйлер сформулировал обобщённую версию [Великой теоремы Ферма](https://ru.wikipedia.org/wiki/Великая_теорема_Ферма), а именно предположил, что по крайней мере $n$ энных степеней необходимо для получения суммы, которая сама является энной степенью ($n>2$). Только в 1967 году опровергли это утверждение с помощью компьютера.\n",
    "\n",
    "Следующий код находит опровержение этого обобщения Эйлера, а именно находит четыре положительных целых числа, сумма пятых степеней которых равна пятой степени другого положительного целого числа:\n",
    "$$\n",
    "a^5+b^5+c^5+d^5=e^5\n",
    "$$"
   ]
  },
  {
   "cell_type": "code",
   "execution_count": 1,
   "metadata": {},
   "outputs": [
    {
     "name": "stdout",
     "output_type": "stream",
     "text": [
      "a = 27; b = 84, c = 110, d = 133, e = 144\n"
     ]
    }
   ],
   "source": [
    "from numba import njit\n",
    "\n",
    "@njit\n",
    "def get_counterexample1():\n",
    "    for i in range(1, 151):\n",
    "        for j in range(i, 151):\n",
    "            for k in range(j, 151):\n",
    "                for m in range(k, 151):\n",
    "                    e = (i ** 5 + j ** 5 + k ** 5 + m ** 5) ** (1/5)\n",
    "                    if e - int(e) < 1e-12:\n",
    "                        return i, j, k, m, int(e)\n",
    "    return (None, ) * 5\n",
    "\n",
    "a, b, c, d, e = get_counterexample1()\n",
    "print(f\"a = {a}; b = {b}, c = {c}, d = {d}, e = {e}\")"
   ]
  },
  {
   "cell_type": "code",
   "execution_count": 2,
   "metadata": {},
   "outputs": [
    {
     "name": "stdout",
     "output_type": "stream",
     "text": [
      "a = 27; b = 84, c = 110, d = 133, e = 144\n"
     ]
    }
   ],
   "source": [
    "from numba import njit\n",
    "\n",
    "@njit\n",
    "def get_counterexample2():\n",
    "    for i in range(1, 151):\n",
    "        for j in range(i, 151):\n",
    "            for k in range(j, 151):\n",
    "                for m in range(k, 151):\n",
    "                    for n in range(m, 151):\n",
    "                        if i ** 5 + j ** 5 + k ** 5 + m ** 5 == n ** 5:\n",
    "                            return i, j, k, m, n\n",
    "    return (None, ) * 5\n",
    "\n",
    "a, b, c, d, e = get_counterexample2()\n",
    "print(f\"a = {a}; b = {b}, c = {c}, d = {d}, e = {e}\")"
   ]
  },
  {
   "cell_type": "code",
   "execution_count": null,
   "metadata": {},
   "outputs": [],
   "source": []
  }
 ],
 "metadata": {
  "kernelspec": {
   "display_name": "notebooks-source-env",
   "language": "python",
   "name": "python3"
  },
  "language_info": {
   "codemirror_mode": {
    "name": "ipython",
    "version": 3
   },
   "file_extension": ".py",
   "mimetype": "text/x-python",
   "name": "python",
   "nbconvert_exporter": "python",
   "pygments_lexer": "ipython3",
   "version": "3.10.9"
  },
  "orig_nbformat": 4
 },
 "nbformat": 4,
 "nbformat_minor": 2
}
