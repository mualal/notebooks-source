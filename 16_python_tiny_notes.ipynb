{
 "cells": [
  {
   "attachments": {},
   "cell_type": "markdown",
   "metadata": {},
   "source": [
    "# Крошечные заметки Python"
   ]
  },
  {
   "cell_type": "code",
   "execution_count": 1,
   "metadata": {},
   "outputs": [
    {
     "name": "stdout",
     "output_type": "stream",
     "text": [
      "{1, 2, 3, 4, 5, 6}\n"
     ]
    }
   ],
   "source": [
    "a = {1, 2, 3, 4}\n",
    "b = {4, 5, 6}\n",
    "print(a.union(b))"
   ]
  },
  {
   "cell_type": "code",
   "execution_count": 2,
   "metadata": {},
   "outputs": [
    {
     "name": "stdout",
     "output_type": "stream",
     "text": [
      "-1\n"
     ]
    }
   ],
   "source": [
    "x = 1\n",
    "print(+-x)"
   ]
  },
  {
   "cell_type": "code",
   "execution_count": 3,
   "metadata": {},
   "outputs": [
    {
     "name": "stdout",
     "output_type": "stream",
     "text": [
      "[1, 2, 3, [100], 200, 300]\n"
     ]
    }
   ],
   "source": [
    "lst = [1, 2, 3]\n",
    "lst.append([100])\n",
    "lst.extend([200, 300])\n",
    "print(lst)"
   ]
  },
  {
   "cell_type": "code",
   "execution_count": 4,
   "metadata": {},
   "outputs": [
    {
     "name": "stdout",
     "output_type": "stream",
     "text": [
      "-1\n"
     ]
    }
   ],
   "source": [
    "def new_func():\n",
    "    try:\n",
    "        return 1\n",
    "    finally:\n",
    "        return -1\n",
    "x = new_func()\n",
    "print(x)"
   ]
  },
  {
   "cell_type": "code",
   "execution_count": 5,
   "metadata": {},
   "outputs": [
    {
     "name": "stdout",
     "output_type": "stream",
     "text": [
      "New feature\n"
     ]
    }
   ],
   "source": [
    "print('new FEATURE'.capitalize())"
   ]
  },
  {
   "cell_type": "code",
   "execution_count": 6,
   "metadata": {},
   "outputs": [
    {
     "name": "stdout",
     "output_type": "stream",
     "text": [
      "False\n",
      "True\n"
     ]
    }
   ],
   "source": [
    "lst = [-1, 0 ,1]\n",
    "lst_copy = lst.copy()\n",
    "print(lst_copy is lst)\n",
    "print(lst_copy == lst)"
   ]
  },
  {
   "cell_type": "code",
   "execution_count": 1,
   "metadata": {},
   "outputs": [
    {
     "name": "stdout",
     "output_type": "stream",
     "text": [
      "True\n"
     ]
    }
   ],
   "source": [
    "empty_set = set()\n",
    "for i in empty_set:\n",
    "    print(False)\n",
    "print(True)"
   ]
  },
  {
   "cell_type": "code",
   "execution_count": 2,
   "metadata": {},
   "outputs": [
    {
     "name": "stdout",
     "output_type": "stream",
     "text": [
      "3\n"
     ]
    }
   ],
   "source": [
    "one = 1\n",
    "two = 2\n",
    "three = 3\n",
    "print(one and two and three)"
   ]
  },
  {
   "cell_type": "code",
   "execution_count": 3,
   "metadata": {},
   "outputs": [
    {
     "name": "stdout",
     "output_type": "stream",
     "text": [
      "0\n"
     ]
    }
   ],
   "source": [
    "two = '2'.isalpha()\n",
    "print(two.real)"
   ]
  },
  {
   "cell_type": "code",
   "execution_count": 4,
   "metadata": {},
   "outputs": [
    {
     "name": "stdout",
     "output_type": "stream",
     "text": [
      "True\n"
     ]
    }
   ],
   "source": [
    "dict_one = {'key_ten': 10, 'key_eleven': 11}\n",
    "dict_two = {'key_eleven': 11, 'key_ten': 10}\n",
    "print(dict_one == dict_two)"
   ]
  },
  {
   "cell_type": "code",
   "execution_count": 5,
   "metadata": {},
   "outputs": [
    {
     "name": "stdout",
     "output_type": "stream",
     "text": [
      "0\n",
      "1\n"
     ]
    }
   ],
   "source": [
    "first_list = [2, 2]\n",
    "second_list = [2, 6]\n",
    "\n",
    "first_list[1] *= 2\n",
    "second_list[1] -= 2\n",
    "print(int(first_list is second_list))\n",
    "print(int(first_list == second_list))"
   ]
  },
  {
   "cell_type": "code",
   "execution_count": 7,
   "metadata": {},
   "outputs": [
    {
     "name": "stdout",
     "output_type": "stream",
     "text": [
      "1\n"
     ]
    },
    {
     "ename": "TypeError",
     "evalue": "unsupported operand type(s) for +: 'int' and 'tuple'",
     "output_type": "error",
     "traceback": [
      "\u001b[0;31m---------------------------------------------------------------------------\u001b[0m",
      "\u001b[0;31mTypeError\u001b[0m                                 Traceback (most recent call last)",
      "\u001b[0;32m/var/folders/ng/hg0wb8y956zfbdtbvbqtd90h0000gn/T/ipykernel_1143/3658005177.py\u001b[0m in \u001b[0;36m<module>\u001b[0;34m\u001b[0m\n\u001b[1;32m      4\u001b[0m \u001b[0;34m\u001b[0m\u001b[0m\n\u001b[1;32m      5\u001b[0m \u001b[0mprint\u001b[0m\u001b[0;34m(\u001b[0m\u001b[0mfirst_tuple\u001b[0m\u001b[0;34m)\u001b[0m\u001b[0;34m\u001b[0m\u001b[0;34m\u001b[0m\u001b[0m\n\u001b[0;32m----> 6\u001b[0;31m \u001b[0mprint\u001b[0m\u001b[0;34m(\u001b[0m\u001b[0mfirst_tuple\u001b[0m \u001b[0;34m+\u001b[0m \u001b[0msecond_tuple\u001b[0m\u001b[0;34m)\u001b[0m\u001b[0;34m\u001b[0m\u001b[0;34m\u001b[0m\u001b[0m\n\u001b[0m",
      "\u001b[0;31mTypeError\u001b[0m: unsupported operand type(s) for +: 'int' and 'tuple'"
     ]
    }
   ],
   "source": [
    "first_tuple = (0)\n",
    "first_tuple += 1\n",
    "second_tuple = (2, 3)\n",
    "\n",
    "print(first_tuple)\n",
    "print(first_tuple + second_tuple)"
   ]
  },
  {
   "cell_type": "code",
   "execution_count": 8,
   "metadata": {},
   "outputs": [
    {
     "ename": "TypeError",
     "evalue": "object of type 'NoneType' has no len()",
     "output_type": "error",
     "traceback": [
      "\u001b[0;31m---------------------------------------------------------------------------\u001b[0m",
      "\u001b[0;31mTypeError\u001b[0m                                 Traceback (most recent call last)",
      "\u001b[0;32m/var/folders/ng/hg0wb8y956zfbdtbvbqtd90h0000gn/T/ipykernel_1143/3094918534.py\u001b[0m in \u001b[0;36m<module>\u001b[0;34m\u001b[0m\n\u001b[1;32m      1\u001b[0m \u001b[0mlist_1\u001b[0m \u001b[0;34m=\u001b[0m \u001b[0;34m[\u001b[0m\u001b[0;36m0\u001b[0m\u001b[0;34m,\u001b[0m \u001b[0;36m10\u001b[0m\u001b[0;34m,\u001b[0m \u001b[0;36m20\u001b[0m\u001b[0;34m]\u001b[0m\u001b[0;34m\u001b[0m\u001b[0;34m\u001b[0m\u001b[0m\n\u001b[1;32m      2\u001b[0m \u001b[0mlist_2\u001b[0m \u001b[0;34m=\u001b[0m \u001b[0mlist_1\u001b[0m\u001b[0;34m.\u001b[0m\u001b[0mappend\u001b[0m\u001b[0;34m(\u001b[0m\u001b[0;34m[\u001b[0m\u001b[0;36m30\u001b[0m\u001b[0;34m]\u001b[0m\u001b[0;34m)\u001b[0m\u001b[0;34m\u001b[0m\u001b[0;34m\u001b[0m\u001b[0m\n\u001b[0;32m----> 3\u001b[0;31m \u001b[0mprint\u001b[0m\u001b[0;34m(\u001b[0m\u001b[0mlen\u001b[0m\u001b[0;34m(\u001b[0m\u001b[0mlist_2\u001b[0m\u001b[0;34m)\u001b[0m\u001b[0;34m)\u001b[0m\u001b[0;34m\u001b[0m\u001b[0;34m\u001b[0m\u001b[0m\n\u001b[0m",
      "\u001b[0;31mTypeError\u001b[0m: object of type 'NoneType' has no len()"
     ]
    }
   ],
   "source": [
    "list_1 = [0, 10, 20]\n",
    "list_2 = list_1.append([30])\n",
    "print(len(list_2))"
   ]
  },
  {
   "cell_type": "code",
   "execution_count": 9,
   "metadata": {},
   "outputs": [
    {
     "name": "stdout",
     "output_type": "stream",
     "text": [
      "4\n",
      "8\n",
      "12\n"
     ]
    }
   ],
   "source": [
    "x = 0\n",
    "\n",
    "while x <= 10:\n",
    "    x += 2\n",
    "    if x % 4 == 0:\n",
    "        print(x)"
   ]
  },
  {
   "cell_type": "code",
   "execution_count": 12,
   "metadata": {},
   "outputs": [
    {
     "name": "stdout",
     "output_type": "stream",
     "text": [
      "(0, 3, 0, 3, 0, 3)\n"
     ]
    }
   ],
   "source": [
    "x = 0, 3\n",
    "y = 3\n",
    "print(x * y)"
   ]
  },
  {
   "cell_type": "code",
   "execution_count": 13,
   "metadata": {},
   "outputs": [
    {
     "name": "stdout",
     "output_type": "stream",
     "text": [
      "15\n"
     ]
    }
   ],
   "source": [
    "list_example = [5]\n",
    "list_example *= 3\n",
    "list_example[0] = 0\n",
    "list_example[2] = 10\n",
    "print(sum(list_example))"
   ]
  },
  {
   "cell_type": "code",
   "execution_count": 15,
   "metadata": {},
   "outputs": [
    {
     "name": "stdout",
     "output_type": "stream",
     "text": [
      "True\n"
     ]
    }
   ],
   "source": [
    "arr = [10]\n",
    "n = arr[0] % 10\n",
    "n = arr[n]\n",
    "n /= 10\n",
    "print(bool(n))"
   ]
  },
  {
   "cell_type": "code",
   "execution_count": 2,
   "metadata": {},
   "outputs": [
    {
     "name": "stdout",
     "output_type": "stream",
     "text": [
      "0xA0xB0xC\n",
      "33\n"
     ]
    }
   ],
   "source": [
    "print('0xA' + '0xB' + '0xC')\n",
    "print(0xA + 0xB + 0xC)  # шестнадцатеричный формат"
   ]
  },
  {
   "cell_type": "code",
   "execution_count": 3,
   "metadata": {},
   "outputs": [
    {
     "name": "stdout",
     "output_type": "stream",
     "text": [
      "5\n",
      "None\n",
      "False\n"
     ]
    }
   ],
   "source": [
    "print(bool(print(print(5))))"
   ]
  },
  {
   "cell_type": "code",
   "execution_count": 5,
   "metadata": {},
   "outputs": [
    {
     "name": "stdout",
     "output_type": "stream",
     "text": [
      "Swift\n",
      "Python\n"
     ]
    }
   ],
   "source": [
    "lang_list = ['C#', 'Swift', 'Python']\n",
    "i = iter(lang_list)\n",
    "next(i)\n",
    "print(next(i))\n",
    "print(next(i))"
   ]
  },
  {
   "cell_type": "code",
   "execution_count": 9,
   "metadata": {},
   "outputs": [
    {
     "name": "stdout",
     "output_type": "stream",
     "text": [
      "None None None "
     ]
    },
    {
     "data": {
      "text/plain": [
       "{0, 10, 20}"
      ]
     },
     "execution_count": 9,
     "metadata": {},
     "output_type": "execute_result"
    }
   ],
   "source": [
    "num_set = {0, 10, 20}\n",
    "for i in num_set:\n",
    "    print(num_set.add(i), end=' ')\n",
    "num_set"
   ]
  },
  {
   "cell_type": "code",
   "execution_count": 10,
   "metadata": {},
   "outputs": [
    {
     "name": "stdout",
     "output_type": "stream",
     "text": [
      "Привет\n"
     ]
    }
   ],
   "source": [
    "печать = print\n",
    "строка = \"Привет\"\n",
    "печать(строка)"
   ]
  },
  {
   "cell_type": "code",
   "execution_count": 12,
   "metadata": {},
   "outputs": [
    {
     "name": "stdout",
     "output_type": "stream",
     "text": [
      "['h', 'e', 'l', 'l', 'o']\n",
      "['H', 'E', 'L', 'L', 'O']\n"
     ]
    }
   ],
   "source": [
    "small_list = ['h', 'e', 'l', 'l', 'o']\n",
    "big_list = []\n",
    "for i in small_list:\n",
    "    i.upper()\n",
    "    big_list.append(i.upper())\n",
    "print(small_list)\n",
    "print(big_list)"
   ]
  },
  {
   "cell_type": "code",
   "execution_count": 1,
   "metadata": {},
   "outputs": [
    {
     "name": "stdout",
     "output_type": "stream",
     "text": [
      "g\n"
     ]
    }
   ],
   "source": [
    "symb = 'g'\n",
    "print(chr(ord(symb)))"
   ]
  },
  {
   "cell_type": "code",
   "execution_count": 2,
   "metadata": {},
   "outputs": [
    {
     "name": "stdout",
     "output_type": "stream",
     "text": [
      "None\n"
     ]
    }
   ],
   "source": [
    "def empty():\n",
    "    pass\n",
    "print(empty())"
   ]
  },
  {
   "cell_type": "code",
   "execution_count": 5,
   "metadata": {},
   "outputs": [
    {
     "name": "stdout",
     "output_type": "stream",
     "text": [
      "\n",
      "Geo\n"
     ]
    }
   ],
   "source": [
    "x = 'Geo'\n",
    "print(x[100:200])\n",
    "print(x[0:200])"
   ]
  },
  {
   "cell_type": "code",
   "execution_count": 6,
   "metadata": {},
   "outputs": [
    {
     "ename": "TypeError",
     "evalue": "'tuple' object does not support item assignment",
     "output_type": "error",
     "traceback": [
      "\u001b[0;31m---------------------------------------------------------------------------\u001b[0m",
      "\u001b[0;31mTypeError\u001b[0m                                 Traceback (most recent call last)",
      "\u001b[0;32m/var/folders/ng/hg0wb8y956zfbdtbvbqtd90h0000gn/T/ipykernel_806/2690116704.py\u001b[0m in \u001b[0;36m<module>\u001b[0;34m\u001b[0m\n\u001b[1;32m      1\u001b[0m \u001b[0mtup_example\u001b[0m \u001b[0;34m=\u001b[0m \u001b[0;34m(\u001b[0m\u001b[0;36m1\u001b[0m\u001b[0;34m,\u001b[0m \u001b[0;36m2\u001b[0m\u001b[0;34m,\u001b[0m \u001b[0;36m3\u001b[0m\u001b[0;34m,\u001b[0m \u001b[0;36m4\u001b[0m\u001b[0;34m)\u001b[0m\u001b[0;34m\u001b[0m\u001b[0;34m\u001b[0m\u001b[0m\n\u001b[0;32m----> 2\u001b[0;31m \u001b[0mtup_example\u001b[0m\u001b[0;34m[\u001b[0m\u001b[0;36m0\u001b[0m\u001b[0;34m]\u001b[0m \u001b[0;34m=\u001b[0m \u001b[0;36m0\u001b[0m  \u001b[0;31m# но кортеж - неизменяемый тип данных\u001b[0m\u001b[0;34m\u001b[0m\u001b[0;34m\u001b[0m\u001b[0m\n\u001b[0m\u001b[1;32m      3\u001b[0m \u001b[0mprint\u001b[0m\u001b[0;34m(\u001b[0m\u001b[0mtup_example\u001b[0m\u001b[0;34m)\u001b[0m\u001b[0;34m\u001b[0m\u001b[0;34m\u001b[0m\u001b[0m\n",
      "\u001b[0;31mTypeError\u001b[0m: 'tuple' object does not support item assignment"
     ]
    }
   ],
   "source": [
    "tup_example = (1, 2, 3, 4)\n",
    "tup_example[0] = 0  # но кортеж - неизменяемый тип данных\n",
    "print(tup_example)"
   ]
  },
  {
   "cell_type": "code",
   "execution_count": 7,
   "metadata": {},
   "outputs": [
    {
     "name": "stdout",
     "output_type": "stream",
     "text": [
      "one\n"
     ]
    }
   ],
   "source": [
    "class empty:\n",
    "    pass\n",
    "obj = empty()\n",
    "print(['zero', 'one'][bool(obj)])"
   ]
  },
  {
   "cell_type": "code",
   "execution_count": 9,
   "metadata": {},
   "outputs": [
    {
     "name": "stdout",
     "output_type": "stream",
     "text": [
      "(1, 2, 3, 4, 5, 6)\n",
      "True\n",
      "False\n",
      "True\n"
     ]
    }
   ],
   "source": [
    "tup_one = (1, 2, 3)\n",
    "tup_two = (4, 5, 6)\n",
    "tup_three = tup_one + tup_two\n",
    "\n",
    "print(tup_three)\n",
    "print(tup_one < tup_two)\n",
    "print(tup_two < tup_three)\n",
    "print(tup_one < tup_three)"
   ]
  },
  {
   "cell_type": "code",
   "execution_count": 11,
   "metadata": {},
   "outputs": [
    {
     "name": "stdout",
     "output_type": "stream",
     "text": [
      "Hooray\n"
     ]
    }
   ],
   "source": [
    "def the_first_func():\n",
    "    x = 'Hooray'\n",
    "    def the_second_func():\n",
    "        x = 'Aaaaaa'\n",
    "    the_second_func()\n",
    "    return x\n",
    "\n",
    "print(the_first_func())"
   ]
  },
  {
   "cell_type": "code",
   "execution_count": 14,
   "metadata": {},
   "outputs": [
    {
     "name": "stdout",
     "output_type": "stream",
     "text": [
      "[20, 40, 60, 80, 100]\n"
     ]
    }
   ],
   "source": [
    "lst_examle = [10, 20, 30, 40, 50, 60, 70, 80, 90, 100]\n",
    "for i in lst_examle:\n",
    "    lst_examle.remove(i)\n",
    "print(lst_examle)"
   ]
  },
  {
   "cell_type": "code",
   "execution_count": 1,
   "metadata": {},
   "outputs": [
    {
     "name": "stdout",
     "output_type": "stream",
     "text": [
      "100\n"
     ]
    }
   ],
   "source": [
    "y = 0\n",
    "while y < 100:\n",
    "    y += 2\n",
    "print(y)"
   ]
  },
  {
   "cell_type": "code",
   "execution_count": 2,
   "metadata": {},
   "outputs": [
    {
     "name": "stdout",
     "output_type": "stream",
     "text": [
      "G, e, o, m, e, c, h, a, n, i, c, s, "
     ]
    }
   ],
   "source": [
    "for j in 'Geomechanics':\n",
    "    if j == 'g':\n",
    "        pass\n",
    "    print(j, end=', ')"
   ]
  },
  {
   "cell_type": "code",
   "execution_count": 3,
   "metadata": {},
   "outputs": [
    {
     "name": "stdout",
     "output_type": "stream",
     "text": [
      "0 1 2 "
     ]
    }
   ],
   "source": [
    "u = 0\n",
    "while u < 5:\n",
    "    print(u, end=' ')\n",
    "    u += 1\n",
    "    if u == 3:\n",
    "        break\n",
    "else:\n",
    "    print(0)"
   ]
  },
  {
   "cell_type": "code",
   "execution_count": 4,
   "metadata": {},
   "outputs": [
    {
     "name": "stdout",
     "output_type": "stream",
     "text": [
      "Test\n"
     ]
    }
   ],
   "source": [
    "w = 0\n",
    "while w < 0:\n",
    "    print(w)\n",
    "else:\n",
    "    print('Test')"
   ]
  },
  {
   "cell_type": "code",
   "execution_count": 5,
   "metadata": {},
   "outputs": [
    {
     "name": "stdout",
     "output_type": "stream",
     "text": [
      "Swimming\n"
     ]
    }
   ],
   "source": [
    "class Swan:\n",
    "    def swim(self):\n",
    "        return 'Swimming'\n",
    "    def walk(self):\n",
    "        return 'Walking'\n",
    "\n",
    "class MuteSwan(Swan):\n",
    "    def hiss(self):\n",
    "        return 'Hissing'\n",
    "\n",
    "mute_swan = MuteSwan()\n",
    "print(mute_swan.swim())"
   ]
  },
  {
   "cell_type": "code",
   "execution_count": 1,
   "metadata": {},
   "outputs": [
    {
     "name": "stdout",
     "output_type": "stream",
     "text": [
      "60000\n"
     ]
    }
   ],
   "source": [
    "def multiply(x, y, z):\n",
    "    return x * y * z\n",
    "list_example = [30, 40, 50]\n",
    "print(multiply(*list_example))"
   ]
  },
  {
   "cell_type": "code",
   "execution_count": 2,
   "metadata": {},
   "outputs": [
    {
     "name": "stdout",
     "output_type": "stream",
     "text": [
      "2\n",
      "4\n"
     ]
    }
   ],
   "source": [
    "# в Python числа округляются в чётную сторону\n",
    "print(round(2.5))\n",
    "print(round(3.5))"
   ]
  },
  {
   "cell_type": "code",
   "execution_count": 12,
   "metadata": {},
   "outputs": [
    {
     "name": "stdout",
     "output_type": "stream",
     "text": [
      "False True False\n"
     ]
    }
   ],
   "source": [
    "class Number:\n",
    "    def __init__(self, number=0):\n",
    "        self.__number = number\n",
    "\n",
    "n1 = Number(3)\n",
    "n2 = Number(3)\n",
    "print(id(n1) == id(n2), end=' ')\n",
    "\n",
    "str1 = 'Welcome'\n",
    "str2 = 'Welcome'\n",
    "print(id(str1) == id(str2), end=' ')\n",
    "\n",
    "str3 = 'Welcome!'\n",
    "str4 = 'Welcome!'\n",
    "print(id(str3) == id(str4))\n"
   ]
  },
  {
   "cell_type": "code",
   "execution_count": 14,
   "metadata": {},
   "outputs": [
    {
     "name": "stdout",
     "output_type": "stream",
     "text": [
      "Hello5 Hello5 \n"
     ]
    }
   ],
   "source": [
    "def transform_str(s):\n",
    "    s = s + '5 '\n",
    "    s = s * 2\n",
    "    return s\n",
    "\n",
    "print(transform_str('Hello'))"
   ]
  },
  {
   "cell_type": "code",
   "execution_count": 1,
   "metadata": {},
   "outputs": [
    {
     "name": "stdout",
     "output_type": "stream",
     "text": [
      "{'a': 97, 'b': 98, 'c': 99}\n",
      "None\n",
      "101\n"
     ]
    }
   ],
   "source": [
    "dict_example = {'a': ord('a'), 'b': ord('b'), 'c': ord('c')}\n",
    "print(dict_example)\n",
    "print(dict_example.get('d'))\n",
    "print(dict_example.get('e', ord('e')))"
   ]
  },
  {
   "cell_type": "code",
   "execution_count": 2,
   "metadata": {},
   "outputs": [
    {
     "name": "stdout",
     "output_type": "stream",
     "text": [
      "12 есть во втором списке\n",
      "13 нет во втором списке\n",
      "14 есть во втором списке\n",
      "15 нет во втором списке\n",
      "16 есть во втором списке\n",
      "17 нет во втором списке\n",
      "18 есть во втором списке\n",
      "19 нет во втором списке\n",
      "20 есть во втором списке\n"
     ]
    }
   ],
   "source": [
    "lst1 = [i for i in range(12, 21)]\n",
    "lst2 = [i for i in range(12, 21, 2)]\n",
    "for el in lst1:\n",
    "    print(el, ['нет во втором списке', 'есть во втором списке'][el in lst2])"
   ]
  },
  {
   "cell_type": "code",
   "execution_count": 3,
   "metadata": {},
   "outputs": [
    {
     "name": "stdout",
     "output_type": "stream",
     "text": [
      "101\n",
      "None\n",
      "5.0\n"
     ]
    }
   ],
   "source": [
    "dict_example = {'sub_dict': {'e': ord('e')}, 'list_example': ['a', 35, 5.0]}\n",
    "print(dict_example['sub_dict']['e'])\n",
    "print(dict_example['sub_dict'].get('a'))\n",
    "print(dict_example['list_example'][2])"
   ]
  },
  {
   "cell_type": "code",
   "execution_count": 1,
   "metadata": {},
   "outputs": [
    {
     "name": "stdout",
     "output_type": "stream",
     "text": [
      "\n",
      "    Doc\n",
      "    \n"
     ]
    }
   ],
   "source": [
    "class WithDoc:\n",
    "    \"\"\"\n",
    "    Doc\n",
    "    \"\"\"\n",
    "\n",
    "print(WithDoc.__doc__)"
   ]
  },
  {
   "cell_type": "code",
   "execution_count": 2,
   "metadata": {},
   "outputs": [
    {
     "name": "stdout",
     "output_type": "stream",
     "text": [
      "321\n"
     ]
    }
   ],
   "source": [
    "for j in range(0):\n",
    "    print('123')\n",
    "else:\n",
    "    print('321')"
   ]
  },
  {
   "cell_type": "code",
   "execution_count": 3,
   "metadata": {},
   "outputs": [
    {
     "name": "stdout",
     "output_type": "stream",
     "text": [
      "0 10 20\n"
     ]
    }
   ],
   "source": [
    "print(0 and 10 and 20, end=' ')\n",
    "print(0 or 10 or 20, end=' ')\n",
    "print(10 and 20)"
   ]
  },
  {
   "cell_type": "code",
   "execution_count": 4,
   "metadata": {},
   "outputs": [
    {
     "name": "stdout",
     "output_type": "stream",
     "text": [
      "8\n"
     ]
    }
   ],
   "source": [
    "def recurrent_else(f_arg, s_arg, t_arg):\n",
    "    if f_arg == (t_arg + 5):\n",
    "        return s_arg\n",
    "    else:\n",
    "        return recurrent_else(f_arg-1, 2*s_arg, t_arg)\n",
    "\n",
    "f_var = 10\n",
    "s_var = 1\n",
    "t_var = 2\n",
    "print(recurrent_else(f_var, s_var, t_var))"
   ]
  },
  {
   "cell_type": "code",
   "execution_count": 1,
   "metadata": {},
   "outputs": [
    {
     "name": "stdout",
     "output_type": "stream",
     "text": [
      "[]\n",
      "[3, 6, 9, 3, 6, 9, 3, 6, 9]\n"
     ]
    }
   ],
   "source": [
    "list_example = [3, 6, 9]\n",
    "list_example_1 = list_example * (-3)\n",
    "list_example_2 = list_example * 3\n",
    "print(list_example_1)\n",
    "print(list_example_2)"
   ]
  },
  {
   "cell_type": "code",
   "execution_count": 2,
   "metadata": {},
   "outputs": [
    {
     "name": "stdout",
     "output_type": "stream",
     "text": [
      "[30, 40, 50, 51, 51, 51, 51, 51, 51, 51]\n"
     ]
    }
   ],
   "source": [
    "list_example = [30, 40, 50, 51]\n",
    "for el in list_example:\n",
    "    if el % 2 and len(list_example) < 10:\n",
    "        list_example.append(el)\n",
    "print(list_example)"
   ]
  },
  {
   "cell_type": "code",
   "execution_count": 3,
   "metadata": {},
   "outputs": [
    {
     "name": "stdout",
     "output_type": "stream",
     "text": [
      "True\n",
      "False\n",
      "119.0\n"
     ]
    }
   ],
   "source": [
    "float_example = 239.0\n",
    "bool_example = float_example >= 239 and isinstance(float_example, float)\n",
    "bool_or_float_example_1 = float_example >= 239 and isinstance(float_example, int) and float_example // 2\n",
    "bool_or_float_example_2 = float_example >= 239 and isinstance(float_example, float) and float_example // 2\n",
    "print(bool_example)\n",
    "print(bool_or_float_example_1)\n",
    "print(bool_or_float_example_2)"
   ]
  },
  {
   "cell_type": "code",
   "execution_count": 1,
   "metadata": {},
   "outputs": [
    {
     "data": {
      "text/plain": [
       "'rof_txet'"
      ]
     },
     "execution_count": 1,
     "metadata": {},
     "output_type": "execute_result"
    }
   ],
   "source": [
    "text = 'text_for_experiment'\n",
    "text[7::-1]"
   ]
  },
  {
   "cell_type": "code",
   "execution_count": 1,
   "metadata": {},
   "outputs": [
    {
     "name": "stdout",
     "output_type": "stream",
     "text": [
      "Время выполнения с использованием temp: 1.1646347045898438 с\n",
      "Время выполнения без использования temp: 1.7179741859436035 с\n",
      "Время выполнения с XOR: 2.3603408336639404 с\n",
      "Увеличение времени выполнения без temp на: 47.51 %\n",
      "Увеличение времени выполнения с XOR на: 102.67 %\n"
     ]
    }
   ],
   "source": [
    "import time\n",
    "\n",
    "a = 2.1e3\n",
    "b = 5.4e2\n",
    "start_time_1 = time.time()\n",
    "for i in range(int(1e7)):\n",
    "    temp = a\n",
    "    a = b\n",
    "    b = temp\n",
    "duration_1 = time.time() - start_time_1\n",
    "print(f'Время выполнения с использованием temp: {duration_1} с')\n",
    "\n",
    "a = 2.1e3\n",
    "b = 5.4e2\n",
    "start_time_2 = time.time()\n",
    "for i in range(int(1e7)):\n",
    "    b += a\n",
    "    a = b - a\n",
    "    b -= a\n",
    "duration_2 = time.time() - start_time_2\n",
    "print(f'Время выполнения без использования temp: {duration_2} с')\n",
    "\n",
    "a = 2100\n",
    "b = 540\n",
    "start_time_3 = time.time()\n",
    "for i in range(int(1e7)):\n",
    "    b ^= a\n",
    "    a ^= b\n",
    "    b ^= a\n",
    "duration_3 = time.time() - start_time_3\n",
    "print(f'Время выполнения с XOR: {duration_3} с')\n",
    "\n",
    "\n",
    "print(f'Увеличение времени выполнения без temp на: {round((duration_2 - duration_1) / duration_1 * 100, 2)} %')\n",
    "print(f'Увеличение времени выполнения с XOR на: {round((duration_3 - duration_1) / duration_1 * 100, 2)} %')"
   ]
  },
  {
   "cell_type": "code",
   "execution_count": 1,
   "metadata": {},
   "outputs": [
    {
     "name": "stdout",
     "output_type": "stream",
     "text": [
      "<class 'int'>\n",
      "255\n"
     ]
    }
   ],
   "source": [
    "i_num = 0xFF\n",
    "print(type(i_num))\n",
    "print(i_num)"
   ]
  },
  {
   "cell_type": "code",
   "execution_count": 2,
   "metadata": {},
   "outputs": [
    {
     "name": "stdout",
     "output_type": "stream",
     "text": [
      "fF\n"
     ]
    }
   ],
   "source": [
    "text_example = 'New feature'\n",
    "c = text_example.capitalize()\n",
    "d = text_example.title()\n",
    "print(c[4] + d[4])"
   ]
  },
  {
   "cell_type": "code",
   "execution_count": 3,
   "metadata": {},
   "outputs": [
    {
     "name": "stdout",
     "output_type": "stream",
     "text": [
      "5\n"
     ]
    }
   ],
   "source": [
    "def add_to_list(lst):\n",
    "    lst += [100]\n",
    "\n",
    "lst = [100, 150, 200, 250]\n",
    "add_to_list(lst)\n",
    "\n",
    "print(len(lst))"
   ]
  },
  {
   "cell_type": "code",
   "execution_count": 4,
   "metadata": {},
   "outputs": [
    {
     "name": "stdout",
     "output_type": "stream",
     "text": [
      "<class 'int'>\n",
      "<class 'type'>\n",
      "<class 'type'>\n"
     ]
    }
   ],
   "source": [
    "new_int = 5\n",
    "print(type(new_int))\n",
    "print(type(type(new_int)))\n",
    "print(type(type(type(new_int))))"
   ]
  },
  {
   "cell_type": "code",
   "execution_count": 1,
   "metadata": {},
   "outputs": [
    {
     "name": "stdout",
     "output_type": "stream",
     "text": [
      "True\n"
     ]
    }
   ],
   "source": [
    "a = 5 == 5 or 7 != 7\n",
    "b = a == 1 or 8 != 8.0\n",
    "\n",
    "if b:\n",
    "    print(b)\n",
    "else:\n",
    "    print(a)"
   ]
  },
  {
   "cell_type": "code",
   "execution_count": 1,
   "metadata": {},
   "outputs": [
    {
     "name": "stdout",
     "output_type": "stream",
     "text": [
      "True\n",
      "False\n"
     ]
    }
   ],
   "source": [
    "def fixed(ob):\n",
    "    try:\n",
    "        hash(ob)\n",
    "    except TypeError:\n",
    "        return False\n",
    "    return True\n",
    "\n",
    "tuple_f = (125, 'new', (1, 2, 5))\n",
    "tuple_m = (125, 'new', [1, 2, 5])\n",
    "\n",
    "print(fixed(tuple_f))\n",
    "print(fixed(tuple_m))"
   ]
  },
  {
   "cell_type": "code",
   "execution_count": null,
   "metadata": {},
   "outputs": [],
   "source": []
  }
 ],
 "metadata": {
  "kernelspec": {
   "display_name": "base",
   "language": "python",
   "name": "python3"
  },
  "language_info": {
   "codemirror_mode": {
    "name": "ipython",
    "version": 3
   },
   "file_extension": ".py",
   "mimetype": "text/x-python",
   "name": "python",
   "nbconvert_exporter": "python",
   "pygments_lexer": "ipython3",
   "version": "3.9.13"
  },
  "orig_nbformat": 4,
  "vscode": {
   "interpreter": {
    "hash": "dddb269d354fb4cef66200a4ce2b5779135fb59a526efe11ebdea67122026ac0"
   }
  }
 },
 "nbformat": 4,
 "nbformat_minor": 2
}
