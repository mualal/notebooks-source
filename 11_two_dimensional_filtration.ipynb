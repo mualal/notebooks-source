{
 "cells": [
  {
   "cell_type": "markdown",
   "metadata": {},
   "source": [
    "# Неявное решение уравнения фильтрации однофазной жидкости в двухмерном пласте\n",
    "\n",
    "Муравцев Александр. Вариант 16"
   ]
  },
  {
   "cell_type": "code",
   "execution_count": 1,
   "metadata": {},
   "outputs": [],
   "source": [
    "import numpy as np\n",
    "import matplotlib.pyplot as plt\n",
    "from sympy.matrices import Matrix"
   ]
  },
  {
   "cell_type": "markdown",
   "metadata": {},
   "source": [
    "## Задание значений входных параметров и перевод единиц измерения в СИ"
   ]
  },
  {
   "cell_type": "code",
   "execution_count": 2,
   "metadata": {},
   "outputs": [],
   "source": [
    "mesh_x_count = 4  # количество ячеек по пространству в направлении оси Ox\n",
    "mesh_y_count = 4  # количество ячеек по пространству в направлении оси Oy\n",
    "mesh_t_count = 1000  # количество шагов по времени"
   ]
  },
  {
   "cell_type": "code",
   "execution_count": 3,
   "metadata": {},
   "outputs": [],
   "source": [
    "dt = 10  # сут, временной шаг\n",
    "dt *= 24 * 60 * 60  # с, временной шаг\n",
    "\n",
    "m = 0.18  # пористость\n",
    "\n",
    "mu = 4  # мПа*с, вязкость жидкости\n",
    "mu *= 1e-3  # Па*с, вязкость жидкости\n",
    "\n",
    "k = np.array([\n",
    "    [30.0, 30.0, 30.0, 30.0],\n",
    "    [30.0, 40.0, 40.0, 40.0],\n",
    "    [30.0, 40.0, 40.0, 50.0],\n",
    "    [30.0, 40.0, 50.0, 40.0]\n",
    "])  # мД, проницаемость\n",
    "k *= 1e-3 * (1e-6) ** 2  # м^2, проницаемость\n",
    "\n",
    "dx = 100  # м, ширина ячейки по оси Ox\n",
    "dy = 100  # м, ширина ячейки по оси Oy\n",
    "\n",
    "h = 50  # м, толщина пласта\n",
    "\n",
    "b_liq = 1  # м^3/м^3, объёмный коэффициент жидкости\n",
    "\n",
    "compr = 2.2e-9  # Па^(-1), общая сжимаемость\n",
    "\n",
    "p_initial = 20  # МПа, начальное пластовое давление\n",
    "p_initial *= 1e6  # Па, начальное пластовое давление\n",
    "\n",
    "q_inj = 40  # м^3/сут, расход нагнетательной скважины в поверхностных условиях\n",
    "q_inj /= (24 * 60 * 60)  # м^3/с, расход нагнетательной скважины в поверхностных условиях\n",
    "\n",
    "q_prod = 40  # м^3/сут, дебит добывающей скважины в поверхностных условиях\n",
    "q_prod /= (24 * 60 * 60)  # м^3/с, дебит добывающей скважины в поверхностных условиях"
   ]
  },
  {
   "cell_type": "code",
   "execution_count": 4,
   "metadata": {},
   "outputs": [],
   "source": [
    "# безразмерные множители, входящие в формулы неяного метода\n",
    "gamma = (m * mu * compr / k) * (dx ** 2 / dt)\n",
    "beta = (dx / dy) ** 2"
   ]
  },
  {
   "cell_type": "markdown",
   "metadata": {},
   "source": [
    "## Матрица системы и левые части уравнений в символьном виде"
   ]
  },
  {
   "cell_type": "code",
   "execution_count": 5,
   "metadata": {},
   "outputs": [
    {
     "data": {
      "text/latex": [
       "$\\displaystyle \\left[\\begin{array}{cccccccccccccccc}b_{00} & f_{00} & 0 & 0 & c_{00} & 0 & 0 & 0 & 0 & 0 & 0 & 0 & 0 & 0 & 0 & 0\\\\e_{01} & b_{01} & f_{01} & 0 & 0 & c_{01} & 0 & 0 & 0 & 0 & 0 & 0 & 0 & 0 & 0 & 0\\\\0 & e_{02} & b_{02} & f_{02} & 0 & 0 & c_{02} & 0 & 0 & 0 & 0 & 0 & 0 & 0 & 0 & 0\\\\0 & 0 & e_{03} & b_{03} & f_{03} & 0 & 0 & c_{03} & 0 & 0 & 0 & 0 & 0 & 0 & 0 & 0\\\\a_{10} & 0 & 0 & e_{10} & b_{10} & f_{10} & 0 & 0 & c_{10} & 0 & 0 & 0 & 0 & 0 & 0 & 0\\\\0 & a_{11} & 0 & 0 & e_{11} & b_{11} & f_{11} & 0 & 0 & c_{11} & 0 & 0 & 0 & 0 & 0 & 0\\\\0 & 0 & a_{12} & 0 & 0 & e_{12} & b_{12} & f_{12} & 0 & 0 & c_{12} & 0 & 0 & 0 & 0 & 0\\\\0 & 0 & 0 & a_{13} & 0 & 0 & e_{13} & b_{13} & f_{13} & 0 & 0 & c_{13} & 0 & 0 & 0 & 0\\\\0 & 0 & 0 & 0 & a_{20} & 0 & 0 & e_{20} & b_{20} & f_{20} & 0 & 0 & c_{20} & 0 & 0 & 0\\\\0 & 0 & 0 & 0 & 0 & a_{21} & 0 & 0 & e_{21} & b_{21} & f_{21} & 0 & 0 & c_{21} & 0 & 0\\\\0 & 0 & 0 & 0 & 0 & 0 & a_{22} & 0 & 0 & e_{22} & b_{22} & f_{22} & 0 & 0 & c_{22} & 0\\\\0 & 0 & 0 & 0 & 0 & 0 & 0 & a_{23} & 0 & 0 & e_{23} & b_{23} & f_{23} & 0 & 0 & c_{23}\\\\0 & 0 & 0 & 0 & 0 & 0 & 0 & 0 & a_{30} & 0 & 0 & e_{30} & b_{30} & f_{30} & 0 & 0\\\\0 & 0 & 0 & 0 & 0 & 0 & 0 & 0 & 0 & a_{31} & 0 & 0 & e_{31} & b_{31} & f_{31} & 0\\\\0 & 0 & 0 & 0 & 0 & 0 & 0 & 0 & 0 & 0 & a_{32} & 0 & 0 & e_{32} & b_{32} & f_{32}\\\\0 & 0 & 0 & 0 & 0 & 0 & 0 & 0 & 0 & 0 & 0 & a_{33} & 0 & 0 & e_{33} & b_{33}\\end{array}\\right]$"
      ],
      "text/plain": [
       "Matrix([\n",
       "[b_00, f_00,    0,    0, c_00,    0,    0,    0,    0,    0,    0,    0,    0,    0,    0,    0],\n",
       "[e_01, b_01, f_01,    0,    0, c_01,    0,    0,    0,    0,    0,    0,    0,    0,    0,    0],\n",
       "[   0, e_02, b_02, f_02,    0,    0, c_02,    0,    0,    0,    0,    0,    0,    0,    0,    0],\n",
       "[   0,    0, e_03, b_03, f_03,    0,    0, c_03,    0,    0,    0,    0,    0,    0,    0,    0],\n",
       "[a_10,    0,    0, e_10, b_10, f_10,    0,    0, c_10,    0,    0,    0,    0,    0,    0,    0],\n",
       "[   0, a_11,    0,    0, e_11, b_11, f_11,    0,    0, c_11,    0,    0,    0,    0,    0,    0],\n",
       "[   0,    0, a_12,    0,    0, e_12, b_12, f_12,    0,    0, c_12,    0,    0,    0,    0,    0],\n",
       "[   0,    0,    0, a_13,    0,    0, e_13, b_13, f_13,    0,    0, c_13,    0,    0,    0,    0],\n",
       "[   0,    0,    0,    0, a_20,    0,    0, e_20, b_20, f_20,    0,    0, c_20,    0,    0,    0],\n",
       "[   0,    0,    0,    0,    0, a_21,    0,    0, e_21, b_21, f_21,    0,    0, c_21,    0,    0],\n",
       "[   0,    0,    0,    0,    0,    0, a_22,    0,    0, e_22, b_22, f_22,    0,    0, c_22,    0],\n",
       "[   0,    0,    0,    0,    0,    0,    0, a_23,    0,    0, e_23, b_23, f_23,    0,    0, c_23],\n",
       "[   0,    0,    0,    0,    0,    0,    0,    0, a_30,    0,    0, e_30, b_30, f_30,    0,    0],\n",
       "[   0,    0,    0,    0,    0,    0,    0,    0,    0, a_31,    0,    0, e_31, b_31, f_31,    0],\n",
       "[   0,    0,    0,    0,    0,    0,    0,    0,    0,    0, a_32,    0,    0, e_32, b_32, f_32],\n",
       "[   0,    0,    0,    0,    0,    0,    0,    0,    0,    0,    0, a_33,    0,    0, e_33, b_33]])"
      ]
     },
     "metadata": {},
     "output_type": "display_data"
    },
    {
     "data": {
      "text/latex": [
       "$\\displaystyle \\left[\\begin{matrix}P_{00} b_{00} + P_{01} f_{00} + P_{10} c_{00}\\\\P_{00} e_{01} + P_{01} b_{01} + P_{02} f_{01} + P_{11} c_{01}\\\\P_{01} e_{02} + P_{02} b_{02} + P_{03} f_{02} + P_{12} c_{02}\\\\P_{02} e_{03} + P_{03} b_{03} + P_{10} f_{03} + P_{13} c_{03}\\\\P_{00} a_{10} + P_{03} e_{10} + P_{10} b_{10} + P_{11} f_{10} + P_{20} c_{10}\\\\P_{01} a_{11} + P_{10} e_{11} + P_{11} b_{11} + P_{12} f_{11} + P_{21} c_{11}\\\\P_{02} a_{12} + P_{11} e_{12} + P_{12} b_{12} + P_{13} f_{12} + P_{22} c_{12}\\\\P_{03} a_{13} + P_{12} e_{13} + P_{13} b_{13} + P_{20} f_{13} + P_{23} c_{13}\\\\P_{10} a_{20} + P_{13} e_{20} + P_{20} b_{20} + P_{21} f_{20} + P_{30} c_{20}\\\\P_{11} a_{21} + P_{20} e_{21} + P_{21} b_{21} + P_{22} f_{21} + P_{31} c_{21}\\\\P_{12} a_{22} + P_{21} e_{22} + P_{22} b_{22} + P_{23} f_{22} + P_{32} c_{22}\\\\P_{13} a_{23} + P_{22} e_{23} + P_{23} b_{23} + P_{30} f_{23} + P_{33} c_{23}\\\\P_{20} a_{30} + P_{23} e_{30} + P_{30} b_{30} + P_{31} f_{30}\\\\P_{21} a_{31} + P_{30} e_{31} + P_{31} b_{31} + P_{32} f_{31}\\\\P_{22} a_{32} + P_{31} e_{32} + P_{32} b_{32} + P_{33} f_{32}\\\\P_{23} a_{33} + P_{32} e_{33} + P_{33} b_{33}\\end{matrix}\\right]$"
      ],
      "text/plain": [
       "Matrix([\n",
       "[                        P_00*b_00 + P_01*f_00 + P_10*c_00],\n",
       "[            P_00*e_01 + P_01*b_01 + P_02*f_01 + P_11*c_01],\n",
       "[            P_01*e_02 + P_02*b_02 + P_03*f_02 + P_12*c_02],\n",
       "[            P_02*e_03 + P_03*b_03 + P_10*f_03 + P_13*c_03],\n",
       "[P_00*a_10 + P_03*e_10 + P_10*b_10 + P_11*f_10 + P_20*c_10],\n",
       "[P_01*a_11 + P_10*e_11 + P_11*b_11 + P_12*f_11 + P_21*c_11],\n",
       "[P_02*a_12 + P_11*e_12 + P_12*b_12 + P_13*f_12 + P_22*c_12],\n",
       "[P_03*a_13 + P_12*e_13 + P_13*b_13 + P_20*f_13 + P_23*c_13],\n",
       "[P_10*a_20 + P_13*e_20 + P_20*b_20 + P_21*f_20 + P_30*c_20],\n",
       "[P_11*a_21 + P_20*e_21 + P_21*b_21 + P_22*f_21 + P_31*c_21],\n",
       "[P_12*a_22 + P_21*e_22 + P_22*b_22 + P_23*f_22 + P_32*c_22],\n",
       "[P_13*a_23 + P_22*e_23 + P_23*b_23 + P_30*f_23 + P_33*c_23],\n",
       "[            P_20*a_30 + P_23*e_30 + P_30*b_30 + P_31*f_30],\n",
       "[            P_21*a_31 + P_30*e_31 + P_31*b_31 + P_32*f_31],\n",
       "[            P_22*a_32 + P_31*e_32 + P_32*b_32 + P_33*f_32],\n",
       "[                        P_23*a_33 + P_32*e_33 + P_33*b_33]])"
      ]
     },
     "metadata": {},
     "output_type": "display_data"
    }
   ],
   "source": [
    "square_matrix = Matrix(\n",
    "    [['b_00', 'f_00', 0, 0, 'c_00', 0, 0, 0, 0, 0, 0, 0, 0, 0, 0, 0],\n",
    "     ['e_01', 'b_01', 'f_01', 0, 0, 'c_01', 0, 0 ,0 ,0 ,0 ,0 ,0 ,0, 0, 0],\n",
    "     [0, 'e_02', 'b_02', 'f_02', 0, 0, 'c_02', 0, 0, 0, 0, 0, 0, 0, 0, 0],\n",
    "     [0 ,0, 'e_03', 'b_03', 'f_03', 0, 0, 'c_03', 0, 0, 0, 0, 0, 0, 0, 0],\n",
    "     ['a_10', 0, 0, 'e_10', 'b_10', 'f_10', 0, 0, 'c_10', 0, 0, 0, 0, 0, 0, 0],\n",
    "     [0, 'a_11', 0, 0, 'e_11', 'b_11', 'f_11', 0, 0, 'c_11', 0, 0, 0, 0, 0, 0],\n",
    "     [0, 0, 'a_12', 0, 0, 'e_12', 'b_12', 'f_12', 0, 0, 'c_12', 0, 0, 0, 0, 0],\n",
    "     [0, 0, 0, 'a_13', 0, 0, 'e_13', 'b_13', 'f_13', 0, 0, 'c_13', 0, 0, 0, 0],\n",
    "     [0, 0, 0, 0, 'a_20', 0, 0, 'e_20', 'b_20', 'f_20', 0, 0, 'c_20', 0, 0, 0],\n",
    "     [0, 0, 0, 0, 0, 'a_21', 0, 0, 'e_21', 'b_21', 'f_21', 0, 0, 'c_21', 0, 0],\n",
    "     [0 ,0, 0, 0, 0, 0, 'a_22', 0, 0, 'e_22', 'b_22', 'f_22', 0, 0, 'c_22', 0],\n",
    "     [0, 0, 0, 0, 0, 0, 0, 'a_23', 0, 0, 'e_23', 'b_23', 'f_23', 0, 0, 'c_23'],\n",
    "     [0, 0, 0, 0, 0, 0, 0, 0, 'a_30', 0, 0, 'e_30', 'b_30', 'f_30', 0, 0],\n",
    "     [0, 0, 0, 0, 0, 0, 0, 0, 0, 'a_31', 0, 0, 'e_31', 'b_31', 'f_31', 0],\n",
    "     [0, 0, 0, 0, 0, 0, 0, 0, 0, 0, 'a_32', 0, 0, 'e_32', 'b_32', 'f_32'],\n",
    "     [0, 0, 0, 0, 0, 0, 0, 0, 0, 0, 0, 'a_33', 0, 0, 'e_33', 'b_33'],\n",
    "     ]\n",
    ")\n",
    "        \n",
    "pressures_vector = Matrix(\n",
    "    [['P_00'], ['P_01'], ['P_02'], ['P_03'],\n",
    "     ['P_10'], ['P_11'], ['P_12'], ['P_13'],\n",
    "     ['P_20'], ['P_21'], ['P_22'], ['P_23'],\n",
    "     ['P_30'], ['P_31'], ['P_32'], ['P_33']]\n",
    ")\n",
    "\n",
    "display(square_matrix)\n",
    "display(square_matrix * pressures_vector)"
   ]
  },
  {
   "cell_type": "markdown",
   "metadata": {},
   "source": [
    "## Задание начальных и граничных условий"
   ]
  },
  {
   "cell_type": "code",
   "execution_count": 6,
   "metadata": {},
   "outputs": [],
   "source": [
    "p = []\n",
    "p.append(np.full((mesh_x_count, mesh_y_count), p_initial))"
   ]
  },
  {
   "cell_type": "code",
   "execution_count": 7,
   "metadata": {},
   "outputs": [
    {
     "data": {
      "text/plain": [
       "array([[-4.61111111,  1.        ,  0.        ,  0.        ,  1.        ,\n",
       "         0.        ,  0.        ,  0.        ,  0.        ,  0.        ,\n",
       "         0.        ,  0.        ,  0.        ,  0.        ,  0.        ,\n",
       "         0.        ],\n",
       "       [ 1.        , -4.61111111,  1.        ,  0.        ,  0.        ,\n",
       "         1.        ,  0.        ,  0.        ,  0.        ,  0.        ,\n",
       "         0.        ,  0.        ,  0.        ,  0.        ,  0.        ,\n",
       "         0.        ],\n",
       "       [ 0.        ,  1.        , -4.61111111,  1.        ,  0.        ,\n",
       "         0.        ,  1.        ,  0.        ,  0.        ,  0.        ,\n",
       "         0.        ,  0.        ,  0.        ,  0.        ,  0.        ,\n",
       "         0.        ],\n",
       "       [ 0.        ,  0.        ,  1.        , -4.61111111,  1.        ,\n",
       "         0.        ,  0.        ,  1.        ,  0.        ,  0.        ,\n",
       "         0.        ,  0.        ,  0.        ,  0.        ,  0.        ,\n",
       "         0.        ],\n",
       "       [ 1.        ,  0.        ,  0.        ,  1.        , -4.61111111,\n",
       "         1.        ,  0.        ,  0.        ,  1.        ,  0.        ,\n",
       "         0.        ,  0.        ,  0.        ,  0.        ,  0.        ,\n",
       "         0.        ],\n",
       "       [ 0.        ,  1.        ,  0.        ,  0.        ,  1.        ,\n",
       "        -4.45833333,  1.        ,  0.        ,  0.        ,  1.        ,\n",
       "         0.        ,  0.        ,  0.        ,  0.        ,  0.        ,\n",
       "         0.        ],\n",
       "       [ 0.        ,  0.        ,  1.        ,  0.        ,  0.        ,\n",
       "         1.        , -4.45833333,  1.        ,  0.        ,  0.        ,\n",
       "         1.        ,  0.        ,  0.        ,  0.        ,  0.        ,\n",
       "         0.        ],\n",
       "       [ 0.        ,  0.        ,  0.        ,  1.        ,  0.        ,\n",
       "         0.        ,  1.        , -4.45833333,  1.        ,  0.        ,\n",
       "         0.        ,  1.        ,  0.        ,  0.        ,  0.        ,\n",
       "         0.        ],\n",
       "       [ 0.        ,  0.        ,  0.        ,  0.        ,  1.        ,\n",
       "         0.        ,  0.        ,  1.        , -4.61111111,  1.        ,\n",
       "         0.        ,  0.        ,  1.        ,  0.        ,  0.        ,\n",
       "         0.        ],\n",
       "       [ 0.        ,  0.        ,  0.        ,  0.        ,  0.        ,\n",
       "         1.        ,  0.        ,  0.        ,  1.        , -4.45833333,\n",
       "         1.        ,  0.        ,  0.        ,  1.        ,  0.        ,\n",
       "         0.        ],\n",
       "       [ 0.        ,  0.        ,  0.        ,  0.        ,  0.        ,\n",
       "         0.        ,  1.        ,  0.        ,  0.        ,  1.        ,\n",
       "        -4.45833333,  1.        ,  0.        ,  0.        ,  1.        ,\n",
       "         0.        ],\n",
       "       [ 0.        ,  0.        ,  0.        ,  0.        ,  0.        ,\n",
       "         0.        ,  0.        ,  1.        ,  0.        ,  0.        ,\n",
       "         1.        , -4.36666667,  1.        ,  0.        ,  0.        ,\n",
       "         1.        ],\n",
       "       [ 0.        ,  0.        ,  0.        ,  0.        ,  0.        ,\n",
       "         0.        ,  0.        ,  0.        ,  1.        ,  0.        ,\n",
       "         0.        ,  1.        , -4.61111111,  1.        ,  0.        ,\n",
       "         0.        ],\n",
       "       [ 0.        ,  0.        ,  0.        ,  0.        ,  0.        ,\n",
       "         0.        ,  0.        ,  0.        ,  0.        ,  1.        ,\n",
       "         0.        ,  0.        ,  1.        , -4.45833333,  1.        ,\n",
       "         0.        ],\n",
       "       [ 0.        ,  0.        ,  0.        ,  0.        ,  0.        ,\n",
       "         0.        ,  0.        ,  0.        ,  0.        ,  0.        ,\n",
       "         1.        ,  0.        ,  0.        ,  1.        , -4.36666667,\n",
       "         1.        ],\n",
       "       [ 0.        ,  0.        ,  0.        ,  0.        ,  0.        ,\n",
       "         0.        ,  0.        ,  0.        ,  0.        ,  0.        ,\n",
       "         0.        ,  1.        ,  0.        ,  0.        ,  1.        ,\n",
       "        -4.45833333]])"
      ]
     },
     "execution_count": 7,
     "metadata": {},
     "output_type": "execute_result"
    }
   ],
   "source": [
    "system_matrix = np.zeros((mesh_x_count * mesh_y_count, mesh_x_count * mesh_y_count))\n",
    "d = np.zeros(mesh_x_count * mesh_y_count)\n",
    "\n",
    "for i in range(mesh_x_count):\n",
    "    for j in range(mesh_x_count):\n",
    "        system_matrix[i * mesh_x_count + j, i * mesh_x_count + j] = -2 - 2 * beta - gamma[i, j]\n",
    "        d[i * mesh_x_count + j] = -gamma[i, j] * p[-1][i, j] \n",
    "system_matrix += np.diag([beta] * (mesh_x_count * mesh_y_count - 1), k=-1)\n",
    "system_matrix += np.diag([beta] * (mesh_x_count * mesh_y_count - 1), k=1)\n",
    "system_matrix += np.diag([1] * (mesh_y_count * mesh_x_count - mesh_x_count), k=mesh_x_count)\n",
    "system_matrix += np.diag([1] * (mesh_y_count * mesh_x_count - mesh_x_count), k=-mesh_x_count)\n",
    "system_matrix"
   ]
  },
  {
   "cell_type": "code",
   "execution_count": 8,
   "metadata": {},
   "outputs": [],
   "source": [
    "# условие устраняющие связь последних ячеек в ряду с первой ячейкой в следующем ряду\n",
    "system_matrix[3, 4] = 0\n",
    "system_matrix[4, 3] = 0\n",
    "system_matrix[7, 8] = 0\n",
    "system_matrix[8, 7] = 0\n",
    "system_matrix[11, 12] = 0\n",
    "system_matrix[12, 11] = 0\n",
    "\n",
    "\n",
    "# ГУ в ячейке 4 (добывающая скважина)\n",
    "system_matrix[3, 2] = beta\n",
    "system_matrix[3, 3] = -1 - beta - gamma[0, 3]\n",
    "system_matrix[3, 7] = 1\n",
    "system_matrix[3, 4] = 0\n",
    "d[3] = -gamma[0, 3] * p[-1][0, 3] + q_prod * mu / (dy * k[0, 3])\n",
    "\n",
    "# ГУ в ячейке 13 (нагнетательная скважина)\n",
    "system_matrix[12, 11] = 0\n",
    "system_matrix[12, 8] = 1\n",
    "system_matrix[12, 12] = -1 - beta - gamma[3, 0]\n",
    "system_matrix[12, 13] = beta\n",
    "d[12] = -gamma[3, 0] * p[-1][3, 0] - q_inj * mu / (dy * k[3, 0])\n"
   ]
  },
  {
   "cell_type": "code",
   "execution_count": 9,
   "metadata": {},
   "outputs": [],
   "source": [
    "p.append(np.linalg.solve(system_matrix, d).reshape(mesh_x_count, mesh_y_count))"
   ]
  },
  {
   "cell_type": "code",
   "execution_count": 10,
   "metadata": {},
   "outputs": [
    {
     "data": {
      "text/plain": [
       "array([[ 6259497.12775634,  8304262.40726347,  9211482.30601594,\n",
       "        11260569.59295853],\n",
       "       [ 8336752.12627965, 10598674.99972039, 10688114.18862927,\n",
       "         8586177.80399306],\n",
       "       [ 9361296.01036833, 10756630.65158103, 10088173.98124277,\n",
       "         7164692.26121459],\n",
       "       [11850371.04772663,  8741833.33030059,  7200338.56494914,\n",
       "         5278137.75540121]])"
      ]
     },
     "execution_count": 10,
     "metadata": {},
     "output_type": "execute_result"
    }
   ],
   "source": [
    "p[-1]"
   ]
  },
  {
   "cell_type": "code",
   "execution_count": 11,
   "metadata": {},
   "outputs": [
    {
     "data": {
      "text/plain": [
       "<matplotlib.colorbar.Colorbar at 0x17dcaef38b0>"
      ]
     },
     "execution_count": 11,
     "metadata": {},
     "output_type": "execute_result"
    },
    {
     "data": {
      "image/png": "[encoded data removed]",
      "text/plain": [
       "<Figure size 432x288 with 2 Axes>"
      ]
     },
     "metadata": {
      "needs_background": "light"
     },
     "output_type": "display_data"
    }
   ],
   "source": [
    "plt.imshow(p[-1] / 1e6)\n",
    "plt.colorbar()"
   ]
  },
  {
   "cell_type": "code",
   "execution_count": null,
   "metadata": {},
   "outputs": [],
   "source": []
  }
 ],
 "metadata": {
  "kernelspec": {
   "display_name": "Python 3",
   "language": "python",
   "name": "python3"
  },
  "language_info": {
   "codemirror_mode": {
    "name": "ipython",
    "version": 3
   },
   "file_extension": ".py",
   "mimetype": "text/x-python",
   "name": "python",
   "nbconvert_exporter": "python",
   "pygments_lexer": "ipython3",
   "version": "3.8.5"
  }
 },
 "nbformat": 4,
 "nbformat_minor": 4
}
