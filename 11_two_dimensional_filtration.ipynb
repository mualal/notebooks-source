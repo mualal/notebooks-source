{
 "cells": [
  {
   "cell_type": "markdown",
   "metadata": {},
   "source": [
    "# Неявное решение уравнения фильтрации однофазной жидкости в двухмерном пласте\n",
    "\n",
    "Муравцев Александр. Вариант 16"
   ]
  },
  {
   "cell_type": "code",
   "execution_count": 1,
   "metadata": {},
   "outputs": [],
   "source": [
    "import numpy as np\n",
    "import matplotlib.pyplot as plt"
   ]
  },
  {
   "cell_type": "markdown",
   "metadata": {},
   "source": [
    "## Задание значений входных параметров и перевод единиц измерения в СИ"
   ]
  },
  {
   "cell_type": "code",
   "execution_count": 2,
   "metadata": {},
   "outputs": [],
   "source": [
    "mesh_x_count = 4  # количество ячеек по пространству в направлении оси Ox\n",
    "mesh_y_count = 4  # количество ячеек по пространству в направлении оси Oy\n",
    "mesh_t_count = 1000  # количество шагов по времени"
   ]
  },
  {
   "cell_type": "code",
   "execution_count": 3,
   "metadata": {},
   "outputs": [],
   "source": [
    "dt = 10  # сут, временной шаг\n",
    "dt *= 24 * 60 * 60  # с, временной шаг\n",
    "\n",
    "m = 0.18  # пористость\n",
    "\n",
    "mu = 4  # мПа*с, вязкость жидкости\n",
    "mu *= 1e-3  # Па*с, вязкость жидкости\n",
    "\n",
    "k = np.array([\n",
    "    [30.0, 30.0, 30.0, 30.0],\n",
    "    [30.0, 40.0, 40.0, 40.0],\n",
    "    [30.0, 40.0, 40.0, 50.0],\n",
    "    [30.0, 40.0, 50.0, 40.0]\n",
    "])  # мД, проницаемость\n",
    "k *= 1e-3 * (1e-6) ** 2  # м^2, проницаемость\n",
    "\n",
    "dx = 100  # м, ширина ячейки по оси Ox\n",
    "dy = 100  # м, ширина ячейки по оси Oy\n",
    "\n",
    "h = 50  # м, толщина пласта\n",
    "\n",
    "b_liq = 1  # м^3/м^3, объёмный коэффициент жидкости\n",
    "\n",
    "compr = 2.2e-9  # Па^(-1), общая сжимаемость\n",
    "\n",
    "p_initial = 20  # МПа, начальное пластовое давление\n",
    "p_initial *= 1e6  # Па, начальное пластовое давление\n",
    "\n",
    "q_inj = 40  # м^3/сут, расход нагнетательной скважины в поверхностных условиях\n",
    "q_inj /= (24 * 60 * 60)  # м^3/с, расход нагнетательной скважины в поверхностных условиях\n",
    "\n",
    "q_prod = 40  # м^3/сут, дебит добывающей скважины в поверхностных условиях\n",
    "q_prod /= (24 * 60 * 60)  # м^3/с, дебит добывающей скважины в поверхностных условиях"
   ]
  },
  {
   "cell_type": "code",
   "execution_count": null,
   "metadata": {},
   "outputs": [],
   "source": []
  }
 ],
 "metadata": {
  "kernelspec": {
   "display_name": "Python 3",
   "language": "python",
   "name": "python3"
  },
  "language_info": {
   "codemirror_mode": {
    "name": "ipython",
    "version": 3
   },
   "file_extension": ".py",
   "mimetype": "text/x-python",
   "name": "python",
   "nbconvert_exporter": "python",
   "pygments_lexer": "ipython3",
   "version": "3.8.5"
  }
 },
 "nbformat": 4,
 "nbformat_minor": 4
}
