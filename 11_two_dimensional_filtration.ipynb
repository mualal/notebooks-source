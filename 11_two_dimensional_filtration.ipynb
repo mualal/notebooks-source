{
 "cells": [
  {
   "cell_type": "markdown",
   "metadata": {},
   "source": [
    "# Неявное решение уравнения фильтрации однофазной жидкости в двухмерном пласте\n",
    "\n",
    "Муравцев Александр. Вариант 16"
   ]
  },
  {
   "cell_type": "code",
   "execution_count": 1,
   "metadata": {},
   "outputs": [],
   "source": [
    "import numpy as np\n",
    "import matplotlib.pyplot as plt"
   ]
  },
  {
   "cell_type": "markdown",
   "metadata": {},
   "source": [
    "## Задание значений входных параметров и перевод единиц измерения в СИ"
   ]
  },
  {
   "cell_type": "code",
   "execution_count": 2,
   "metadata": {},
   "outputs": [],
   "source": [
    "mesh_x_count = 4  # количество ячеек по пространству в направлении оси Ox\n",
    "mesh_y_count = 4  # количество ячеек по пространству в направлении оси Oy\n",
    "mesh_t_count = 1000  # количество шагов по времени"
   ]
  },
  {
   "cell_type": "code",
   "execution_count": 3,
   "metadata": {},
   "outputs": [],
   "source": [
    "dt = 10  # сут, временной шаг\n",
    "dt *= 24 * 60 * 60  # с, временной шаг\n",
    "\n",
    "m = 0.18  # пористость\n",
    "\n",
    "mu = 4  # мПа*с, вязкость жидкости\n",
    "mu *= 1e-3  # Па*с, вязкость жидкости\n",
    "\n",
    "k = np.array([\n",
    "    [30.0, 30.0, 30.0, 30.0],\n",
    "    [30.0, 40.0, 40.0, 40.0],\n",
    "    [30.0, 40.0, 40.0, 50.0],\n",
    "    [30.0, 40.0, 50.0, 40.0]\n",
    "])  # мД, проницаемость\n",
    "k *= 1e-3 * (1e-6) ** 2  # м^2, проницаемость\n",
    "\n",
    "dx = 100  # м, ширина ячейки по оси Ox\n",
    "dy = 100  # м, ширина ячейки по оси Oy\n",
    "\n",
    "h = 50  # м, толщина пласта\n",
    "\n",
    "b_liq = 1  # м^3/м^3, объёмный коэффициент жидкости\n",
    "\n",
    "compr = 2.2e-9  # Па^(-1), общая сжимаемость\n",
    "\n",
    "p_initial = 20  # МПа, начальное пластовое давление\n",
    "p_initial *= 1e6  # Па, начальное пластовое давление\n",
    "\n",
    "q_inj = 40  # м^3/сут, расход нагнетательной скважины в поверхностных условиях\n",
    "q_inj /= (24 * 60 * 60)  # м^3/с, расход нагнетательной скважины в поверхностных условиях\n",
    "\n",
    "q_prod = 40  # м^3/сут, дебит добывающей скважины в поверхностных условиях\n",
    "q_prod /= (24 * 60 * 60)  # м^3/с, дебит добывающей скважины в поверхностных условиях"
   ]
  },
  {
   "cell_type": "code",
   "execution_count": 4,
   "metadata": {},
   "outputs": [],
   "source": [
    "# безразмерные множители, входящие в формулы неяного метода\n",
    "gamma = (m * mu * compr / k) * (dx ** 2 / dt)\n",
    "beta = (dx / dy) ** 2"
   ]
  },
  {
   "cell_type": "code",
   "execution_count": 5,
   "metadata": {},
   "outputs": [],
   "source": [
    "p = []\n",
    "p.append(np.full((mesh_x_count, mesh_y_count), p_initial))"
   ]
  },
  {
   "cell_type": "code",
   "execution_count": 6,
   "metadata": {},
   "outputs": [
    {
     "data": {
      "text/plain": [
       "array([[-4.61111111,  1.        ,  0.        ,  0.        ,  1.        ,\n",
       "         0.        ,  0.        ,  0.        ,  0.        ,  0.        ,\n",
       "         0.        ,  0.        ,  0.        ,  0.        ,  0.        ,\n",
       "         0.        ],\n",
       "       [ 1.        , -4.61111111,  1.        ,  0.        ,  0.        ,\n",
       "         1.        ,  0.        ,  0.        ,  0.        ,  0.        ,\n",
       "         0.        ,  0.        ,  0.        ,  0.        ,  0.        ,\n",
       "         0.        ],\n",
       "       [ 0.        ,  1.        , -4.61111111,  1.        ,  0.        ,\n",
       "         0.        ,  1.        ,  0.        ,  0.        ,  0.        ,\n",
       "         0.        ,  0.        ,  0.        ,  0.        ,  0.        ,\n",
       "         0.        ],\n",
       "       [ 0.        ,  0.        ,  1.        , -4.61111111,  1.        ,\n",
       "         0.        ,  0.        ,  1.        ,  0.        ,  0.        ,\n",
       "         0.        ,  0.        ,  0.        ,  0.        ,  0.        ,\n",
       "         0.        ],\n",
       "       [ 1.        ,  0.        ,  0.        ,  1.        , -4.61111111,\n",
       "         1.        ,  0.        ,  0.        ,  1.        ,  0.        ,\n",
       "         0.        ,  0.        ,  0.        ,  0.        ,  0.        ,\n",
       "         0.        ],\n",
       "       [ 0.        ,  1.        ,  0.        ,  0.        ,  1.        ,\n",
       "        -4.45833333,  1.        ,  0.        ,  0.        ,  1.        ,\n",
       "         0.        ,  0.        ,  0.        ,  0.        ,  0.        ,\n",
       "         0.        ],\n",
       "       [ 0.        ,  0.        ,  1.        ,  0.        ,  0.        ,\n",
       "         1.        , -4.45833333,  1.        ,  0.        ,  0.        ,\n",
       "         1.        ,  0.        ,  0.        ,  0.        ,  0.        ,\n",
       "         0.        ],\n",
       "       [ 0.        ,  0.        ,  0.        ,  1.        ,  0.        ,\n",
       "         0.        ,  1.        , -4.45833333,  1.        ,  0.        ,\n",
       "         0.        ,  1.        ,  0.        ,  0.        ,  0.        ,\n",
       "         0.        ],\n",
       "       [ 0.        ,  0.        ,  0.        ,  0.        ,  1.        ,\n",
       "         0.        ,  0.        ,  1.        , -4.61111111,  1.        ,\n",
       "         0.        ,  0.        ,  1.        ,  0.        ,  0.        ,\n",
       "         0.        ],\n",
       "       [ 0.        ,  0.        ,  0.        ,  0.        ,  0.        ,\n",
       "         1.        ,  0.        ,  0.        ,  1.        , -4.45833333,\n",
       "         1.        ,  0.        ,  0.        ,  1.        ,  0.        ,\n",
       "         0.        ],\n",
       "       [ 0.        ,  0.        ,  0.        ,  0.        ,  0.        ,\n",
       "         0.        ,  1.        ,  0.        ,  0.        ,  1.        ,\n",
       "        -4.45833333,  1.        ,  0.        ,  0.        ,  1.        ,\n",
       "         0.        ],\n",
       "       [ 0.        ,  0.        ,  0.        ,  0.        ,  0.        ,\n",
       "         0.        ,  0.        ,  1.        ,  0.        ,  0.        ,\n",
       "         1.        , -4.36666667,  1.        ,  0.        ,  0.        ,\n",
       "         1.        ],\n",
       "       [ 0.        ,  0.        ,  0.        ,  0.        ,  0.        ,\n",
       "         0.        ,  0.        ,  0.        ,  1.        ,  0.        ,\n",
       "         0.        ,  1.        , -4.61111111,  1.        ,  0.        ,\n",
       "         0.        ],\n",
       "       [ 0.        ,  0.        ,  0.        ,  0.        ,  0.        ,\n",
       "         0.        ,  0.        ,  0.        ,  0.        ,  1.        ,\n",
       "         0.        ,  0.        ,  1.        , -4.45833333,  1.        ,\n",
       "         0.        ],\n",
       "       [ 0.        ,  0.        ,  0.        ,  0.        ,  0.        ,\n",
       "         0.        ,  0.        ,  0.        ,  0.        ,  0.        ,\n",
       "         1.        ,  0.        ,  0.        ,  1.        , -4.36666667,\n",
       "         1.        ],\n",
       "       [ 0.        ,  0.        ,  0.        ,  0.        ,  0.        ,\n",
       "         0.        ,  0.        ,  0.        ,  0.        ,  0.        ,\n",
       "         0.        ,  1.        ,  0.        ,  0.        ,  1.        ,\n",
       "        -4.45833333]])"
      ]
     },
     "execution_count": 6,
     "metadata": {},
     "output_type": "execute_result"
    }
   ],
   "source": [
    "system_matrix = np.zeros((mesh_x_count * mesh_y_count, mesh_x_count * mesh_y_count))\n",
    "d = np.zeros(mesh_x_count * mesh_y_count)\n",
    "\n",
    "for i in range(mesh_x_count):\n",
    "    for j in range(mesh_x_count):\n",
    "        system_matrix[i * mesh_x_count + j, i * mesh_x_count + j] = -2 - 2 * beta - gamma[i, j]\n",
    "        d[i * mesh_x_count + j] = -gamma[i, j] * p[-1][i, j] \n",
    "system_matrix += np.diag([1] * (mesh_x_count * mesh_y_count - 1), k=-1)\n",
    "system_matrix += np.diag([1] * (mesh_x_count * mesh_y_count - 1), k=1)\n",
    "system_matrix += np.diag([beta] * (mesh_y_count * mesh_x_count - mesh_x_count), k=mesh_x_count)\n",
    "system_matrix += np.diag([beta] * (mesh_y_count * mesh_x_count - mesh_x_count), k=-mesh_x_count)\n",
    "system_matrix"
   ]
  },
  {
   "cell_type": "code",
   "execution_count": 7,
   "metadata": {},
   "outputs": [
    {
     "data": {
      "text/plain": [
       "array([[ 7107323.2523102 ,  8857879.01307603,  9371313.11789145,\n",
       "         9877081.39582625],\n",
       "       [11692555.98368765, 12143805.74564892, 12254983.41248607,\n",
       "        12258228.44584195],\n",
       "       [12565242.19766326, 12169048.87343504, 11696787.07128471,\n",
       "        10787294.81506979],\n",
       "       [ 9597672.38626039,  8681174.54613433,  7770181.92515345,\n",
       "         6218499.455751  ]])"
      ]
     },
     "execution_count": 7,
     "metadata": {},
     "output_type": "execute_result"
    }
   ],
   "source": [
    "np.linalg.solve(system_matrix, d).reshape(mesh_x_count, mesh_y_count)"
   ]
  },
  {
   "cell_type": "code",
   "execution_count": 8,
   "metadata": {},
   "outputs": [
    {
     "data": {
      "text/plain": [
       "array([[20000000., 20000000., 20000000., 20000000.],\n",
       "       [20000000., 20000000., 20000000., 20000000.],\n",
       "       [20000000., 20000000., 20000000., 20000000.],\n",
       "       [20000000., 20000000., 20000000., 20000000.]])"
      ]
     },
     "execution_count": 8,
     "metadata": {},
     "output_type": "execute_result"
    }
   ],
   "source": [
    "p[-1]"
   ]
  },
  {
   "cell_type": "code",
   "execution_count": null,
   "metadata": {},
   "outputs": [],
   "source": []
  }
 ],
 "metadata": {
  "kernelspec": {
   "display_name": "Python 3",
   "language": "python",
   "name": "python3"
  },
  "language_info": {
   "codemirror_mode": {
    "name": "ipython",
    "version": 3
   },
   "file_extension": ".py",
   "mimetype": "text/x-python",
   "name": "python",
   "nbconvert_exporter": "python",
   "pygments_lexer": "ipython3",
   "version": "3.8.5"
  }
 },
 "nbformat": 4,
 "nbformat_minor": 4
}
